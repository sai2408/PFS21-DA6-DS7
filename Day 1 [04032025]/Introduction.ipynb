{
  "nbformat": 4,
  "nbformat_minor": 0,
  "metadata": {
    "colab": {
      "provenance": []
    },
    "kernelspec": {
      "name": "python3",
      "display_name": "Python 3"
    },
    "language_info": {
      "name": "python"
    }
  },
  "cells": [
    {
      "cell_type": "markdown",
      "source": [
        "#Problem Solving Steps\n",
        "    1. Algorithm Developement\n",
        "        Step by Step Process\n",
        "    2. Flow Chart Design\n",
        "        Graphical representation of Process\n",
        "    3. Pseudo Code\n",
        "        Semi code of Process\n",
        "    4. Source Code\n",
        "        Complete Code"
      ],
      "metadata": {
        "id": "gdAgoF23io2W"
      }
    },
    {
      "cell_type": "markdown",
      "source": [
        "#Translator\n",
        "    The machine converts high level language to machine level language\n",
        "\n",
        "    Types of Translators:\n",
        "        1. Compiler\n",
        "        2. Assembler\n",
        "        3. Interpreter"
      ],
      "metadata": {
        "id": "lg5tlMgqjRGP"
      }
    },
    {
      "cell_type": "markdown",
      "source": [
        "#PYTHON"
      ],
      "metadata": {
        "id": "mQmRN-sDjHSi"
      }
    },
    {
      "cell_type": "markdown",
      "source": [
        "#History of Python\n",
        "    Python is an object-oriented and open-source language developed in the 1980s by Dutchman\n",
        "    Guido van Rossum.\n",
        "\n",
        "    Inception And Development : In the early 1980s Van Rossum used to work at CWI (Centrum voor\n",
        "    Wiskunde en Informatica) as an implementer of the programming language called ABC.\n",
        "\n",
        "    Later at CWI in the late 1980s, while working on a new distributed operating system called\n",
        "    AMOEBA, Van Rossum started looking for a scripting language with a syntax like ABC\n",
        "\n",
        "    Behind the name : Back in the 1970s, there was a popular BBC comedy tv show called Monty\n",
        "    Python’s Fly Circus and Van Rossum happened to be the big fan of that show.\n"
      ],
      "metadata": {
        "id": "O8Frrknsh1Hu"
      }
    },
    {
      "cell_type": "markdown",
      "source": [
        "#Variables\n",
        "    1. Varibale Naming Rules\n",
        "    2. Assignment\n",
        "    3. Reassignment\n",
        "    4. Multiple Assignment\n",
        "    5. Swapping\n",
        "    6. Deleting"
      ],
      "metadata": {
        "id": "SBenWSCgj1xs"
      }
    },
    {
      "cell_type": "code",
      "source": [],
      "metadata": {
        "id": "j_xhBA4nm6J-"
      },
      "execution_count": null,
      "outputs": []
    },
    {
      "cell_type": "markdown",
      "source": [
        "#Comments\n",
        "    Single line Comments\n",
        "        # content\n",
        "    Multi line Comments\n",
        "        ''' content\n",
        "            content\n",
        "            content '''\n",
        "\n",
        "              (or)\n",
        "        \"\"\" content\n",
        "            content\n",
        "            content \"\"\""
      ],
      "metadata": {
        "id": "3l4NxYftQcTl"
      }
    },
    {
      "cell_type": "code",
      "source": [],
      "metadata": {
        "id": "43axifcTQ0DT"
      },
      "execution_count": null,
      "outputs": []
    },
    {
      "cell_type": "markdown",
      "source": [
        "#Data Types\n",
        "    1. Numeric Types:\n",
        "        int\n",
        "        flaot\n",
        "        complex\n",
        "    2. Sequence Types:\n",
        "        list\n",
        "        tuple\n",
        "    3. Mapping Types:\n",
        "        dict\n",
        "    4. Set types\n",
        "        sets\n",
        "        frozensets\n",
        "    5. Boolean Types\n",
        "        bool [ True / False ]\n",
        "    6. Text Type:\n",
        "        Strings"
      ],
      "metadata": {
        "id": "KBUZUrBIEHlq"
      }
    },
    {
      "cell_type": "markdown",
      "source": [
        "#Numeric\n",
        "    1. Int\n",
        "    2. Float\n",
        "    3. Complex"
      ],
      "metadata": {
        "id": "SZmTwTwkEW-y"
      }
    },
    {
      "cell_type": "code",
      "source": [],
      "metadata": {
        "id": "P1Ppy-9WEX2J"
      },
      "execution_count": null,
      "outputs": []
    }
  ]
}