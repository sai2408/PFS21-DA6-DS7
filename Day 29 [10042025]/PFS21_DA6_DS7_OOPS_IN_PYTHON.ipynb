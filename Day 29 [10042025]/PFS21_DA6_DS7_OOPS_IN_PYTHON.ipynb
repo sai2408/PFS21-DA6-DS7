{
  "nbformat": 4,
  "nbformat_minor": 0,
  "metadata": {
    "colab": {
      "provenance": []
    },
    "kernelspec": {
      "name": "python3",
      "display_name": "Python 3"
    },
    "language_info": {
      "name": "python"
    }
  },
  "cells": [
    {
      "cell_type": "markdown",
      "source": [
        "#OOPS IN PYTHON\n",
        "    1. Class\n",
        "    2. Object\n",
        "    3. Attributes\n",
        "    4. Methods\n",
        "    5. Constructors"
      ],
      "metadata": {
        "id": "ogHMnCf9J05C"
      }
    },
    {
      "cell_type": "code",
      "source": [
        "class hello:\n",
        "  a = 10\n",
        "  b = 20\n",
        "  #wopor\n",
        "  def hello1(self):\n",
        "    print(\"I am from hello class (1)\")\n",
        "  def hello2(self,a,b):\n",
        "    print(a+b)\n",
        "  def hello3(self):\n",
        "    return \"I am from hello class (2)\"\n",
        "  def hello4(self,a,b):\n",
        "    return a+b\n",
        "ob1 = hello()\n",
        "print(ob1.a)\n",
        "print(ob1.b)\n",
        "ob1.hello1()\n",
        "ob1.hello2(10,20)\n",
        "res1 = ob1.hello3()\n",
        "print(res1)\n",
        "res2 = ob1.hello4(50,60)\n",
        "print(res2)\n"
      ],
      "metadata": {
        "colab": {
          "base_uri": "https://localhost:8080/"
        },
        "id": "s0fGq3DPKv9F",
        "outputId": "3f543eac-3c86-4512-a446-92cb095bf21c"
      },
      "execution_count": null,
      "outputs": [
        {
          "output_type": "stream",
          "name": "stdout",
          "text": [
            "10\n",
            "20\n",
            "I am from hello class (1)\n",
            "30\n",
            "I am from hello class (2)\n",
            "110\n"
          ]
        }
      ]
    },
    {
      "cell_type": "code",
      "source": [
        "class codegnan:\n",
        "  def pfs21(self):\n",
        "    print(\"I am from PFS21\")\n",
        "  def da6(self):\n",
        "    return \"I am from DA6\"\n",
        "x = codegnan()\n",
        "x.pfs21()\n",
        "print(x.da6())"
      ],
      "metadata": {
        "colab": {
          "base_uri": "https://localhost:8080/"
        },
        "id": "C8GX1Pm4Mc-G",
        "outputId": "96b33df9-80e3-480d-ea90-37da4cfa529c"
      },
      "execution_count": null,
      "outputs": [
        {
          "output_type": "stream",
          "name": "stdout",
          "text": [
            "I am from PFS21\n",
            "I am from DA6\n"
          ]
        }
      ]
    },
    {
      "cell_type": "code",
      "source": [
        "class movie:\n",
        "  movie_name = \"Pushpa 2\"\n",
        "  def director(self):\n",
        "    print(self.movie_name)\n",
        "    print(\"Sukumar\")\n",
        "  def padindrome_song(self):\n",
        "    song_name = input(\"Enter song name: \")\n",
        "    if song_name == song_name[::-1]:\n",
        "      print(\"It is palindrome Song\")\n",
        "    else:\n",
        "      print(\"It is not Palindrome song\")\n",
        "mv = movie()\n",
        "mv.director()\n",
        "mv.padindrome_song()"
      ],
      "metadata": {
        "colab": {
          "base_uri": "https://localhost:8080/"
        },
        "id": "r1e55cGXOQh8",
        "outputId": "49834e16-e392-403f-9df7-e71bc4e4a388"
      },
      "execution_count": null,
      "outputs": [
        {
          "output_type": "stream",
          "name": "stdout",
          "text": [
            "Pushpa 2\n",
            "Sukumar\n",
            "Enter song name: kisik\n",
            "It is palindrome Song\n"
          ]
        }
      ]
    },
    {
      "cell_type": "code",
      "source": [
        "class node:\n",
        "  data = None\n",
        "  address = None\n",
        "\n",
        "n1 = node()\n",
        "n1.data = 10\n",
        "print(n1)\n",
        "\n",
        "n2 = node()\n",
        "n2.data = 20\n",
        "print(n2)\n",
        "n1.address = n2\n",
        "\n",
        "n3 = node()\n",
        "n3.data = 30\n",
        "n2.address = n3\n",
        "\n",
        "\n",
        "print(n1.data)\n",
        "print(n1.address)\n",
        "print(n2.data)\n",
        "print(n2.address)\n",
        "\n",
        "print(\"Accessing of data\")\n",
        "print(n1.data)\n",
        "print(n1.address.data)\n",
        "print(n1.address.address.data)"
      ],
      "metadata": {
        "colab": {
          "base_uri": "https://localhost:8080/"
        },
        "id": "_LfYcEs9Rx2e",
        "outputId": "23741b43-8172-4655-8f16-82016a903310"
      },
      "execution_count": null,
      "outputs": [
        {
          "output_type": "stream",
          "name": "stdout",
          "text": [
            "<__main__.node object at 0x7e33e3299750>\n",
            "<__main__.node object at 0x7e33e3299890>\n",
            "10\n",
            "<__main__.node object at 0x7e33e3299890>\n",
            "20\n",
            "<__main__.node object at 0x7e33e3272890>\n",
            "Accessing of data\n",
            "10\n",
            "20\n",
            "30\n"
          ]
        }
      ]
    },
    {
      "cell_type": "code",
      "source": [
        "#Parameterized\n",
        "'''\n",
        "class hello:\n",
        "  def __init__(self,a,b):\n",
        "    print(\"Hello\",a+b)\n",
        "  def display(self,x,y):\n",
        "    print(\"Hello Codegnan\",x+y)\n",
        "obj = hello(100,200)\n",
        "obj.display(10,20)\n",
        "'''\n",
        "#Non Parameterized\n",
        "'''\n",
        "class hello:\n",
        "  def __init__(self):\n",
        "    print(\"I am a Consustuctor of Hello class\")\n",
        "  def display(self):\n",
        "    print(\"HEllo World\")\n",
        "obj1 = hello()\n",
        "obj1.display()\n",
        "'''\n",
        "#Problem\n",
        "class Rectangle:\n",
        "  def __init__(self,a,b):\n",
        "    self.a = a\n",
        "    self.b = b\n",
        "  def area(self):\n",
        "    print(\"The area is \", self.a * self.b)\n",
        "  def perimeter(self):\n",
        "    print(\"The Perimeter is \",2*(self.a+self.b))\n",
        "r1 = Rectangle(2,4)\n",
        "r1.area()\n",
        "r1.perimeter()\n",
        "\n",
        "r2 = Rectangle(5,4)\n",
        "r2.perimeter()\n",
        "r2.area()"
      ],
      "metadata": {
        "colab": {
          "base_uri": "https://localhost:8080/"
        },
        "id": "n42v70N5PoXg",
        "outputId": "77a6d3ce-e097-40cf-d75e-de399bb96e4d"
      },
      "execution_count": 14,
      "outputs": [
        {
          "output_type": "stream",
          "name": "stdout",
          "text": [
            "The area is  8\n",
            "The Perimeter is  12\n",
            "The Perimeter is  18\n",
            "The area is  20\n"
          ]
        }
      ]
    },
    {
      "cell_type": "markdown",
      "source": [
        "#Access Specifiers\n",
        "    1. Public\n",
        "    2. Private"
      ],
      "metadata": {
        "id": "OsTk6AipKL8_"
      }
    },
    {
      "cell_type": "code",
      "source": [
        "#private\n",
        "'''\n",
        "class hello:\n",
        "  def __init__(self,a):\n",
        "    self.__a = a\n",
        "  def update(self):\n",
        "    self.__a = 100\n",
        "  def display(self):\n",
        "    print(self.__a)\n",
        "ob = hello(10)\n",
        "ob.display()\n",
        "ob.update()\n",
        "ob.display()\n",
        "ob.__a = 1000\n",
        "ob.display()\n",
        "'''\n",
        "#Public\n",
        "'''\n",
        "class hello1:\n",
        "  def __init__(self,a):\n",
        "    self.a = a\n",
        "  def update(self):\n",
        "    self.a = 100\n",
        "  def display(self):\n",
        "    print(self.a)\n",
        "ob = hello1(10)\n",
        "ob.display()\n",
        "ob.update()\n",
        "ob.display()\n",
        "ob.a = 1000\n",
        "ob.display()\n",
        "'''\n"
      ],
      "metadata": {
        "colab": {
          "base_uri": "https://localhost:8080/",
          "height": 122
        },
        "id": "S2BI0elPWCgZ",
        "outputId": "b5bd444b-f3ce-43c0-e93d-77978460889e"
      },
      "execution_count": 39,
      "outputs": [
        {
          "output_type": "stream",
          "name": "stdout",
          "text": [
            "10\n",
            "100\n",
            "100\n"
          ]
        },
        {
          "output_type": "execute_result",
          "data": {
            "text/plain": [
              "'\\nclass hello1:\\n  def __init__(self,a):\\n    self.a = a\\n  def update(self):\\n    self.a = 100\\nob = hello1(10)\\nprint(ob.a)\\nob.update()\\nprint(ob.a)\\nob.a = 1000\\nprint(ob.a)\\n'"
            ],
            "application/vnd.google.colaboratory.intrinsic+json": {
              "type": "string"
            }
          },
          "metadata": {},
          "execution_count": 39
        }
      ]
    },
    {
      "cell_type": "code",
      "source": [
        "class dog:\n",
        "  #class Variable\n",
        "  breed = \"French Barbet\"\n",
        "  def __init__(self,name):\n",
        "    #Instance Variable\n",
        "    self.name = name\n",
        "  def display(self):\n",
        "    print(\"Name: \",self.name)\n",
        "    print(\"Breed: \",self.breed)\n",
        "d1 = dog(\"Rhyme\")\n",
        "d1.display()\n",
        "\n",
        "d2 = dog(\"Puppy\")\n",
        "d2.display()\n"
      ],
      "metadata": {
        "colab": {
          "base_uri": "https://localhost:8080/"
        },
        "id": "U-iPYh0Kal17",
        "outputId": "48862021-dfbf-421e-e188-b2f68cfc6764"
      },
      "execution_count": 41,
      "outputs": [
        {
          "output_type": "stream",
          "name": "stdout",
          "text": [
            "Name:  Rhyme\n",
            "Breed:  French Barbet\n",
            "Name:  Puppy\n",
            "Breed:  French Barbet\n"
          ]
        }
      ]
    },
    {
      "cell_type": "markdown",
      "source": [
        "#4 PILLERS OF OOPS\n",
        "    1. Encapsulation\n",
        "    2. Inheritance\n",
        "    3. Polymorphism\n",
        "    3. Abstraction"
      ],
      "metadata": {
        "id": "Ia_IMFSxKCnw"
      }
    },
    {
      "cell_type": "markdown",
      "source": [
        "#1. Encapsulation\n",
        "    Encapsulation is one of the core concepts of Object-Oriented Programming (OOP).\n",
        "    It is the mechanism of restricting direct access to some components of an object while still allowing controlled interaction.\n",
        "    In Python, encapsulation helps in data hiding and ensures that the internal state of an object is not directly modified from outside the class."
      ],
      "metadata": {
        "id": "TQxczYS9LbSr"
      }
    },
    {
      "cell_type": "markdown",
      "source": [
        "#2. Inheritance\n",
        "    Inheritance is a fundamental concept of Object-Oriented Programming (OOP) that allows a child class (or subclass) to inherit properties\n",
        "    and behaviors (methods) from a parent class (or superclass). This promotes code reusability and\n",
        "    establishes a hierarchical relationship between classes.\n",
        "\n",
        "    1. Single Inheritance\n",
        "        One child class inherits from one parent class.\n",
        "    2. Multiple Inheritance\n",
        "        A child class inherits from more than one parent class.\n",
        "    3. Multi Level Inheritance\n",
        "        A child class inherits from a parent class, and another class inherits from that child class.\n",
        "    4. Hierarchical Inheritance\n",
        "        Multiple child classes inherit from a single parent class.\n",
        "    5. Hybrid Inheritance\n",
        "        Combination of two or more types of inheritance."
      ],
      "metadata": {
        "id": "KEhv_M50Kyqv"
      }
    },
    {
      "cell_type": "markdown",
      "source": [
        "#Super Method\n",
        "    The super() function in Python is used to give access to methods and properties of a parent (or superclass) from a child (or subclass).\n",
        "    It is commonly used in inheritance to call methods from the parent class without directly referring to the parent class name."
      ],
      "metadata": {
        "id": "xtWsj_MqLJWt"
      }
    },
    {
      "cell_type": "markdown",
      "source": [
        "#3. Polymorphism\n",
        "    Polymorphism is a core concept of Object-Oriented Programming (OOP) that allows objects of different classes to be treated\n",
        "    as objects of a common super class.\n",
        "    It enables a single function, method, or operator to behave differently based on the object it is acting upon.\n",
        "\n",
        "    The word polymorphism comes from the Greek words \"poly\" (many) and \"morph\" (forms), meaning \"many forms\".\n",
        "\n",
        "    Types of Polymorphism\n",
        "    1. Duck Typing (Dynamic Polymorphism)\n",
        "        In Python, if an object behaves like a particular type, it is that type — \"If it walks like a duck and quacks like a duck, it's a duck.\"\n",
        "\n",
        "    2. Method Overriding\n",
        "        In inheritance, a child class can provide a specific implementation of a method already defined in its parent class.\n",
        "\n",
        "    3. Method Overloading\n",
        "        Python doesn't support traditional method overloading. However, it can be achieved using default arguments or *args and **args.\n",
        "\n",
        "    4. Operator Overloading\n",
        "        Python allows operators to have different meanings based on the context, by using magic methods (dunder methods).\n"
      ],
      "metadata": {
        "id": "uX0rzRvALLj2"
      }
    },
    {
      "cell_type": "markdown",
      "source": [
        "#4. Abstraction"
      ],
      "metadata": {
        "id": "NsQun5QcN83t"
      }
    },
    {
      "cell_type": "code",
      "source": [],
      "metadata": {
        "id": "eiB1k9DZODB5"
      },
      "execution_count": null,
      "outputs": []
    },
    {
      "cell_type": "markdown",
      "source": [
        "#Exception Handling\n",
        "    Exception Handling in Python is a mechanism to gracefully handle runtime errors, ensuring that the program doesn't crash unexpectedly.\n",
        "    It allows you to detect errors, handle them properly, and continue program execution.\n",
        "\n",
        "    An exception is an event that occurs during the execution of a program that disrupts its normal flow. Common examples include\n",
        "    ZeroDivisionError, FileNotFoundError, and ValueError.\n",
        "\n",
        "    Key Points:\n",
        "        1. Try [ Code that might raise an exception. ]\n",
        "        2. Except [ Handles the exception ]\n",
        "        3. Else [ Executes if no exceptions occur ]\n",
        "        4. Finally [ Executes code regardless of an exception ]"
      ],
      "metadata": {
        "id": "V5DQWXKU0-Vy"
      }
    },
    {
      "cell_type": "code",
      "source": [],
      "metadata": {
        "id": "PtIImlX0Phd4"
      },
      "execution_count": null,
      "outputs": []
    }
  ]
}