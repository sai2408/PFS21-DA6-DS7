{
  "nbformat": 4,
  "nbformat_minor": 0,
  "metadata": {
    "colab": {
      "provenance": []
    },
    "kernelspec": {
      "name": "python3",
      "display_name": "Python 3"
    },
    "language_info": {
      "name": "python"
    }
  },
  "cells": [
    {
      "cell_type": "markdown",
      "source": [
        "#Problem - 1"
      ],
      "metadata": {
        "id": "fySpiKtiOtVi"
      }
    },
    {
      "cell_type": "code",
      "execution_count": 3,
      "metadata": {
        "colab": {
          "base_uri": "https://localhost:8080/"
        },
        "id": "tX9b0GmsOof9",
        "outputId": "ed4588df-b601-4041-daed-de9357f7b8f0"
      },
      "outputs": [
        {
          "output_type": "stream",
          "name": "stdout",
          "text": [
            "5\n",
            "6 9 8 4 3\n",
            "12\n"
          ]
        }
      ],
      "source": [
        "#Approach - 1\n",
        "'''\n",
        "n = int(input())\n",
        "x = list(map(int,input().split()))\n",
        "res = 0\n",
        "for i in x:\n",
        "  if i%2!=0:\n",
        "    res = res + i\n",
        "print(res)\n",
        "'''\n",
        "#Approach - 2\n",
        "'''\n",
        "n = int(input())\n",
        "x = list(map(int,input().split()))\n",
        "res = 0\n",
        "for i in range(n):\n",
        "  if x[i]%2 !=0:\n",
        "    res = res + x[i]\n",
        "print(res)\n",
        "'''"
      ]
    },
    {
      "cell_type": "markdown",
      "source": [
        "#Problem - 2"
      ],
      "metadata": {
        "id": "maF_O0HaQ__B"
      }
    },
    {
      "cell_type": "code",
      "source": [
        "from re import M\n",
        "#Approach - 1\n",
        "'''\n",
        "n = int(input())\n",
        "x = list(map(int,input().split()))\n",
        "for i in x:\n",
        "  if x.count(i) > 1:\n",
        "    print(i)\n",
        "    break\n",
        "'''\n",
        "#Approach - 2\n",
        "'''\n",
        "n = int(input())\n",
        "x = list(map(int,input().split()))\n",
        "for i in range(n-1):\n",
        "  if x[i] in x[i+1:]:\n",
        "    print(x[i])\n",
        "    break\n",
        "'''"
      ],
      "metadata": {
        "colab": {
          "base_uri": "https://localhost:8080/"
        },
        "id": "sCtsgMjMQ_Q0",
        "outputId": "9b551b6d-e3b1-4884-a282-89740add4f5b"
      },
      "execution_count": 13,
      "outputs": [
        {
          "output_type": "stream",
          "name": "stdout",
          "text": [
            "6\n",
            "5 4 10 9 21 10\n",
            "10\n"
          ]
        }
      ]
    },
    {
      "cell_type": "markdown",
      "source": [
        "#Problem - 3\n"
      ],
      "metadata": {
        "id": "_-5_pomMXlsN"
      }
    },
    {
      "cell_type": "code",
      "source": [
        "n = int(input())\n",
        "x = list(map(int,input().split()))\n",
        "r = []\n",
        "for i in x:\n",
        "  if x.count(i) == 1:\n",
        "    r.append(i)\n",
        "print(*r,sep=\" \")"
      ],
      "metadata": {
        "colab": {
          "base_uri": "https://localhost:8080/"
        },
        "id": "Nn4c2rEhXn8G",
        "outputId": "5d69eb5f-8107-4155-f901-65b09862fcb1"
      },
      "execution_count": 18,
      "outputs": [
        {
          "output_type": "stream",
          "name": "stdout",
          "text": [
            "7\n",
            "5 4 10 9 21 4 10\n",
            "5 9 21\n"
          ]
        }
      ]
    },
    {
      "cell_type": "markdown",
      "source": [
        "#Problem - 4"
      ],
      "metadata": {
        "id": "FK9tjRWUbEkn"
      }
    },
    {
      "cell_type": "code",
      "source": [
        "t = int(input())\n",
        "for i in range(t):\n",
        "  n = int(input())\n",
        "  x = list(map(int,input().split()))\n",
        "  t = 0\n",
        "  for i in x:\n",
        "    t = t + i\n",
        "  print(t)"
      ],
      "metadata": {
        "colab": {
          "base_uri": "https://localhost:8080/"
        },
        "id": "iN1UMhBIbGIj",
        "outputId": "f1385827-2df1-44b9-9070-3152da02c099"
      },
      "execution_count": 22,
      "outputs": [
        {
          "output_type": "stream",
          "name": "stdout",
          "text": [
            "1\n",
            "3\n",
            "10 20 30\n",
            "60\n"
          ]
        }
      ]
    },
    {
      "cell_type": "markdown",
      "source": [
        "#Problem - 5"
      ],
      "metadata": {
        "id": "NEBn-t7MeUUe"
      }
    },
    {
      "cell_type": "code",
      "source": [
        "t = int(input())\n",
        "for i in range(t):\n",
        "  n = int(input())\n",
        "  x = list(map(int,input().split()))\n",
        "  res = []\n",
        "  for i in x:\n",
        "    if x.count(i) > 1 and i not in res:\n",
        "      res.append(i)\n",
        "  print(*res,sep=\" \")"
      ],
      "metadata": {
        "colab": {
          "base_uri": "https://localhost:8080/"
        },
        "id": "7aR0I6LAeWK0",
        "outputId": "45f3980d-66b0-4bec-b99f-37fc9bb3358a"
      },
      "execution_count": 26,
      "outputs": [
        {
          "output_type": "stream",
          "name": "stdout",
          "text": [
            "2\n",
            "5\n",
            "1 2 1 2 3\n",
            "1 2\n",
            "6\n",
            "1 3 2 1 4 3\n",
            "1 3\n"
          ]
        }
      ]
    }
  ]
}