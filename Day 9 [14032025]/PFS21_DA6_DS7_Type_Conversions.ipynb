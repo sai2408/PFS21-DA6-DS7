{
  "nbformat": 4,
  "nbformat_minor": 0,
  "metadata": {
    "colab": {
      "provenance": []
    },
    "kernelspec": {
      "name": "python3",
      "display_name": "Python 3"
    },
    "language_info": {
      "name": "python"
    }
  },
  "cells": [
    {
      "cell_type": "markdown",
      "source": [
        "#Type Convertions\n",
        "    Int : String, Float,\n",
        "    Float : String, Interger,\n",
        "    String : Integer, Float, List and tuple,\n",
        "    List : String, Tuple and Dictionary,\n",
        "    Tuple : String and Lists,"
      ],
      "metadata": {
        "id": "UZSNx05afKY8"
      }
    },
    {
      "cell_type": "markdown",
      "source": [
        "#Interger\n",
        "    Strings\n",
        "    Float"
      ],
      "metadata": {
        "id": "lm2qfrKgfvAR"
      }
    },
    {
      "cell_type": "code",
      "execution_count": 3,
      "metadata": {
        "id": "PqFN12a-fHBv",
        "colab": {
          "base_uri": "https://localhost:8080/"
        },
        "outputId": "24942341-352f-4628-df62-6397026a8728"
      },
      "outputs": [
        {
          "output_type": "stream",
          "name": "stdout",
          "text": [
            "<class 'int'>\n",
            "10\n",
            "10\n",
            "<class 'str'>\n",
            "10.0\n",
            "<class 'float'>\n"
          ]
        }
      ],
      "source": [
        "a = 10\n",
        "print(type(a))\n",
        "print(a)\n",
        "\n",
        "b = str(a)\n",
        "print(b)\n",
        "print(type(b))\n",
        "\n",
        "c = float(a)\n",
        "print(c)\n",
        "print(type(c))"
      ]
    },
    {
      "cell_type": "markdown",
      "source": [
        "#Float\n",
        "    String\n",
        "    Integer"
      ],
      "metadata": {
        "id": "65bxKi61f0MU"
      }
    },
    {
      "cell_type": "code",
      "source": [
        "a = 20.75\n",
        "print(a)\n",
        "print(type(a))\n",
        "\n",
        "b = str(a)\n",
        "print(b)\n",
        "print(type(b))\n",
        "print(b[2])\n",
        "print(b[1])\n",
        "\n",
        "c = int(a)\n",
        "print(c)\n",
        "print(type(c))"
      ],
      "metadata": {
        "id": "hINC8ji9f6Q9",
        "colab": {
          "base_uri": "https://localhost:8080/"
        },
        "outputId": "503a6db6-702e-4477-fc23-6a2c132789f0"
      },
      "execution_count": 9,
      "outputs": [
        {
          "output_type": "stream",
          "name": "stdout",
          "text": [
            "20.75\n",
            "<class 'float'>\n",
            "20.75\n",
            "<class 'str'>\n",
            ".\n",
            "0\n",
            "20\n",
            "<class 'int'>\n"
          ]
        }
      ]
    },
    {
      "cell_type": "markdown",
      "source": [
        "#Strings\n",
        "    Integer\n",
        "    Float"
      ],
      "metadata": {
        "id": "R1f3q0QKf6dp"
      }
    },
    {
      "cell_type": "code",
      "source": [
        "'''\n",
        "a1 = \"10\"\n",
        "print(a1)\n",
        "print(type(a1))\n",
        "\n",
        "b1 = int(a1)\n",
        "print(b1)\n",
        "print(type(b1))\n",
        "\n",
        "c1 = float(a1)\n",
        "print(c1)\n",
        "print(type(c1))\n",
        "'''\n",
        "'''\n",
        "a2 = \"10.42\"\n",
        "print(a2)\n",
        "print(type(a2))\n",
        "\n",
        "a2 = float(a2)\n",
        "print(a2)\n",
        "print(type(a2))\n",
        "'''\n",
        "a1 = \"10.45\"\n",
        "print(a1)\n",
        "print(type(a1))\n",
        "\n",
        "a2 = list(a1)\n",
        "print(a2)\n",
        "\n",
        "a3 = tuple(a1)\n",
        "print(a3)\n",
        "\n",
        "a4 = set(a1)\n",
        "print(a4)"
      ],
      "metadata": {
        "id": "e9XAAIj7gBNa",
        "colab": {
          "base_uri": "https://localhost:8080/"
        },
        "outputId": "f0989d60-d8a3-49e4-f30d-4cddfd73f10e"
      },
      "execution_count": 25,
      "outputs": [
        {
          "output_type": "stream",
          "name": "stdout",
          "text": [
            "10.45\n",
            "<class 'str'>\n",
            "['1', '0', '.', '4', '5']\n",
            "('1', '0', '.', '4', '5')\n",
            "{'4', '0', '.', '1', '5'}\n"
          ]
        }
      ]
    },
    {
      "cell_type": "markdown",
      "source": [
        "#List\n",
        "    String\n",
        "    Tuple\n",
        "    sets"
      ],
      "metadata": {
        "id": "uPHgKyRpgBfi"
      }
    },
    {
      "cell_type": "code",
      "source": [
        "'''\n",
        "a = [10,20,30]\n",
        "print(a)\n",
        "print(type(a))\n",
        "print(a[0])\n",
        "'''\n",
        "'''\n",
        "b = str(a)\n",
        "print(b)\n",
        "print(type(b))\n",
        "print(b[0])\n",
        "print(b[-1])\n",
        "print(b[1])\n",
        "print(b[2])\n",
        "print(b[4])\n",
        "'''\n",
        "'''\n",
        "c = tuple(a)\n",
        "print(c)\n",
        "print(type(c))\n",
        "print(c[0])\n",
        "print(c[-1])\n",
        "'''\n",
        "'''\n",
        "d = set(a)\n",
        "print(d)\n",
        "print(type(d))\n",
        "'''"
      ],
      "metadata": {
        "id": "c5BO_p41gHJ_",
        "colab": {
          "base_uri": "https://localhost:8080/"
        },
        "outputId": "7c93c87e-1045-4e81-ab40-265425b1d0fe"
      },
      "execution_count": 39,
      "outputs": [
        {
          "output_type": "stream",
          "name": "stdout",
          "text": [
            "[10, 20, 30]\n",
            "<class 'list'>\n",
            "10\n",
            "{10, 20, 30}\n",
            "<class 'set'>\n"
          ]
        }
      ]
    },
    {
      "cell_type": "markdown",
      "source": [
        "#Tuple\n",
        "    String\n",
        "    List\n",
        "    sets"
      ],
      "metadata": {
        "id": "eXIVGV6ZhBGo"
      }
    },
    {
      "cell_type": "code",
      "source": [
        "a = (10,20,30)\n",
        "print(a)\n",
        "print(type(a))\n",
        "print(a[0])\n",
        "print(a[1])\n",
        "print(a[2])\n",
        "\n",
        "'''\n",
        "b = str(a)\n",
        "print(b)\n",
        "print(type(b))\n",
        "print(b[0])\n",
        "print(b[1])\n",
        "print(b[2])\n",
        "print(b[3])\n",
        "print(b[4])\n",
        "print(b[5])\n",
        "print(b[6])\n",
        "print(b[7])\n",
        "print(b[8])\n",
        "'''\n",
        "'''\n",
        "c = list(a)\n",
        "print(c)\n",
        "print(type(c))\n",
        "print(c[0])\n",
        "print(c[1])\n",
        "print(c[2])\n",
        "'''\n",
        "d = set(a)\n",
        "print(d)\n",
        "print(type(d))"
      ],
      "metadata": {
        "id": "uqh7QCNHhEBB",
        "colab": {
          "base_uri": "https://localhost:8080/"
        },
        "outputId": "7af5158e-c59e-42ea-b9bc-5819a0c27df7"
      },
      "execution_count": 45,
      "outputs": [
        {
          "output_type": "stream",
          "name": "stdout",
          "text": [
            "(10, 20, 30)\n",
            "<class 'tuple'>\n",
            "10\n",
            "20\n",
            "30\n",
            "{10, 20, 30}\n",
            "<class 'set'>\n"
          ]
        }
      ]
    },
    {
      "cell_type": "markdown",
      "source": [
        "#Sets\n",
        "    List\n",
        "    Tuple\n",
        "    Strings"
      ],
      "metadata": {
        "id": "V0WPQb84Tcw-"
      }
    },
    {
      "cell_type": "code",
      "source": [
        "a = {10,20,30}\n",
        "print(a)\n",
        "print(type(a))\n",
        "\n",
        "b = list(a)\n",
        "print(b)\n",
        "print(type(b))\n",
        "\n",
        "c = tuple(a)\n",
        "print(c)\n",
        "print(type(c))\n",
        "\n",
        "d = str(a)\n",
        "print(d)\n",
        "print(type(d))\n",
        "print(d[0])\n",
        "print(d[1])"
      ],
      "metadata": {
        "colab": {
          "base_uri": "https://localhost:8080/"
        },
        "id": "r3CVRa8sTH04",
        "outputId": "f3dd0371-f663-44cf-8910-007b3bd9c799"
      },
      "execution_count": 51,
      "outputs": [
        {
          "output_type": "stream",
          "name": "stdout",
          "text": [
            "{10, 20, 30}\n",
            "<class 'set'>\n",
            "[10, 20, 30]\n",
            "<class 'list'>\n",
            "(10, 20, 30)\n",
            "<class 'tuple'>\n",
            "{10, 20, 30}\n",
            "<class 'str'>\n",
            "{\n",
            "1\n"
          ]
        }
      ]
    },
    {
      "cell_type": "code",
      "source": [
        "a = [10,20,30,40,5]\n",
        "print(a)\n",
        "print(*a)"
      ],
      "metadata": {
        "colab": {
          "base_uri": "https://localhost:8080/"
        },
        "id": "0RiS7OLyVpEn",
        "outputId": "e9f5d4dd-3221-472e-833b-e858d82adf37"
      },
      "execution_count": 56,
      "outputs": [
        {
          "output_type": "stream",
          "name": "stdout",
          "text": [
            "[10, 20, 30, 40, 5]\n",
            "10 20 30 40 5\n"
          ]
        }
      ]
    }
  ]
}