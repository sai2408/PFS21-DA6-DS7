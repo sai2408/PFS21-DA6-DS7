{
  "nbformat": 4,
  "nbformat_minor": 0,
  "metadata": {
    "colab": {
      "provenance": []
    },
    "kernelspec": {
      "name": "python3",
      "display_name": "Python 3"
    },
    "language_info": {
      "name": "python"
    }
  },
  "cells": [
    {
      "cell_type": "markdown",
      "source": [
        "#File Handling in Python\n",
        "\n",
        "    Operations\n",
        "      1. Opening a file\n",
        "      2. Reading Data From file\n",
        "      3. Writing Data into file\n",
        "      4. Adding Data into existing File\n",
        "      5. closing a file"
      ],
      "metadata": {
        "id": "7kia_Rxi6rF2"
      }
    },
    {
      "cell_type": "markdown",
      "source": [
        "#Syntax\n",
        "    varible_name = open(filename,Mode)\n",
        "\n",
        "    Filename : Relative or Absolute path of a file\n",
        "    Mode: String that indicates what to do with the file\n",
        "\n",
        "#Modes\n",
        "\n",
        "    'r': Read (default mode, file must exist)\n",
        "    'w': Write (creates file if not exists, overwrites if exists)\n",
        "    'a': Append (adds content to the end, creates file if not exists)\n",
        "    'r+': Read and Write (reads and writes data at a single time)"
      ],
      "metadata": {
        "id": "G5itJ0QO7TQ9"
      }
    },
    {
      "cell_type": "markdown",
      "source": [
        "#Reading a File"
      ],
      "metadata": {
        "id": "csYGeB3P8Fzp"
      }
    },
    {
      "cell_type": "code",
      "execution_count": 10,
      "metadata": {
        "id": "ckI0WJtB6j-_",
        "colab": {
          "base_uri": "https://localhost:8080/"
        },
        "outputId": "80f56ea2-e591-4135-e97b-5f8be40410b0"
      },
      "outputs": [
        {
          "output_type": "stream",
          "name": "stdout",
          "text": [
            "Hello Codegnan !\n"
          ]
        }
      ],
      "source": [
        "f5 = open(\"sample1.txt\",\"r\")\n",
        "data = f5.read()\n",
        "f5.close()\n",
        "print(data)"
      ]
    },
    {
      "cell_type": "code",
      "source": [
        "f6 = open(\"sample2.txt\",\"r\")\n",
        "data2 = f6.read()\n",
        "f6.close()\n",
        "print(data2)"
      ],
      "metadata": {
        "id": "GMMK2LgSFk-2",
        "colab": {
          "base_uri": "https://localhost:8080/"
        },
        "outputId": "c5ff2ab7-6c85-4658-cfa4-a060c7247134"
      },
      "execution_count": 11,
      "outputs": [
        {
          "output_type": "stream",
          "name": "stdout",
          "text": [
            "Hello Codegnan\n",
            "Hello World\n"
          ]
        }
      ]
    },
    {
      "cell_type": "code",
      "source": [
        "f7 = open(\"sample2.txt\",\"r\")\n",
        "f7.write(\"hello\")\n",
        "f7.close()"
      ],
      "metadata": {
        "colab": {
          "base_uri": "https://localhost:8080/",
          "height": 176
        },
        "id": "bxVxGYWaWigk",
        "outputId": "be661375-c065-4696-9ef8-62feb19f6714"
      },
      "execution_count": 12,
      "outputs": [
        {
          "output_type": "error",
          "ename": "UnsupportedOperation",
          "evalue": "not writable",
          "traceback": [
            "\u001b[0;31m---------------------------------------------------------------------------\u001b[0m",
            "\u001b[0;31mUnsupportedOperation\u001b[0m                      Traceback (most recent call last)",
            "\u001b[0;32m<ipython-input-12-6cd32f8f6b7a>\u001b[0m in \u001b[0;36m<cell line: 0>\u001b[0;34m()\u001b[0m\n\u001b[1;32m      1\u001b[0m \u001b[0mf7\u001b[0m \u001b[0;34m=\u001b[0m \u001b[0mopen\u001b[0m\u001b[0;34m(\u001b[0m\u001b[0;34m\"sample2.txt\"\u001b[0m\u001b[0;34m,\u001b[0m\u001b[0;34m\"r\"\u001b[0m\u001b[0;34m)\u001b[0m\u001b[0;34m\u001b[0m\u001b[0;34m\u001b[0m\u001b[0m\n\u001b[0;32m----> 2\u001b[0;31m \u001b[0mf7\u001b[0m\u001b[0;34m.\u001b[0m\u001b[0mwrite\u001b[0m\u001b[0;34m(\u001b[0m\u001b[0;34m\"hello\"\u001b[0m\u001b[0;34m)\u001b[0m\u001b[0;34m\u001b[0m\u001b[0;34m\u001b[0m\u001b[0m\n\u001b[0m\u001b[1;32m      3\u001b[0m \u001b[0mf7\u001b[0m\u001b[0;34m.\u001b[0m\u001b[0mclose\u001b[0m\u001b[0;34m(\u001b[0m\u001b[0;34m)\u001b[0m\u001b[0;34m\u001b[0m\u001b[0;34m\u001b[0m\u001b[0m\n",
            "\u001b[0;31mUnsupportedOperation\u001b[0m: not writable"
          ]
        }
      ]
    },
    {
      "cell_type": "code",
      "source": [
        "f8 = open(\"sample2.txt\",\"r\")\n",
        "data2 = f8.readlines()\n",
        "f8.close()\n",
        "#print(data2)\n",
        "for x in data2:\n",
        "  print(x)"
      ],
      "metadata": {
        "colab": {
          "base_uri": "https://localhost:8080/"
        },
        "id": "pfW9-N6PXzB_",
        "outputId": "1156eaaf-6165-43a3-92f2-d3c6297dcce1"
      },
      "execution_count": 25,
      "outputs": [
        {
          "output_type": "stream",
          "name": "stdout",
          "text": [
            "Hello Codegnan\n",
            "\n",
            "Hello World\n",
            "\n",
            "Hello Python\n"
          ]
        }
      ]
    },
    {
      "cell_type": "code",
      "source": [
        "f9 = open(\"sample2.txt\",\"r\")\n",
        "data3 = f9.readline(7)\n",
        "f9.close()\n",
        "print(data3)"
      ],
      "metadata": {
        "colab": {
          "base_uri": "https://localhost:8080/"
        },
        "id": "POuQl02rYW45",
        "outputId": "470a8919-b22d-46bb-ffb0-dcdf5ca50372"
      },
      "execution_count": 28,
      "outputs": [
        {
          "output_type": "stream",
          "name": "stdout",
          "text": [
            "Hello C\n"
          ]
        }
      ]
    },
    {
      "cell_type": "markdown",
      "source": [
        "#Writing into a file"
      ],
      "metadata": {
        "id": "ycV7OOII8L1-"
      }
    },
    {
      "cell_type": "code",
      "source": [
        "f1 = open(\"sample1.txt\",\"w\")\n",
        "f1.write(\"Hello Codegnan !\")\n",
        "f1.close()\n"
      ],
      "metadata": {
        "id": "XuqSu_p78RnC"
      },
      "execution_count": 9,
      "outputs": []
    },
    {
      "cell_type": "code",
      "source": [
        "f2 = open(\"sample1.txt\",\"w\")\n",
        "f2.write(\"Hello Students !\")\n",
        "f2.close()"
      ],
      "metadata": {
        "id": "poGj007sFsWu"
      },
      "execution_count": 2,
      "outputs": []
    },
    {
      "cell_type": "code",
      "source": [
        "f2 = open(\"sample1.txt\",\"w\")\n",
        "res = f2.read()\n",
        "print(res)\n",
        "f2.close()"
      ],
      "metadata": {
        "colab": {
          "base_uri": "https://localhost:8080/",
          "height": 193
        },
        "id": "Xo_VjhkHUMu-",
        "outputId": "605a0e02-3d35-4fc1-e06f-c17c2cedf4c6"
      },
      "execution_count": 3,
      "outputs": [
        {
          "output_type": "error",
          "ename": "UnsupportedOperation",
          "evalue": "not readable",
          "traceback": [
            "\u001b[0;31m---------------------------------------------------------------------------\u001b[0m",
            "\u001b[0;31mUnsupportedOperation\u001b[0m                      Traceback (most recent call last)",
            "\u001b[0;32m<ipython-input-3-1a3d6df8132a>\u001b[0m in \u001b[0;36m<cell line: 0>\u001b[0;34m()\u001b[0m\n\u001b[1;32m      1\u001b[0m \u001b[0mf2\u001b[0m \u001b[0;34m=\u001b[0m \u001b[0mopen\u001b[0m\u001b[0;34m(\u001b[0m\u001b[0;34m\"sample1.txt\"\u001b[0m\u001b[0;34m,\u001b[0m\u001b[0;34m\"w\"\u001b[0m\u001b[0;34m)\u001b[0m\u001b[0;34m\u001b[0m\u001b[0;34m\u001b[0m\u001b[0m\n\u001b[0;32m----> 2\u001b[0;31m \u001b[0mres\u001b[0m \u001b[0;34m=\u001b[0m \u001b[0mf2\u001b[0m\u001b[0;34m.\u001b[0m\u001b[0mread\u001b[0m\u001b[0;34m(\u001b[0m\u001b[0;34m)\u001b[0m\u001b[0;34m\u001b[0m\u001b[0;34m\u001b[0m\u001b[0m\n\u001b[0m\u001b[1;32m      3\u001b[0m \u001b[0mprint\u001b[0m\u001b[0;34m(\u001b[0m\u001b[0mres\u001b[0m\u001b[0;34m)\u001b[0m\u001b[0;34m\u001b[0m\u001b[0;34m\u001b[0m\u001b[0m\n\u001b[1;32m      4\u001b[0m \u001b[0mf2\u001b[0m\u001b[0;34m.\u001b[0m\u001b[0mclose\u001b[0m\u001b[0;34m(\u001b[0m\u001b[0;34m)\u001b[0m\u001b[0;34m\u001b[0m\u001b[0;34m\u001b[0m\u001b[0m\n",
            "\u001b[0;31mUnsupportedOperation\u001b[0m: not readable"
          ]
        }
      ]
    },
    {
      "cell_type": "code",
      "source": [
        "f3 = open(\"sample2.txt\",\"w\")\n",
        "f3.write(\"Hello Codegnan\\nHello World\")\n",
        "f3.close()"
      ],
      "metadata": {
        "id": "aFwl8jPZVcfD"
      },
      "execution_count": 6,
      "outputs": []
    },
    {
      "cell_type": "markdown",
      "source": [
        "#Appending into a file"
      ],
      "metadata": {
        "id": "R56tG-CX8SIa"
      }
    },
    {
      "cell_type": "code",
      "source": [
        "f10 = open(\"sample3.txt\",\"w\")\n",
        "f10.write(\"Hello World\")\n",
        "f10.close()"
      ],
      "metadata": {
        "id": "k9jsKeHd8U5H"
      },
      "execution_count": 29,
      "outputs": []
    },
    {
      "cell_type": "code",
      "source": [
        "f11 = open(\"sample3.txt\",\"a\")\n",
        "f11.write(\"python\")\n",
        "f11.close()"
      ],
      "metadata": {
        "id": "Rch-1thNH4Bo"
      },
      "execution_count": 31,
      "outputs": []
    },
    {
      "cell_type": "code",
      "source": [
        "f11 = open(\"sample3.txt\",\"a\")\n",
        "f11.write(\"\\nHello Dear\")\n",
        "f11.close()"
      ],
      "metadata": {
        "id": "Z7sbO7ItZ6Ca"
      },
      "execution_count": 32,
      "outputs": []
    },
    {
      "cell_type": "code",
      "source": [
        "f12 = open(\"sample3.txt\",\"a\")\n",
        "f12.write(\"New\")\n",
        "f12.close()"
      ],
      "metadata": {
        "id": "0APEGepgaAbg"
      },
      "execution_count": 37,
      "outputs": []
    },
    {
      "cell_type": "markdown",
      "source": [
        "#Read and Write"
      ],
      "metadata": {
        "id": "nixF24B78gxx"
      }
    },
    {
      "cell_type": "code",
      "source": [
        "f20 = open(\"sample10.txt\",\"w\")\n",
        "f20.write(\"Hello world\\nHello Python\\nHello Codegnan\")\n",
        "f20.close()"
      ],
      "metadata": {
        "id": "mGykSZ9W8iBl"
      },
      "execution_count": 38,
      "outputs": []
    },
    {
      "cell_type": "code",
      "source": [
        "f21 = open(\"sample10.txt\",\"r+\")\n",
        "res1 = f21.read()\n",
        "print(res1)\n",
        "f21.write(\"New content\")\n",
        "f21.close()"
      ],
      "metadata": {
        "colab": {
          "base_uri": "https://localhost:8080/"
        },
        "id": "KXw0L99hb7Ku",
        "outputId": "f8ffc1b9-79ee-42a4-cd1d-da401ac0d332"
      },
      "execution_count": 40,
      "outputs": [
        {
          "output_type": "stream",
          "name": "stdout",
          "text": [
            "Hello world\n",
            "Hello Python\n",
            "Hello Codegnan\n"
          ]
        }
      ]
    },
    {
      "cell_type": "code",
      "source": [
        "f21 = open(\"sample10.txt\",\"r+\")\n",
        "f21.seek(6)\n",
        "res1 = f21.read()\n",
        "print(res1)\n",
        "f21.close()"
      ],
      "metadata": {
        "colab": {
          "base_uri": "https://localhost:8080/"
        },
        "id": "TENEvK5ncd0O",
        "outputId": "11af3e3a-499a-47d8-d01d-5736ec7047f4"
      },
      "execution_count": 43,
      "outputs": [
        {
          "output_type": "stream",
          "name": "stdout",
          "text": [
            "world\n",
            "Hello Python\n",
            "Hello Codegnan\n"
          ]
        }
      ]
    },
    {
      "cell_type": "markdown",
      "source": [
        "#Seek Method"
      ],
      "metadata": {
        "id": "Y1nPmrLq8mmN"
      }
    },
    {
      "cell_type": "code",
      "source": [
        "f22 = open(\"sample10.txt\",\"r+\")\n",
        "f22.seek(6)\n",
        "f22.write(\"abcd\")\n",
        "f22.close()"
      ],
      "metadata": {
        "id": "dYobyC9Q8oCX"
      },
      "execution_count": 44,
      "outputs": []
    },
    {
      "cell_type": "code",
      "source": [
        "f23 = open(\"sample10.txt\",\"a+\")\n",
        "f23.seek(6)\n",
        "f23.write(\"abcd\")\n",
        "f23.close()"
      ],
      "metadata": {
        "id": "ax2SenQaJyIC"
      },
      "execution_count": 46,
      "outputs": []
    },
    {
      "cell_type": "markdown",
      "source": [
        "#Directories\n",
        "    1. mkdir()\n",
        "    2. rmdir()\n",
        "    3. chdir()\n",
        "    4. listdir()\n",
        "    5. rename()\n"
      ],
      "metadata": {
        "id": "FWleFQWA8s2H"
      }
    },
    {
      "cell_type": "markdown",
      "source": [
        "#Importing OS"
      ],
      "metadata": {
        "id": "bmHUqaxN9FUB"
      }
    },
    {
      "cell_type": "code",
      "source": [
        "from os import *"
      ],
      "metadata": {
        "id": "5proGIfH9E0u"
      },
      "execution_count": 47,
      "outputs": []
    },
    {
      "cell_type": "code",
      "source": [
        "mkdir(\"sample folder\")"
      ],
      "metadata": {
        "id": "CHLz6YnQfRiv"
      },
      "execution_count": 48,
      "outputs": []
    },
    {
      "cell_type": "code",
      "source": [
        "rmdir(\"sample folder\")"
      ],
      "metadata": {
        "id": "vUAdIuk6fZmJ"
      },
      "execution_count": 49,
      "outputs": []
    },
    {
      "cell_type": "code",
      "source": [
        "mkdir(\"folder1\")"
      ],
      "metadata": {
        "id": "pinhQiLxffpp"
      },
      "execution_count": 50,
      "outputs": []
    },
    {
      "cell_type": "code",
      "source": [
        "print(listdir())"
      ],
      "metadata": {
        "colab": {
          "base_uri": "https://localhost:8080/"
        },
        "id": "RGOsXIhNfsXH",
        "outputId": "2a44fdc0-6900-47f7-9064-3f613ea977a8"
      },
      "execution_count": 51,
      "outputs": [
        {
          "output_type": "stream",
          "name": "stdout",
          "text": [
            "['.config', 'sample2.txt', 'sample1.txt', '.ipynb_checkpoints', 'sample3.txt', 'folder1', 'sample10.txt', 'sample_data']\n"
          ]
        }
      ]
    },
    {
      "cell_type": "code",
      "source": [
        "chdir(\"folder1\")"
      ],
      "metadata": {
        "id": "VaGMXBe5f7VE"
      },
      "execution_count": 52,
      "outputs": []
    },
    {
      "cell_type": "code",
      "source": [
        "print(listdir())"
      ],
      "metadata": {
        "colab": {
          "base_uri": "https://localhost:8080/"
        },
        "id": "YfX-DsOZgAAA",
        "outputId": "95bd381e-6577-45c6-e553-a840524e6bfe"
      },
      "execution_count": 53,
      "outputs": [
        {
          "output_type": "stream",
          "name": "stdout",
          "text": [
            "['hello1', '.ipynb_checkpoints', 'hello2']\n"
          ]
        }
      ]
    },
    {
      "cell_type": "code",
      "source": [
        "rename(\"folder10\",\"folder20\")"
      ],
      "metadata": {
        "id": "BDhEQzCkgPY3"
      },
      "execution_count": 55,
      "outputs": []
    }
  ]
}