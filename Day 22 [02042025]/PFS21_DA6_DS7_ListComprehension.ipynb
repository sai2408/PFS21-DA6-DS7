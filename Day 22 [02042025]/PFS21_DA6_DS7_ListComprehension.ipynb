{
  "nbformat": 4,
  "nbformat_minor": 0,
  "metadata": {
    "colab": {
      "provenance": []
    },
    "kernelspec": {
      "name": "python3",
      "display_name": "Python 3"
    },
    "language_info": {
      "name": "python"
    }
  },
  "cells": [
    {
      "cell_type": "code",
      "source": [
        "#Problem - 1\n",
        "#Approach - 1\n",
        "'''\n",
        "n = int(input())\n",
        "x = []\n",
        "for i in range(1,n+1):\n",
        "  x.append(i)\n",
        "print(x)\n",
        "'''\n",
        "#Approach - 2\n",
        "'''\n",
        "n = int(input())\n",
        "x = [i for i in range(1,n+1)]\n",
        "print(x)\n",
        "'''"
      ],
      "metadata": {
        "colab": {
          "base_uri": "https://localhost:8080/"
        },
        "id": "vLtXBcAXDA7K",
        "outputId": "44ffe4c1-9975-42e1-ad13-0876f084ad05"
      },
      "execution_count": 5,
      "outputs": [
        {
          "output_type": "stream",
          "name": "stdout",
          "text": [
            "10\n",
            "[1, 2, 3, 4, 5, 6, 7, 8, 9, 10]\n"
          ]
        }
      ]
    },
    {
      "cell_type": "code",
      "execution_count": 2,
      "metadata": {
        "colab": {
          "base_uri": "https://localhost:8080/"
        },
        "id": "lu1EdOrU_ehm",
        "outputId": "e9e02a91-8d9a-46e4-cebd-bffe3b287bec"
      },
      "outputs": [
        {
          "output_type": "stream",
          "name": "stdout",
          "text": [
            "10\n",
            "[2, 4, 6, 8, 10]\n"
          ]
        }
      ],
      "source": [
        "#Problem - 2\n",
        "#Approach - 1\n",
        "'''\n",
        "n = int(input())\n",
        "x = []\n",
        "for i in range(1,n+1):\n",
        "  if i%2==0:\n",
        "    x.append(i)\n",
        "print(x)\n",
        "'''\n",
        "#Approach - 2\n",
        "'''\n",
        "n = int(input())\n",
        "x = [i for i in range(1,n+1) if i%2==0]\n",
        "print(x)\n",
        "'''"
      ]
    },
    {
      "cell_type": "code",
      "source": [
        "#Problem - 3\n",
        "#Approach - 1\n",
        "'''\n",
        "n = int(input())\n",
        "x = []\n",
        "for i in range(1,n+1):\n",
        "  x.append(i**2)\n",
        "print(x)\n",
        "'''\n",
        "#Approach - 2\n",
        "'''\n",
        "n = int(input())\n",
        "x = [i**2 for i in range(1,n+1)]\n",
        "print(x)\n",
        "'''"
      ],
      "metadata": {
        "colab": {
          "base_uri": "https://localhost:8080/"
        },
        "id": "m8yr-ulmEdjd",
        "outputId": "47bdf2cc-cd48-457d-c5b2-ffa3226d6e12"
      },
      "execution_count": 7,
      "outputs": [
        {
          "output_type": "stream",
          "name": "stdout",
          "text": [
            "5\n",
            "[1, 4, 9, 16, 25]\n"
          ]
        }
      ]
    },
    {
      "cell_type": "code",
      "source": [
        "#Problem - 4\n",
        "values = [11,14,13,15,16,12,19,17,18]\n",
        "#Approach - 1\n",
        "'''\n",
        "res = []\n",
        "for i in values:\n",
        "  if i%2==0:\n",
        "    res.append(i)\n",
        "print(res)\n",
        "'''\n",
        "#Appraoch - 2\n",
        "'''\n",
        "res = [i for i in values if i%2==0]\n",
        "print(res)\n",
        "'''"
      ],
      "metadata": {
        "colab": {
          "base_uri": "https://localhost:8080/"
        },
        "id": "1DrV9axSFVRB",
        "outputId": "5ea54cba-8a71-4b5a-8171-f1507d9b74a8"
      },
      "execution_count": 11,
      "outputs": [
        {
          "output_type": "stream",
          "name": "stdout",
          "text": [
            "[14, 16, 12, 18]\n"
          ]
        }
      ]
    },
    {
      "cell_type": "code",
      "source": [
        "#Problem - 5\n",
        "d = {10:100,11:200,13:300,14:400,15:500,16:600}\n",
        "#Appraoch - 1\n",
        "'''\n",
        "x = []\n",
        "for i in d:\n",
        "  if i%2!=0:\n",
        "    x.append(d[i])\n",
        "print(x)\n",
        "'''\n",
        "#Approach - 2\n",
        "'''\n",
        "x = [d[i] for i in d if i%2!=0]\n",
        "print(x)\n",
        "'''"
      ],
      "metadata": {
        "colab": {
          "base_uri": "https://localhost:8080/"
        },
        "id": "MlkKqNttFn1w",
        "outputId": "91b096fa-5874-4c2a-f57b-eb55bafc2652"
      },
      "execution_count": 14,
      "outputs": [
        {
          "output_type": "stream",
          "name": "stdout",
          "text": [
            "[200, 300, 500]\n"
          ]
        }
      ]
    },
    {
      "cell_type": "code",
      "source": [
        "#Problem - 5\n",
        "items = [\"hello\",\"world\",\"python\"]\n",
        "#Approach - 1\n",
        "'''\n",
        "a = []\n",
        "for i in items:\n",
        "  a.append(i.upper())\n",
        "print(a)\n",
        "'''\n",
        "#Approach - 2\n",
        "'''\n",
        "a = [i.upper() for i in items]\n",
        "print(a)\n",
        "'''"
      ],
      "metadata": {
        "colab": {
          "base_uri": "https://localhost:8080/"
        },
        "id": "pXpI8EHJIEEO",
        "outputId": "63add676-412d-4888-81fb-257c46392673"
      },
      "execution_count": 16,
      "outputs": [
        {
          "output_type": "stream",
          "name": "stdout",
          "text": [
            "['HELLO', 'WORLD', 'PYTHON']\n",
            "['HELLO', 'WORLD', 'PYTHON']\n"
          ]
        }
      ]
    },
    {
      "cell_type": "code",
      "source": [
        "#Problem - 6\n",
        "#-> [[0,0],[0,1],[0,2],[1,0],[1,1],[1,2]]\n",
        "#Approach - 1\n",
        "'''\n",
        "res = []\n",
        "for i in range(2):\n",
        "  for j in range(3):\n",
        "    res.append([i,j])\n",
        "print(res)\n",
        "'''\n",
        "#Approach - 2\n",
        "'''\n",
        "res = [[i,j] for i in range(2) for j in range(3)]\n",
        "print(res)\n",
        "'''"
      ],
      "metadata": {
        "colab": {
          "base_uri": "https://localhost:8080/"
        },
        "id": "jrQsGjlBJLVE",
        "outputId": "4ce33ec8-132d-429c-bac3-9cd821df402c"
      },
      "execution_count": 22,
      "outputs": [
        {
          "output_type": "stream",
          "name": "stdout",
          "text": [
            "[[0, 0], [0, 1], [0, 2], [1, 0], [1, 1], [1, 2]]\n",
            "[[0, 0], [0, 1], [0, 2], [1, 0], [1, 1], [1, 2]]\n"
          ]
        }
      ]
    },
    {
      "cell_type": "code",
      "source": [
        "#Problem - 7\n",
        "x = [10,12,11,13,14,17]\n",
        "#-> [\"Even\",\"Even\",\"Odd\",\"Odd\",\"Even\",\"Odd\"]\n",
        "#Approach - 1\n",
        "'''\n",
        "r1 = []\n",
        "for k in x:\n",
        "  if k%2==0:\n",
        "    r1.append(\"Even\")\n",
        "  else:\n",
        "    r1.append(\"Odd\")\n",
        "print(r1)\n",
        "'''\n",
        "#Approach - 2\n",
        "'''\n",
        "r1 = [\"Even\" if k%2==0 else \"Odd\" for k in x]\n",
        "print(r1)\n",
        "'''"
      ],
      "metadata": {
        "colab": {
          "base_uri": "https://localhost:8080/"
        },
        "id": "uEpY4jIVK-vj",
        "outputId": "3d46ca15-00b2-47c7-cf38-da834dbd3218"
      },
      "execution_count": 26,
      "outputs": [
        {
          "output_type": "stream",
          "name": "stdout",
          "text": [
            "['Even', 'Even', 'Odd', 'Odd', 'Even', 'Odd']\n"
          ]
        }
      ]
    },
    {
      "cell_type": "code",
      "source": [
        "#Problem - 8\n",
        "s = \"hello world\"\n",
        "#-> [\"e\",\"o\",\"o\"]\n",
        "#Approach - 1\n",
        "'''\n",
        "k = []\n",
        "for i in s:\n",
        "  if i in \"aeiou\":\n",
        "    k.append(i)\n",
        "print(k)\n",
        "'''\n",
        "#Approach - 2\n",
        "'''\n",
        "k = [i for i in s if i in \"aeiou\"]\n",
        "print(k)\n",
        "'''"
      ],
      "metadata": {
        "colab": {
          "base_uri": "https://localhost:8080/"
        },
        "id": "B9if0e0wNUl6",
        "outputId": "dd91b205-89f5-43fe-b428-8042c7a8bd26"
      },
      "execution_count": 28,
      "outputs": [
        {
          "output_type": "stream",
          "name": "stdout",
          "text": [
            "['e', 'o', 'o']\n"
          ]
        }
      ]
    },
    {
      "cell_type": "code",
      "source": [
        "#Problem - 9 [ flattened list ]\n",
        "k = [[1,2,3],[4,5],[7,2,3]]\n",
        "#-> [1,2,3,4,5,7,2,3]\n",
        "#Approach - 1\n",
        "'''\n",
        "res = []\n",
        "for i in k:\n",
        "  for j in i:\n",
        "    res.append(j)\n",
        "print(res)\n",
        "'''\n",
        "#Approach - 2\n",
        "'''\n",
        "res = [j for i in k for j in i]\n",
        "print(res)\n",
        "'''\n"
      ],
      "metadata": {
        "colab": {
          "base_uri": "https://localhost:8080/"
        },
        "id": "mo1_AhyNOrCY",
        "outputId": "8cf82107-7907-46bf-f4bc-4e3470a5759c"
      },
      "execution_count": 30,
      "outputs": [
        {
          "output_type": "stream",
          "name": "stdout",
          "text": [
            "[1, 2, 3, 4, 5, 7, 2, 3]\n"
          ]
        }
      ]
    },
    {
      "cell_type": "code",
      "source": [
        "#Problem - 10\n",
        "s = \"Python is good Programming language\"\n",
        "#-> [\"python\",\"programming\",\"language\"]\n",
        "#Approach - 1\n",
        "'''\n",
        "res = []\n",
        "for i in s.split():\n",
        "  if len(i) > 4:\n",
        "    res.append(i)\n",
        "print(res)\n",
        "'''\n",
        "#Approach - 2\n",
        "'''\n",
        "res = [i for i in s.split() if len(i) > 4]\n",
        "print(res)\n",
        "'''"
      ],
      "metadata": {
        "colab": {
          "base_uri": "https://localhost:8080/"
        },
        "id": "aZlli6baQEQ_",
        "outputId": "1e08e8c7-9671-4d10-8543-d3f522b50df0"
      },
      "execution_count": 36,
      "outputs": [
        {
          "output_type": "stream",
          "name": "stdout",
          "text": [
            "['Python', 'Programming', 'language']\n"
          ]
        }
      ]
    }
  ]
}