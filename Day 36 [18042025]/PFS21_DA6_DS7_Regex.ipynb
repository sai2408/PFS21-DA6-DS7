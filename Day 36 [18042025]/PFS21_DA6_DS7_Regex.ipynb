{
  "cells": [
    {
      "cell_type": "markdown",
      "source": [
        "#Regular Expression"
      ],
      "metadata": {
        "id": "xwHyW6LIQrbf"
      },
      "id": "xwHyW6LIQrbf"
    },
    {
      "cell_type": "markdown",
      "id": "e35544a9",
      "metadata": {
        "id": "e35544a9"
      },
      "source": [
        "\\d: Matches any digit (0-9). Example: \\d will match any single digit in a string.\n",
        "\n",
        "\\D: Matches any non-digit. Example: \\D will match any character that is not a digit.\n",
        "\n",
        "\\s: Matches any whitespace character (spaces, tabs, newlines). Example: \\s will match any space character.\n",
        "\n",
        "\\S: Matches any non-whitespace character. Example: \\S will match any character that is not a space.\n",
        "\n",
        "\\w: Matches any word character (alphanumeric + underscore). Example: \\w+ will match one or more word characters.\n",
        "\n",
        "\\W: Matches any non-word character. Example: \\W will match any character that is not a word character.\n",
        "\n",
        "\\A: Anchors the match at the start of the string. Example: \\A\\d will match a digit at the beginning of the string.\n",
        "\n",
        "\\b: Represents a word boundary. Example: \\bword\\b will match the word \"word\" as a whole word.\n",
        "\n",
        "\\B: Represents a non-word boundary. Example: \\Bword\\B will match the word \"word\" only if it's within another word.\n",
        "\n",
        "\\Z: Anchors the match at the end of the string. Example: pattern\\z will match \"pattern\" only at the end of the string."
      ]
    },
    {
      "cell_type": "markdown",
      "source": [
        "#Syntax\n",
        "\n",
        "```\n",
        "import re\n",
        "pattern = <Pattern>\n",
        "text = <Text>\n",
        "matches = re.<method_name>(pattern,text)\n",
        "print(matchers)\n",
        "```\n",
        "\n"
      ],
      "metadata": {
        "id": "FkLJRj-LPCJl"
      },
      "id": "FkLJRj-LPCJl"
    },
    {
      "cell_type": "code",
      "execution_count": 1,
      "id": "88fe95ff",
      "metadata": {
        "id": "88fe95ff",
        "outputId": "37ea0025-775b-4036-c9a3-7c97c8b041c5",
        "colab": {
          "base_uri": "https://localhost:8080/"
        }
      },
      "outputs": [
        {
          "output_type": "stream",
          "name": "stdout",
          "text": [
            "['2', '5']\n"
          ]
        }
      ],
      "source": [
        "# \\d - Matches any digit (0-9)\n",
        "\n",
        "import re\n",
        "\n",
        "pattern = r'\\d'\n",
        "text = 'The price is 25 Rupees prices _abc #:'\n",
        "\n",
        "matches = re.findall(pattern,text)\n",
        "print(matches)"
      ]
    },
    {
      "cell_type": "code",
      "execution_count": 3,
      "id": "0cff1e86",
      "metadata": {
        "id": "0cff1e86",
        "outputId": "7f614c2a-9e53-42cb-fcf7-d7f37d030249",
        "colab": {
          "base_uri": "https://localhost:8080/"
        }
      },
      "outputs": [
        {
          "output_type": "stream",
          "name": "stdout",
          "text": [
            "['T', 'h', 'e', ' ', 'p', 'r', 'i', 'c', 'e', ' ', 'i', 's', ' ', ' ', 'R', 'u', 'p', 'e', 'e', 's', ' ', '$']\n"
          ]
        }
      ],
      "source": [
        "# \\D - Matches any non digit\n",
        "\n",
        "pattern = r'\\D'\n",
        "text = 'The price is 25 Rupees $'\n",
        "\n",
        "matches = re.findall(pattern,text)\n",
        "print(matches)"
      ]
    },
    {
      "cell_type": "code",
      "execution_count": 4,
      "id": "9d5b8337",
      "metadata": {
        "id": "9d5b8337",
        "outputId": "3bb398a0-e087-4719-c4cf-3295d2ac78e5",
        "colab": {
          "base_uri": "https://localhost:8080/"
        }
      },
      "outputs": [
        {
          "output_type": "stream",
          "name": "stdout",
          "text": [
            "[' ', ' ', ' ', ' ']\n"
          ]
        }
      ],
      "source": [
        "# \\s - Matches any white space character\n",
        "\n",
        "pattern = r'\\s'\n",
        "text = 'The price is 25 Rupees'\n",
        "\n",
        "matches = re.findall(pattern,text)\n",
        "print(matches)"
      ]
    },
    {
      "cell_type": "code",
      "execution_count": 5,
      "id": "e226a94f",
      "metadata": {
        "id": "e226a94f",
        "outputId": "c9d3bbaf-ee19-4a5d-affb-bd8319c0ddae",
        "colab": {
          "base_uri": "https://localhost:8080/"
        }
      },
      "outputs": [
        {
          "output_type": "stream",
          "name": "stdout",
          "text": [
            "['T', 'h', 'e', 'p', 'r', 'i', 'c', 'e', 'i', 's', '2', '5', 'R', 'u', 'p', 'e', 'e', 's', '&']\n"
          ]
        }
      ],
      "source": [
        "# \\S - Matches any non - white space character\n",
        "\n",
        "pattern = r'\\S'\n",
        "text = 'The price is 25 Rupees &'\n",
        "\n",
        "matches = re.findall(pattern,text)\n",
        "print(matches)"
      ]
    },
    {
      "cell_type": "code",
      "execution_count": 6,
      "id": "ba6fa8cb",
      "metadata": {
        "id": "ba6fa8cb",
        "outputId": "b923a5d2-7732-4db5-832d-6a5b2c9d0b6f",
        "colab": {
          "base_uri": "https://localhost:8080/"
        }
      },
      "outputs": [
        {
          "output_type": "stream",
          "name": "stdout",
          "text": [
            "['T', 'h', 'e', 'p', 'r', 'i', 'c', 'e', 'i', 's', '2', '5', '_', 'R', 'u', 'p', 'e', 'e', 's']\n"
          ]
        }
      ],
      "source": [
        "# \\w - Matches any word character(alphanumeric + underscore)\n",
        "import re\n",
        "pattern = r'\\w'\n",
        "text = 'The price is 25 _Rupees $'\n",
        "\n",
        "matches = re.findall(pattern,text)\n",
        "print(matches)"
      ]
    },
    {
      "cell_type": "code",
      "execution_count": 7,
      "id": "7f820f2c",
      "metadata": {
        "id": "7f820f2c",
        "outputId": "d609874b-7d79-47d6-9fe9-0c892418a203",
        "colab": {
          "base_uri": "https://localhost:8080/"
        }
      },
      "outputs": [
        {
          "output_type": "stream",
          "name": "stdout",
          "text": [
            "[' ', ' ', ' ', ' ', ',', ' ', ' ', ' ', ' ', '#', ':']\n"
          ]
        }
      ],
      "source": [
        "# \\W - Matches any non word character\n",
        "\n",
        "pattern = r'\\W'\n",
        "text = 'The price is 25 Rupees, purchased by john_doe123 #:'\n",
        "\n",
        "matches = re.findall(pattern,text)\n",
        "print(matches)"
      ]
    },
    {
      "cell_type": "code",
      "execution_count": 9,
      "id": "f74389ab",
      "metadata": {
        "id": "f74389ab",
        "outputId": "8a5d4106-204c-4037-bcd5-25c1c24b9cec",
        "colab": {
          "base_uri": "https://localhost:8080/"
        }
      },
      "outputs": [
        {
          "output_type": "stream",
          "name": "stdout",
          "text": [
            "[]\n"
          ]
        }
      ],
      "source": [
        "# \\A: Anchors the match at the start of the string\n",
        "\n",
        "pattern = r'\\AHello'\n",
        "text = 'Hello world'\n",
        "\n",
        "matches = re.findall(pattern,text)\n",
        "print(matches)"
      ]
    },
    {
      "cell_type": "code",
      "execution_count": 11,
      "id": "1b504c4e",
      "metadata": {
        "id": "1b504c4e",
        "outputId": "e3a0d3ae-ca9e-4e60-dcdd-aa3a3e1837bc",
        "colab": {
          "base_uri": "https://localhost:8080/"
        }
      },
      "outputs": [
        {
          "output_type": "stream",
          "name": "stdout",
          "text": [
            "['price', 'price']\n"
          ]
        }
      ],
      "source": [
        "# \\b: Represents a word boundary.\n",
        "\n",
        "pattern = r'\\bprice\\b'\n",
        "text = 'The price is 25 Rupees prices'\n",
        "\n",
        "matches = re.findall(pattern,text)\n",
        "print(matches)"
      ]
    },
    {
      "cell_type": "code",
      "execution_count": 12,
      "id": "b1a03834",
      "metadata": {
        "id": "b1a03834",
        "outputId": "841b1c40-6e9f-456a-e02f-27536a79b4cd",
        "colab": {
          "base_uri": "https://localhost:8080/"
        }
      },
      "outputs": [
        {
          "output_type": "stream",
          "name": "stdout",
          "text": [
            "['over', 'over']\n"
          ]
        }
      ],
      "source": [
        "# \\B: Represents a non word boundary.\n",
        "import re\n",
        "pattern = r'\\Bover'\n",
        "text = 'the cover is covered'\n",
        "\n",
        "matches = re.findall(pattern,text)\n",
        "print(matches)"
      ]
    },
    {
      "cell_type": "code",
      "execution_count": 15,
      "id": "56895e83",
      "metadata": {
        "id": "56895e83",
        "outputId": "ed661ef2-de10-4ff9-c793-0aa54b975ae4",
        "colab": {
          "base_uri": "https://localhost:8080/"
        }
      },
      "outputs": [
        {
          "output_type": "stream",
          "name": "stdout",
          "text": [
            "['end']\n"
          ]
        }
      ],
      "source": [
        "# \\Z: Anchors the match at the end of the string\n",
        "\n",
        "pattern = r'end\\Z'\n",
        "text = 'This is the end'\n",
        "\n",
        "matches = re.findall(pattern,text)\n",
        "print(matches)"
      ]
    },
    {
      "cell_type": "code",
      "execution_count": null,
      "id": "6e9601b0",
      "metadata": {
        "id": "6e9601b0"
      },
      "outputs": [],
      "source": []
    },
    {
      "cell_type": "raw",
      "id": "ca921b09",
      "metadata": {
        "id": "ca921b09"
      },
      "source": [
        "# Meta Characters\n",
        "\n",
        ". (Dot):\n",
        "Matches any character except the newline character.\n",
        "\n",
        "^ (Caret):\n",
        "Matches the pattern only at the start of the string, indicating a \"Starts With\" condition.\n",
        "\n",
        "$ (Dollar):\n",
        "Matches the pattern only at the end of the string before the newline character, indicating an \"Ends With\" condition.\n",
        "\n",
        "* (Asterisk):\n",
        "Matches zero or more occurrences of the preceding pattern.\n",
        "\n",
        "+ (Plus):\n",
        "Matches one or more occurrences of the preceding pattern.\n",
        "\n",
        "? (Question mark):\n",
        "Matches zero or one occurrence of the preceding pattern.\n",
        "\n",
        "{} (Curly Braces):\n",
        "Matches the exactly specified number of occurrences of the preceding pattern.\n",
        "\n",
        "[] (Bracket):\n",
        "Defines a set of characters, and the pattern matches any one of the characters within the set.\n",
        "\n",
        "| (Pipe):\n",
        "Acts as an OR operator, allowing the pattern to match either of the defined patterns."
      ]
    },
    {
      "cell_type": "code",
      "execution_count": 17,
      "id": "7fea38b7",
      "metadata": {
        "id": "7fea38b7",
        "outputId": "ddcfb74a-2046-48f0-a6d6-ada5a0def83a",
        "colab": {
          "base_uri": "https://localhost:8080/"
        }
      },
      "outputs": [
        {
          "output_type": "stream",
          "name": "stdout",
          "text": [
            "['haat']\n"
          ]
        }
      ],
      "source": [
        "# Dot(.) -> Matches any character except the newline character.\n",
        "\n",
        "pattern = r'h..t'\n",
        "text = 'hat, pot, hit, haat'\n",
        "\n",
        "matches = re.findall(pattern,text)\n",
        "print(matches)"
      ]
    },
    {
      "cell_type": "code",
      "execution_count": 18,
      "id": "8eebb85d",
      "metadata": {
        "id": "8eebb85d",
        "outputId": "e148f393-91c2-4783-d919-e7e4cad40ea0",
        "colab": {
          "base_uri": "https://localhost:8080/"
        }
      },
      "outputs": [
        {
          "output_type": "stream",
          "name": "stdout",
          "text": [
            "['The']\n"
          ]
        }
      ],
      "source": [
        "# Caret(^) -> Matches the pattern only at the start of the string, indicating a \"Starts With\" condition.\n",
        "\n",
        "pattern = r'^The'\n",
        "text = 'The price is 25 Rupees'\n",
        "\n",
        "matches = re.findall(pattern,text)\n",
        "print(matches)"
      ]
    },
    {
      "cell_type": "code",
      "execution_count": 19,
      "id": "68dbf178",
      "metadata": {
        "id": "68dbf178",
        "outputId": "d3655c6d-341a-45fe-9784-ca1a477500b9",
        "colab": {
          "base_uri": "https://localhost:8080/"
        }
      },
      "outputs": [
        {
          "output_type": "stream",
          "name": "stdout",
          "text": [
            "['Rupees']\n"
          ]
        }
      ],
      "source": [
        "# $ (Dollar) -> Matches the pattern only at the end of the string before the newline character\n",
        "\n",
        "pattern = r'Rupees$'\n",
        "text = 'The price is 25 Rupees'\n",
        "\n",
        "matches = re.findall(pattern,text)\n",
        "print(matches)"
      ]
    },
    {
      "cell_type": "code",
      "execution_count": 20,
      "id": "cf5a6a57",
      "metadata": {
        "id": "cf5a6a57",
        "outputId": "bacb5fb5-83e8-4f1a-92ac-8b5b5cdfcb8a",
        "colab": {
          "base_uri": "https://localhost:8080/"
        }
      },
      "outputs": [
        {
          "output_type": "stream",
          "name": "stdout",
          "text": [
            "['ac', 'abc', 'abbc']\n"
          ]
        }
      ],
      "source": [
        "# * (Asterisk) -> Matches zero or more occurrences of the preceding pattern\n",
        "\n",
        "pattern = r'ab*c'\n",
        "text = 'ac, abc, abbc, abd'\n",
        "\n",
        "matches = re.findall(pattern,text)\n",
        "print(matches)"
      ]
    },
    {
      "cell_type": "code",
      "execution_count": 21,
      "id": "a7d08ceb",
      "metadata": {
        "id": "a7d08ceb",
        "outputId": "00c3d362-c0aa-4d19-85d5-732265760987",
        "colab": {
          "base_uri": "https://localhost:8080/"
        }
      },
      "outputs": [
        {
          "output_type": "stream",
          "name": "stdout",
          "text": [
            "['abc', 'abbc']\n"
          ]
        }
      ],
      "source": [
        "# + (Plus): -> Matches one or more occurrences of the preceding pattern\n",
        "\n",
        "pattern = r'ab+c'\n",
        "text = 'ac, abc, abbc, abd'\n",
        "\n",
        "matches = re.findall(pattern,text)\n",
        "print(matches)"
      ]
    },
    {
      "cell_type": "code",
      "execution_count": 24,
      "id": "7d9c168a",
      "metadata": {
        "id": "7d9c168a",
        "outputId": "f161ab3e-f289-4633-ca93-db01d38b5522",
        "colab": {
          "base_uri": "https://localhost:8080/"
        }
      },
      "outputs": [
        {
          "output_type": "stream",
          "name": "stdout",
          "text": [
            "['colors', 'color']\n"
          ]
        }
      ],
      "source": [
        "# ?(Question mark) -> Matches zero or one occurrence of the preceding pattern.\n",
        "\n",
        "pattern = r'colors?'\n",
        "text = 'hai, colors, color'\n",
        "\n",
        "matches = re.findall(pattern,text)\n",
        "print(matches)"
      ]
    },
    {
      "cell_type": "code",
      "execution_count": 27,
      "id": "132f3463",
      "metadata": {
        "id": "132f3463",
        "outputId": "f888047c-9554-4a3b-e772-4a8d267a3005",
        "colab": {
          "base_uri": "https://localhost:8080/"
        }
      },
      "outputs": [
        {
          "output_type": "stream",
          "name": "stdout",
          "text": [
            "['10:10']\n"
          ]
        }
      ],
      "source": [
        "# {} (Curly Braces) -> Matches the exactly specified number of occurrences of the preceding pattern.\n",
        "\n",
        "pattern = r'\\d{2}:\\d{2}'\n",
        "text = 'The time is 10:10'\n",
        "\n",
        "matches = re.findall(pattern,text)\n",
        "print(matches)"
      ]
    },
    {
      "cell_type": "code",
      "execution_count": 28,
      "id": "81fb063b",
      "metadata": {
        "id": "81fb063b",
        "outputId": "4b995d4b-d9c4-447a-ba73-1b23b2f9443c",
        "colab": {
          "base_uri": "https://localhost:8080/"
        }
      },
      "outputs": [
        {
          "output_type": "stream",
          "name": "stdout",
          "text": [
            "['cat', 'hat']\n"
          ]
        }
      ],
      "source": [
        "# [] (Bracket) -> Defines a set of characters, and the pattern matches any one of the characters within the set.\n",
        "\n",
        "pattern = r'[ch]at'\n",
        "text = 'The cat wears bat hat'\n",
        "\n",
        "matches = re.findall(pattern,text)\n",
        "print(matches)"
      ]
    },
    {
      "cell_type": "code",
      "execution_count": 31,
      "id": "b16b5eaf",
      "metadata": {
        "id": "b16b5eaf",
        "outputId": "1d53e483-8d1e-4e82-ca66-d7b19839516f",
        "colab": {
          "base_uri": "https://localhost:8080/"
        }
      },
      "outputs": [
        {
          "output_type": "stream",
          "name": "stdout",
          "text": [
            "['The', ' cat', 'hat']\n"
          ]
        }
      ],
      "source": [
        "# | (Pipe) -> Acts as an OR operator, allowing the pattern to match either of the defined patterns.\n",
        "\n",
        "\n",
        "pattern = r'cat|The|hat'\n",
        "text = 'The cat wears hat'\n",
        "\n",
        "matches = re.findall(pattern,text)\n",
        "print(matches)"
      ]
    },
    {
      "cell_type": "code",
      "execution_count": null,
      "id": "30cd0cf0",
      "metadata": {
        "id": "30cd0cf0"
      },
      "outputs": [],
      "source": []
    },
    {
      "cell_type": "markdown",
      "id": "fd66217f",
      "metadata": {
        "id": "fd66217f"
      },
      "source": [
        "### Regex Functions\n",
        "\n",
        "re.compile(pattern, flags=0): Compiles a regular expression pattern into a regex object for efficient reuse.\n",
        "\n",
        "re.search(pattern, string, flags=0): Searches for the first occurrence of the pattern in the string and returns a match object.\n",
        "\n",
        "re.match(pattern, string, flags=0): Checks if the pattern matches at the beginning of the string and returns a match object.\n",
        "\n",
        "re.fullmatch(pattern, string, flags=0): Checks if the entire string matches the pattern and returns a match object.\n",
        "\n",
        "re.split(pattern, string, maxsplit=0, flags=0): Splits the string at occurrences of the pattern and returns a list of substrings.\n",
        "\n",
        "re.findall(pattern, string, flags=0): Finds all occurrences of the pattern in the string and returns a list of matches.\n",
        "\n",
        "re.finditer(pattern, string, flags=0): Finds all occurrences of the pattern in the string and returns an iterator of match objects.\n",
        "\n",
        "re.sub(pattern, repl, string, count=0, flags=0): Substitutes occurrences of the pattern with the replacement string in the input string.\n",
        "\n",
        "re.subn(pattern, repl, string, count=0, flags=0): Similar to re.sub, but also returns the number of substitutions made.\n",
        "\n",
        "re.escape(string): Escapes special characters in the string, making it safe to use as a literal in a regex pattern.\n"
      ]
    },
    {
      "cell_type": "code",
      "execution_count": 32,
      "id": "3e03586d",
      "metadata": {
        "id": "3e03586d",
        "outputId": "5fcb0cd6-4253-4e7f-9c2b-5df22b492871",
        "colab": {
          "base_uri": "https://localhost:8080/"
        }
      },
      "outputs": [
        {
          "output_type": "stream",
          "name": "stdout",
          "text": [
            "['123', '456']\n"
          ]
        }
      ],
      "source": [
        "# re.compile\n",
        "\n",
        "pattern = re.compile(r'\\d+')\n",
        "text = 'There are 123 apples and 456 oranges'\n",
        "\n",
        "matches = re.findall(pattern,text)\n",
        "print(matches)"
      ]
    },
    {
      "cell_type": "code",
      "execution_count": 35,
      "id": "ab65562d",
      "metadata": {
        "id": "ab65562d",
        "outputId": "44aa1ffe-bffc-468d-bb9b-80998a8fbf28",
        "colab": {
          "base_uri": "https://localhost:8080/"
        }
      },
      "outputs": [
        {
          "output_type": "stream",
          "name": "stdout",
          "text": [
            "123\n"
          ]
        }
      ],
      "source": [
        "# re.search\n",
        "\n",
        "pattern = re.compile(r'\\d+')\n",
        "text = 'There are 123 apples and 456 oranges'\n",
        "\n",
        "matches = pattern.search(text)\n",
        "print(matches.group())"
      ]
    },
    {
      "cell_type": "code",
      "execution_count": 38,
      "id": "a5501c14",
      "metadata": {
        "id": "a5501c14",
        "outputId": "659f26d5-55d6-4213-ead6-f801db3487ae",
        "colab": {
          "base_uri": "https://localhost:8080/"
        }
      },
      "outputs": [
        {
          "output_type": "stream",
          "name": "stdout",
          "text": [
            "123\n"
          ]
        }
      ],
      "source": [
        "# re.match\n",
        "\n",
        "pattern = re.compile(r'\\d+')\n",
        "text = '123 apples and 456 oranges'\n",
        "\n",
        "matches = pattern.match(text)\n",
        "print(matches.group())"
      ]
    },
    {
      "cell_type": "code",
      "execution_count": 41,
      "id": "3b4678c9",
      "metadata": {
        "id": "3b4678c9",
        "outputId": "af18503b-08b5-4703-8e85-cbf01c34b77f",
        "colab": {
          "base_uri": "https://localhost:8080/"
        }
      },
      "outputs": [
        {
          "output_type": "stream",
          "name": "stdout",
          "text": [
            "123456\n"
          ]
        }
      ],
      "source": [
        "# re.fullmatch\n",
        "\n",
        "pattern = re.compile(r'\\d+')\n",
        "text = '123456'\n",
        "\n",
        "matches = pattern.fullmatch(text)\n",
        "print(matches.group())"
      ]
    },
    {
      "cell_type": "code",
      "execution_count": 42,
      "id": "f8020522",
      "metadata": {
        "id": "f8020522",
        "outputId": "33105bc6-3264-48fb-a477-6781cd0244f5",
        "colab": {
          "base_uri": "https://localhost:8080/"
        }
      },
      "outputs": [
        {
          "output_type": "stream",
          "name": "stdout",
          "text": [
            "['The', 'price', 'of', 'apple', 'is', '25', 'Rupees']\n"
          ]
        }
      ],
      "source": [
        "# re.split\n",
        "\n",
        "pattern = re.compile(r'\\s+')\n",
        "text = 'The price of apple is 25 Rupees'\n",
        "\n",
        "matches = pattern.split(text)\n",
        "print(matches)"
      ]
    },
    {
      "cell_type": "code",
      "execution_count": 43,
      "id": "10655f9f",
      "metadata": {
        "id": "10655f9f",
        "outputId": "216dd2ad-7373-42a1-9b39-9339f6c2bd70",
        "colab": {
          "base_uri": "https://localhost:8080/"
        }
      },
      "outputs": [
        {
          "output_type": "stream",
          "name": "stdout",
          "text": [
            "['123', '456']\n"
          ]
        }
      ],
      "source": [
        "# re.findall\n",
        "\n",
        "pattern = re.compile(r'\\d+')\n",
        "text = 'There are 123 apples and 456 oranges'\n",
        "\n",
        "matches = re.findall(pattern,text)\n",
        "print(matches)"
      ]
    },
    {
      "cell_type": "code",
      "execution_count": 46,
      "id": "fc2fc429",
      "metadata": {
        "id": "fc2fc429",
        "outputId": "fea949d4-d148-4f58-9565-0fd64210ee7c",
        "colab": {
          "base_uri": "https://localhost:8080/"
        }
      },
      "outputs": [
        {
          "output_type": "stream",
          "name": "stdout",
          "text": [
            "<callable_iterator object at 0x789aaf7b6290>\n",
            "123\n",
            "456\n"
          ]
        }
      ],
      "source": [
        "# re.finditer\n",
        "\n",
        "pattern = re.compile(r'\\d+')\n",
        "text = 'There are 123 apples and 456 oranges'\n",
        "\n",
        "matches = pattern.finditer(text)\n",
        "print(matches)\n",
        "for x in matches:\n",
        "    print(x.group())"
      ]
    },
    {
      "cell_type": "code",
      "execution_count": 48,
      "id": "e25ea89e",
      "metadata": {
        "id": "e25ea89e",
        "outputId": "a6218b34-fadf-4283-f601-2b0eb1cfd445",
        "colab": {
          "base_uri": "https://localhost:8080/"
        }
      },
      "outputs": [
        {
          "output_type": "stream",
          "name": "stdout",
          "text": [
            "The price of apple is data Rupees and Orange is data Rupees\n"
          ]
        }
      ],
      "source": [
        "# re.sub\n",
        "\n",
        "pattern = re.compile(r'\\d+')\n",
        "text = 'The price of apple is 25 Rupees and Orange is 50 Rupees'\n",
        "\n",
        "matches = pattern.sub(\"data\", text)\n",
        "print(matches)"
      ]
    },
    {
      "cell_type": "code",
      "execution_count": 50,
      "id": "a8b741e5",
      "metadata": {
        "id": "a8b741e5",
        "outputId": "26aa0e06-8f2f-4425-b61f-93fba869dad8",
        "colab": {
          "base_uri": "https://localhost:8080/"
        }
      },
      "outputs": [
        {
          "output_type": "stream",
          "name": "stdout",
          "text": [
            "The price of apple is A Rupees and Orange is A Rupees A\n",
            "3\n"
          ]
        }
      ],
      "source": [
        "# re.subn\n",
        "\n",
        "pattern = re.compile(r'\\d+')\n",
        "text = 'The price of apple is 25 Rupees and Orange is 50 Rupees 1200'\n",
        "\n",
        "res1,res2 = pattern.subn(\"A\",text)\n",
        "print(res1)\n",
        "print(res2)"
      ]
    }
  ],
  "metadata": {
    "kernelspec": {
      "display_name": "Python 3 (ipykernel)",
      "language": "python",
      "name": "python3"
    },
    "language_info": {
      "codemirror_mode": {
        "name": "ipython",
        "version": 3
      },
      "file_extension": ".py",
      "mimetype": "text/x-python",
      "name": "python",
      "nbconvert_exporter": "python",
      "pygments_lexer": "ipython3",
      "version": "3.9.7"
    },
    "colab": {
      "provenance": []
    }
  },
  "nbformat": 4,
  "nbformat_minor": 5
}