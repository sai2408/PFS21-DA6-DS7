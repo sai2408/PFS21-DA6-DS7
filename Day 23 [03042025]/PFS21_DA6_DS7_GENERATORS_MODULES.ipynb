{
  "nbformat": 4,
  "nbformat_minor": 0,
  "metadata": {
    "colab": {
      "provenance": []
    },
    "kernelspec": {
      "name": "python3",
      "display_name": "Python 3"
    },
    "language_info": {
      "name": "python"
    }
  },
  "cells": [
    {
      "cell_type": "markdown",
      "source": [
        "#**Generators**\n",
        "    In Python, Generators are special functions that acts as iterators\n",
        "    They allows us to create a sequence of values on demand, rather than storing the\n",
        "    entire sequence in a memory at once.\n",
        "#**Generator Functions**\n",
        "    We can define generator function using the def keyword, similar to regular function.\n",
        "    Instead of using return keyword to produce a single value, we use yield keyword to\n",
        "    generate sequence of values one at a time.\n",
        "#**Yield Statement**\n",
        "    Yield statement pauses the execution of the generator function and returns the current value.\n",
        "    When we iterate over the generator object agin, the function resumes execution from the point\n",
        "    where it left off, calculating the next value.\n",
        "    The process continues until there are no more values to yield, at which point a StopIteraion\n",
        "    Exception is raised."
      ],
      "metadata": {
        "id": "aU2sr7Ii2UxZ"
      }
    },
    {
      "cell_type": "code",
      "execution_count": 5,
      "metadata": {
        "id": "lQ02IAdVlqnb",
        "colab": {
          "base_uri": "https://localhost:8080/"
        },
        "outputId": "fb9bae18-77fc-40bc-d854-0f3f5e30379f"
      },
      "outputs": [
        {
          "output_type": "stream",
          "name": "stdout",
          "text": [
            "<generator object hello at 0x7870681749e0>\n",
            "1\n",
            "2\n",
            "3\n",
            "4\n",
            "5\n",
            "6\n",
            "7\n",
            "8\n",
            "9\n",
            "10\n",
            "11\n",
            "12\n",
            "13\n",
            "14\n",
            "15\n"
          ]
        }
      ],
      "source": [
        "def hello(a):\n",
        "  for i in range(1,a+1):\n",
        "    yield i\n",
        "y = hello(5)\n",
        "print(y)\n",
        "x = hello(15)\n",
        "for i in x:\n",
        "  print(i)"
      ]
    },
    {
      "cell_type": "code",
      "source": [
        "x = [i for i in range(1,11)]\n",
        "print(x)\n",
        "\n",
        "a = (i for i in range(1,11))\n",
        "print(a)\n",
        "for i in a:\n",
        "  print(i)"
      ],
      "metadata": {
        "colab": {
          "base_uri": "https://localhost:8080/"
        },
        "id": "8U2plYudOO4C",
        "outputId": "4240fcc0-ba32-491a-f971-fb9e9a749698"
      },
      "execution_count": 9,
      "outputs": [
        {
          "output_type": "stream",
          "name": "stdout",
          "text": [
            "[1, 2, 3, 4, 5, 6, 7, 8, 9, 10]\n",
            "[1, 2, 3, 4, 5, 6, 7, 8, 9, 10]\n"
          ]
        }
      ]
    },
    {
      "cell_type": "code",
      "source": [
        "a = (i for i in range(1,11))\n",
        "print(a)\n",
        "print(list(a))\n",
        "b = (i for i in range(1,11))\n",
        "print(b)\n",
        "print(tuple(b))"
      ],
      "metadata": {
        "colab": {
          "base_uri": "https://localhost:8080/"
        },
        "id": "-HtuDAIMPdzK",
        "outputId": "f8b99f1e-2f6a-4fb2-acb9-2d1db291ab3d"
      },
      "execution_count": 13,
      "outputs": [
        {
          "output_type": "stream",
          "name": "stdout",
          "text": [
            "<generator object <genexpr> at 0x787021ece670>\n",
            "[1, 2, 3, 4, 5, 6, 7, 8, 9, 10]\n",
            "<generator object <genexpr> at 0x787021f25560>\n",
            "(1, 2, 3, 4, 5, 6, 7, 8, 9, 10)\n"
          ]
        }
      ]
    },
    {
      "cell_type": "markdown",
      "source": [
        "#**Next() in Generator**\n",
        "    It is a function used to retrive the next value produced by the generator, advancing its execution\n",
        "    to the next yield statement."
      ],
      "metadata": {
        "id": "ha8vIAsg3uc7"
      }
    },
    {
      "cell_type": "code",
      "source": [
        "def hello(a):\n",
        "  for i in range(1,a+1):\n",
        "    yield i\n",
        "x = hello(5)\n",
        "print(x)\n",
        "print(next(x))\n",
        "print(next(x))\n",
        "print(next(x))\n",
        "print(next(x))\n",
        "print(next(x))\n"
      ],
      "metadata": {
        "id": "XLiet-Je39Hs",
        "colab": {
          "base_uri": "https://localhost:8080/"
        },
        "outputId": "5787b52e-9440-4142-f16c-37d789fa51d5"
      },
      "execution_count": 23,
      "outputs": [
        {
          "output_type": "stream",
          "name": "stdout",
          "text": [
            "<generator object hello at 0x7870223d4740>\n",
            "1\n",
            "2\n",
            "3\n",
            "4\n",
            "5\n"
          ]
        }
      ]
    },
    {
      "cell_type": "code",
      "source": [
        "#Problem - 1\n",
        "'''\n",
        "Write a generator function to yield 1 to n even numbers\n",
        "'''\n",
        "#Model - 1\n",
        "'''\n",
        "def hello(n):\n",
        "  for i in range(1,n):\n",
        "    if i%2==0:\n",
        "      yield i\n",
        "x = hello(5)\n",
        "print(next(x))\n",
        "print(next(x))\n",
        "'''\n",
        "#Model - 2\n",
        "'''\n",
        "def bye(n):\n",
        "  for i in range(2,(n*2)+1,2):\n",
        "    yield i\n",
        "res = bye(5)\n",
        "print(next(res))\n",
        "print(next(res))\n",
        "print(next(res))\n",
        "print(next(res))\n",
        "print(next(res))\n",
        "'''\n",
        "#Problem - 2\n",
        "'''\n",
        "Generate Fibonacci Series upto n\n",
        "'''\n",
        "'''\n",
        "def fib_series(n):\n",
        "  a,b = 0,1\n",
        "  for i in range(n):\n",
        "    yield a\n",
        "    a,b = b,a+b\n",
        "x = fib_series(5)\n",
        "print(next(x))\n",
        "print(next(x))\n",
        "print(next(x))\n",
        "print(next(x))\n",
        "print(next(x))\n",
        "'''\n",
        "#Problem - 3\n",
        "'''\n",
        "Generate Factorial values from 1 to n\n",
        "'''\n",
        "'''\n",
        "def fact_series(n):\n",
        "  fact = 1\n",
        "  for i in range(1,n+1):\n",
        "    fact = fact * i\n",
        "    yield fact\n",
        "x = fact_series(5)\n",
        "print(next(x))\n",
        "print(next(x))\n",
        "print(next(x))\n",
        "print(next(x))\n",
        "print(next(x))\n",
        "'''\n",
        "#Problem - 4\n",
        "'''\n",
        "def gen_seq():\n",
        "  n = 1\n",
        "  while True:\n",
        "    yield n\n",
        "    n = n + 1\n",
        "res = gen_seq()\n",
        "print(next(res))\n",
        "print(next(res))\n",
        "print(next(res))\n",
        "print(next(res))\n",
        "'''\n",
        "#Problem - 5\n",
        "def gen_even_seq():\n",
        "  n = 2\n",
        "  while True:\n",
        "    yield n\n",
        "    n = n + 2\n",
        "r1 = gen_even_seq()\n",
        "'''\n",
        "print(next(r1))\n",
        "print(next(r1))\n",
        "print(next(r1))\n",
        "'''\n",
        "for i in range(10):\n",
        "  print(next(r1))"
      ],
      "metadata": {
        "colab": {
          "base_uri": "https://localhost:8080/"
        },
        "id": "FFwAIz0zQ81F",
        "outputId": "10a2cbc1-f408-4acf-c9b1-0e876ac729ff"
      },
      "execution_count": 55,
      "outputs": [
        {
          "output_type": "stream",
          "name": "stdout",
          "text": [
            "2\n",
            "4\n",
            "6\n",
            "8\n",
            "10\n",
            "12\n",
            "14\n",
            "16\n",
            "18\n",
            "20\n"
          ]
        }
      ]
    },
    {
      "cell_type": "markdown",
      "source": [
        "#**Modules in Python**\n",
        "    A module is a Python object with arbitrarily named attributes that we can bind and reference.\n",
        "    Modules are Python .py files that consist of Python code. Any Python file can be referenced as a module.\n",
        "    A module can define functions, classes and variablest  hat can then be utilized in other Python programs.\n",
        "#**Types of Modules**\n",
        "    1. Built in Modules\n",
        "    2. User Defined Modules\n",
        "#**Syntax to Access Properties**\n",
        "    1. module_name.variable_name\n",
        "    2. modulen_ame.function_name(parameters)\n",
        "#**Importing Types**\n",
        "    1. import module_name\n",
        "    2.  module_name import *\n",
        "    3. from module_name import properties_required\n"
      ],
      "metadata": {
        "id": "rJS096H539iO"
      }
    },
    {
      "cell_type": "code",
      "source": [],
      "metadata": {
        "id": "YSSnnPso4ks8"
      },
      "execution_count": null,
      "outputs": []
    }
  ]
}