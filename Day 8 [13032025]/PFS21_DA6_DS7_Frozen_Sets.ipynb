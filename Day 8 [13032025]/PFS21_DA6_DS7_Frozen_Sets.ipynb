{
  "nbformat": 4,
  "nbformat_minor": 0,
  "metadata": {
    "colab": {
      "provenance": []
    },
    "kernelspec": {
      "name": "python3",
      "display_name": "Python 3"
    },
    "language_info": {
      "name": "python"
    }
  },
  "cells": [
    {
      "cell_type": "markdown",
      "source": [
        "#Frozen Sets\n",
        "    1. A Frozen Set is an unordered collection data type that is iterable, immutable and has no duplicate elements.\n",
        "    2. Frozen Set is majorly used to perform mathematical set operations like union,difference,intersection etc,..\n",
        "    \n",
        "    Operations on Frozen Sets:\n",
        "        1. Creation\n",
        "        2. Accessing"
      ],
      "metadata": {
        "id": "5jFbLszhKXW3"
      }
    },
    {
      "cell_type": "markdown",
      "source": [
        "#Creation\n",
        "    Creation of an Empty Frozen Set\n",
        "    Creation of Frozen Set with Single Element\n",
        "    Creation of Frozen Set with multiple Elements\n",
        "    Creation of Frozen Set with user Inputs"
      ],
      "metadata": {
        "id": "qTyiXAooLOVO"
      }
    },
    {
      "cell_type": "code",
      "execution_count": 6,
      "metadata": {
        "id": "JiBrxaZyKNVb",
        "colab": {
          "base_uri": "https://localhost:8080/",
          "height": 0
        },
        "outputId": "6d49da6a-08f3-4ec1-80dc-ad2443618c87"
      },
      "outputs": [
        {
          "output_type": "stream",
          "name": "stdout",
          "text": [
            "frozenset()\n",
            "<class 'frozenset'>\n",
            "frozenset({1})\n",
            "<class 'frozenset'>\n",
            "frozenset({1, 2, 3, 4, 40, 50})\n",
            "<class 'frozenset'>\n"
          ]
        }
      ],
      "source": [
        "s1 = frozenset()\n",
        "print(s1)\n",
        "print(type(s1))\n",
        "s1 = frozenset([1])\n",
        "print(s1)\n",
        "print(type(s1))\n",
        "s2 = frozenset([1,2,3,40,4,40,50])\n",
        "print(s2)\n",
        "print(type(s2))"
      ]
    },
    {
      "cell_type": "markdown",
      "source": [
        "#Accessing\n",
        "    Looping\n",
        "        For Loop without range\n",
        "    Methods\n",
        "        copy()"
      ],
      "metadata": {
        "id": "gbPUIldLLcs0"
      }
    },
    {
      "cell_type": "code",
      "source": [
        "s1 = frozenset([10,20,30,40])\n",
        "print(s1)\n",
        "s2 = s1.copy()\n",
        "print(s2)"
      ],
      "metadata": {
        "id": "wYAYEnILLxiG",
        "colab": {
          "base_uri": "https://localhost:8080/",
          "height": 0
        },
        "outputId": "4e132f14-1bf2-439a-f31f-fd1a36c916bc"
      },
      "execution_count": 8,
      "outputs": [
        {
          "output_type": "stream",
          "name": "stdout",
          "text": [
            "frozenset({40, 10, 20, 30})\n",
            "frozenset({40, 10, 20, 30})\n"
          ]
        }
      ]
    },
    {
      "cell_type": "markdown",
      "source": [
        "#Built-in functions\n",
        "    1. len()\n",
        "    2. max()\n",
        "    3. min()\n",
        "    4. sum()\n",
        "    5. sorted()"
      ],
      "metadata": {
        "id": "6IJg_FrsMVi1"
      }
    },
    {
      "cell_type": "code",
      "source": [
        "s1 = frozenset([1,2,3,4,5])\n",
        "print(len(s1))\n",
        "print(max(s1))\n",
        "print(min(s1))\n",
        "print(sum(s1))\n",
        "print(sorted(s1))"
      ],
      "metadata": {
        "id": "Mbl4BrlAMt3W",
        "colab": {
          "base_uri": "https://localhost:8080/",
          "height": 0
        },
        "outputId": "06e61135-1985-4933-c640-047305861094"
      },
      "execution_count": 13,
      "outputs": [
        {
          "output_type": "stream",
          "name": "stdout",
          "text": [
            "5\n",
            "5\n",
            "1\n",
            "15\n",
            "[1, 2, 3, 4, 5]\n"
          ]
        }
      ]
    },
    {
      "cell_type": "markdown",
      "source": [
        "#Mathematical set operations\n",
        "    1. union()\n",
        "        union() or  |\n",
        "    2. intersection\n",
        "        intersection() or &\n",
        "    3. difference\n",
        "        difference() or -\n",
        "    4. symmetric difference\n",
        "        symmetric_differnece() or ^\n",
        "    5. isdisjoint()\n",
        "    6. issubset()\n",
        "    7. issuperset()"
      ],
      "metadata": {
        "id": "n0i6W3ETMxE1"
      }
    },
    {
      "cell_type": "code",
      "source": [
        "s1 = frozenset([1,2,3,4])\n",
        "s2 = frozenset([3,4,5,6])\n",
        "print(s1.union(s2))\n",
        "print(s1.intersection(s2))\n",
        "print(s2.intersection(s1))\n",
        "print(s1.difference(s2))\n",
        "print(s2.difference(s1))\n",
        "print(s1.symmetric_difference(s2))\n",
        "print(s2.symmetric_difference(s1))\n",
        "s1 = frozenset([1,2,3])\n",
        "s2 = frozenset([1,2,3,4,5])\n",
        "print(s1.isdisjoint(s2))\n",
        "print(s2.isdisjoint(s1))\n",
        "print(s1.issubset(s2))\n",
        "print(s2.issubset(s1))\n",
        "print(s1.issuperset(s2))\n",
        "print(s2.issuperset(s1))"
      ],
      "metadata": {
        "id": "NiEOVatdNsDn",
        "colab": {
          "base_uri": "https://localhost:8080/",
          "height": 0
        },
        "outputId": "07623b22-43ef-42cf-fb2f-9e4b509db7c6"
      },
      "execution_count": 20,
      "outputs": [
        {
          "output_type": "stream",
          "name": "stdout",
          "text": [
            "frozenset({1, 2, 3, 4, 5, 6})\n",
            "frozenset({3, 4})\n",
            "frozenset({3, 4})\n",
            "frozenset({1, 2})\n",
            "frozenset({5, 6})\n",
            "frozenset({1, 2, 5, 6})\n",
            "frozenset({1, 2, 5, 6})\n",
            "False\n",
            "False\n",
            "True\n",
            "False\n",
            "False\n",
            "True\n"
          ]
        }
      ]
    }
  ]
}