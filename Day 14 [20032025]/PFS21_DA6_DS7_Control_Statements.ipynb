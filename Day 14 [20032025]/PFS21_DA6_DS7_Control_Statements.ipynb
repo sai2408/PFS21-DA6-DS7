{
  "nbformat": 4,
  "nbformat_minor": 0,
  "metadata": {
    "colab": {
      "provenance": []
    },
    "kernelspec": {
      "name": "python3",
      "display_name": "Python 3"
    },
    "language_info": {
      "name": "python"
    }
  },
  "cells": [
    {
      "cell_type": "markdown",
      "source": [
        "#**CONTROL STATEMENTS**\n",
        "    Loops are traditionally used when you have a block of code which we want to repeat a fixed number of times.\n",
        "#**Types of Control Statements**\n",
        "    While\n",
        "    For\n",
        "    Nested control Statements\n"
      ],
      "metadata": {
        "id": "q59hQg2J2hNL"
      }
    },
    {
      "cell_type": "markdown",
      "source": [
        "#**WHILE LOOP**\n",
        "\n",
        "#SYNTAX\n",
        "    while condition:\n",
        "        while statement 1\n",
        "        while statement 2\n",
        "        .\n",
        "        .\n",
        "        ."
      ],
      "metadata": {
        "id": "HFUwY--33irX"
      }
    },
    {
      "cell_type": "code",
      "execution_count": null,
      "metadata": {
        "id": "0z7Gyakd1sn2",
        "colab": {
          "base_uri": "https://localhost:8080/"
        },
        "outputId": "18da208a-77f7-40ed-eb6b-d150a3d481e9"
      },
      "outputs": [
        {
          "output_type": "stream",
          "name": "stdout",
          "text": [
            "Hello World\n",
            "Hello World\n",
            "Hello World\n",
            "Hello World\n",
            "Hello World\n",
            "Hello World\n",
            "Hello World\n",
            "Hello World\n",
            "Hello World\n",
            "Hello World\n"
          ]
        }
      ],
      "source": [
        "#Problem - 1\n",
        "'''\n",
        "x = 1\n",
        "while x <= 10:\n",
        "  print(\"Hello World\")\n",
        "  x = x + 1\n",
        "'''\n",
        "#Problem - 2\n",
        "'''\n",
        "x = 1\n",
        "while x < 11:\n",
        "  print(x)\n",
        "  x = x +1\n",
        "'''\n",
        "#Problem - 3\n",
        "'''\n",
        "x = 10\n",
        "while x>=1:\n",
        "  print(x)\n",
        "  x = x - 1\n",
        "'''"
      ]
    },
    {
      "cell_type": "markdown",
      "source": [
        "#**FOR LOOP**\n",
        "\n",
        "#SYNTAX\n",
        "    for variable in sequence:\n",
        "        for statement 1\n",
        "        for statement 2\n",
        "        .\n",
        "        .\n",
        "        ."
      ],
      "metadata": {
        "id": "qfa9R2WA3qw9"
      }
    },
    {
      "cell_type": "code",
      "source": [
        "#Problem - 1\n",
        "'''\n",
        "for i in range(10):\n",
        "  print(\"Hello Codegnan\")\n",
        "'''\n",
        "'''\n",
        "for i in range(100,110):\n",
        "  print(\"Hello world\")\n",
        "'''\n",
        "\n",
        "#Problem - 2\n",
        "#Approach - 1\n",
        "'''\n",
        "for i in range(10):\n",
        "  print(i+1)\n",
        "'''\n",
        "#appraoch - 2\n",
        "'''\n",
        "for i in range(1,11):\n",
        "  print(i)\n",
        "'''\n",
        "#Problem - 3\n",
        "'''\n",
        "for i in range(1,11,3):\n",
        "  print(i)\n",
        "'''"
      ],
      "metadata": {
        "id": "0kTMYpDM3tI1",
        "colab": {
          "base_uri": "https://localhost:8080/"
        },
        "outputId": "ceefaee5-159d-4f92-9315-34682fe78875"
      },
      "execution_count": null,
      "outputs": [
        {
          "output_type": "stream",
          "name": "stdout",
          "text": [
            "1\n",
            "4\n",
            "7\n",
            "10\n"
          ]
        }
      ]
    },
    {
      "cell_type": "code",
      "source": [
        "#Printing 1 - 174\n",
        "'''\n",
        "for x in range(100,175):\n",
        "  print(x)\n",
        "'''\n",
        "'''\n",
        "x = 100\n",
        "while x < 175:\n",
        "  print(x)\n",
        "  x = x + 1\n",
        "'''"
      ],
      "metadata": {
        "colab": {
          "base_uri": "https://localhost:8080/",
          "height": 193
        },
        "id": "Rb4zcYDgCm9B",
        "outputId": "d830a36e-7543-4e85-9bae-976da71baf44"
      },
      "execution_count": null,
      "outputs": [
        {
          "output_type": "error",
          "ename": "TypeError",
          "evalue": "'float' object cannot be interpreted as an integer",
          "traceback": [
            "\u001b[0;31m---------------------------------------------------------------------------\u001b[0m",
            "\u001b[0;31mTypeError\u001b[0m                                 Traceback (most recent call last)",
            "\u001b[0;32m<ipython-input-20-4d3e930b8963>\u001b[0m in \u001b[0;36m<cell line: 0>\u001b[0;34m()\u001b[0m\n\u001b[1;32m     10\u001b[0m   \u001b[0mx\u001b[0m \u001b[0;34m=\u001b[0m \u001b[0mx\u001b[0m \u001b[0;34m+\u001b[0m \u001b[0;36m1\u001b[0m\u001b[0;34m\u001b[0m\u001b[0;34m\u001b[0m\u001b[0m\n\u001b[1;32m     11\u001b[0m '''\n\u001b[0;32m---> 12\u001b[0;31m \u001b[0;32mfor\u001b[0m \u001b[0mi\u001b[0m \u001b[0;32min\u001b[0m \u001b[0mrange\u001b[0m\u001b[0;34m(\u001b[0m\u001b[0;36m1.5\u001b[0m\u001b[0;34m,\u001b[0m\u001b[0;36m10\u001b[0m\u001b[0;34m)\u001b[0m\u001b[0;34m:\u001b[0m\u001b[0;34m\u001b[0m\u001b[0;34m\u001b[0m\u001b[0m\n\u001b[0m\u001b[1;32m     13\u001b[0m   \u001b[0mprint\u001b[0m\u001b[0;34m(\u001b[0m\u001b[0mi\u001b[0m\u001b[0;34m)\u001b[0m\u001b[0;34m\u001b[0m\u001b[0;34m\u001b[0m\u001b[0m\n",
            "\u001b[0;31mTypeError\u001b[0m: 'float' object cannot be interpreted as an integer"
          ]
        }
      ]
    },
    {
      "cell_type": "markdown",
      "source": [
        "#**NESTED CONTROL STATEMENTS**\n",
        "\n",
        "#Types:\n",
        "    1. For in For\n",
        "    2. For in while\n",
        "    3. While in while\n",
        "    4. For in for"
      ],
      "metadata": {
        "id": "9irtNmxX3taM"
      }
    },
    {
      "cell_type": "code",
      "source": [
        "#Patterns\n",
        "#Pattern - 1\n",
        "'''\n",
        "for i in range(3):\n",
        "  for j in range(3):\n",
        "    print(f\"*\",end=\" \")\n",
        "  print()\n",
        "'''\n",
        "#Pattern - 2\n",
        "'''\n",
        "for i in range(4):\n",
        "  for j in range(4):\n",
        "    if i>=j:\n",
        "      print(\"*\",end=\" \")\n",
        "  print()\n",
        "'''\n",
        "#Pattern - 3\n",
        "'''\n",
        "for i in range(5):\n",
        "  for j in range(5):\n",
        "    if i == j:\n",
        "      print(\"#\",end=\" \")\n",
        "    else:\n",
        "      print(\"*\",end=\" \")\n",
        "  print()\n",
        "'''\n",
        "#Pattern - 4\n",
        "'''\n",
        "for i in range(4):\n",
        "  for j in range(5):\n",
        "    if i == 0 or i==3 or j==0 or j==4:\n",
        "      print(f\"*\",end=\" \")\n",
        "    else:\n",
        "      print(\" \",end=\" \")\n",
        "  print()\n",
        "'''\n",
        "#Pattern - 5\n",
        "#Approach - 1 [temp variable]\n",
        "'''\n",
        "for i in range(4):\n",
        "  temp =  1\n",
        "  for j in range(4):\n",
        "    if i>=j:\n",
        "      print(f\"{temp}\",end=\" \")\n",
        "    temp = temp + 1\n",
        "  print()\n",
        "'''\n",
        "#Approach - 2\n",
        "'''\n",
        "for i in range(4):\n",
        "  for j in range(4):\n",
        "    if i>=j:\n",
        "      print(f\"{j+1}\",end=\" \")\n",
        "  print()\n",
        "'''\n",
        "#Pattern -6\n",
        "#Approach - 1 [Using Temp Variable]\n",
        "'''\n",
        "temp = 1\n",
        "for i in range(4):\n",
        "  for j in range(4):\n",
        "    if i>=j:\n",
        "      print(f\"{temp}\",end=\" \")\n",
        "  temp = temp + 1\n",
        "  print()\n",
        "'''\n",
        "#Approach - 2\n",
        "'''\n",
        "for i in range(4):\n",
        "  for j in range(4):\n",
        "    if i>=j:\n",
        "      print(f\"{i+1}\",end=\" \")\n",
        "  print()\n",
        "'''\n",
        "#Pattern - 7\n",
        "'''\n",
        "for i in range(4):\n",
        "  if i%2==0:\n",
        "    for j in range(4):\n",
        "      if i>=j:\n",
        "        print(f\"*\",end=\" \")\n",
        "  else:\n",
        "    for j in range(4):\n",
        "      if i>=j:\n",
        "        print(f\"{j+1}\",end=\" \")\n",
        "  print()\n",
        "'''"
      ],
      "metadata": {
        "id": "yAcHVaWW3wvc",
        "colab": {
          "base_uri": "https://localhost:8080/"
        },
        "outputId": "eccd156e-775e-4e8f-ba57-cc932a40d021"
      },
      "execution_count": 67,
      "outputs": [
        {
          "output_type": "stream",
          "name": "stdout",
          "text": [
            "* \n",
            "1 2 \n",
            "* * * \n",
            "1 2 3 4 \n"
          ]
        }
      ]
    },
    {
      "cell_type": "markdown",
      "source": [
        "#**LOOP CONTROLLED STATEMENTS**\n",
        "    Break\n",
        "    Continue\n",
        "    Pass"
      ],
      "metadata": {
        "id": "u6JC7LCE5uSy"
      }
    },
    {
      "cell_type": "code",
      "source": [
        "#Break\n",
        "'''\n",
        "for i in range(10):\n",
        "  if i == 5:\n",
        "    break\n",
        "  print(\"Hello\")\n",
        "  print(i)\n",
        "  print(\"bye\")\n",
        "'''\n",
        "#Continue\n",
        "'''\n",
        "for i in range(10):\n",
        "  print(\"Hello\")\n",
        "  if i == 5:\n",
        "    continue\n",
        "  print(i)\n",
        "  print(\"Bye\")\n",
        "print(\"Outside\")\n",
        "'''\n",
        "#Pass\n",
        "'''\n",
        "for i in range(10):\n",
        "  pass\n",
        "'''"
      ],
      "metadata": {
        "id": "BS2zlHhM55rV"
      },
      "execution_count": null,
      "outputs": []
    },
    {
      "cell_type": "markdown",
      "source": [
        "#**Clauses**\n",
        "    Else with while\n",
        "    Else with For"
      ],
      "metadata": {
        "id": "ytCNxhC55-gs"
      }
    },
    {
      "cell_type": "code",
      "source": [
        "#for with else\n",
        "'''\n",
        "for i in range(5):\n",
        "  if i==2:\n",
        "    break\n",
        "  print(i)\n",
        "else:\n",
        "  print(\"Ok\")\n",
        "'''\n",
        "#while with else\n",
        "'''\n",
        "x = 1\n",
        "while x <= 5:\n",
        "  print(x)\n",
        "  if x == 3:\n",
        "    break\n",
        "  x = x + 1\n",
        "else:\n",
        "  print(\"Hello\")\n",
        "'''\n"
      ],
      "metadata": {
        "id": "DVMfcVlf6DZG",
        "colab": {
          "base_uri": "https://localhost:8080/"
        },
        "outputId": "880a6235-911f-404f-84b4-30a70c2c809c"
      },
      "execution_count": null,
      "outputs": [
        {
          "output_type": "stream",
          "name": "stdout",
          "text": [
            "1\n",
            "2\n",
            "3\n"
          ]
        }
      ]
    },
    {
      "cell_type": "markdown",
      "source": [
        "#**Accessing Elements of Lists**\n",
        "    For With Range\n",
        "    For Without Range"
      ],
      "metadata": {
        "id": "8Y_XlF-1g00o"
      }
    },
    {
      "cell_type": "code",
      "source": [
        "'''\n",
        "x = [10,20,30,40,50]\n",
        "for i in range(len(x)):\n",
        "  print(x[i],i)\n",
        "'''\n",
        "'''\n",
        "x = [10,20,30,40,50]\n",
        "for i in x:\n",
        "  print(i)\n",
        "'''\n",
        "'''\n",
        "x = [100,200,300]\n",
        "for i in x:\n",
        "  print(i,end=\",\")\n",
        "print()\n",
        "print(*x,sep=\",\")\n",
        "'''"
      ],
      "metadata": {
        "id": "c1gHD_1wg64I",
        "colab": {
          "base_uri": "https://localhost:8080/"
        },
        "outputId": "2b573bbc-a6ef-43e8-f1a4-c1036cdaeb3f"
      },
      "execution_count": null,
      "outputs": [
        {
          "output_type": "stream",
          "name": "stdout",
          "text": [
            "100,200,300,\n",
            "100,200,300\n"
          ]
        }
      ]
    },
    {
      "cell_type": "markdown",
      "source": [
        "#**Accessing Elements of Tuple**\n",
        "    For With Range\n",
        "    For Without Range"
      ],
      "metadata": {
        "id": "qyJxJTDcg7-S"
      }
    },
    {
      "cell_type": "code",
      "source": [
        "'''\n",
        "x = (10,20,30,40,50)\n",
        "for i in range(len(x)):\n",
        "  print(x[i])\n",
        "'''\n",
        "'''\n",
        "x = (10,20,30,40,50)\n",
        "for i in range(len(x)):\n",
        "  print(x[i],end=\" \")\n",
        "'''\n",
        "'''\n",
        "x = (10,20,30,40,50)\n",
        "for i in range(len(x)):\n",
        "  print(x[i],end=\",\")\n",
        "'''\n",
        "'''\n",
        "print(*x,sep=\" \")\n",
        "'''\n",
        "'''\n",
        "for i in x:\n",
        "  print(i)\n",
        "'''\n",
        "'''\n",
        "for i in x:\n",
        "  print(i,end=\" \")\n",
        "'''\n",
        "'''\n",
        "for i in x:\n",
        "  print(i,end=\",\")\n",
        "'''\n",
        "'''\n",
        "print(*x,sep=\",\")\n",
        "'''"
      ],
      "metadata": {
        "id": "2DYWUYCug_7N",
        "colab": {
          "base_uri": "https://localhost:8080/"
        },
        "outputId": "17f59d61-1b0a-418f-e2eb-71abd9b9afe1"
      },
      "execution_count": 12,
      "outputs": [
        {
          "output_type": "stream",
          "name": "stdout",
          "text": [
            "10,20,30,40,50\n"
          ]
        }
      ]
    },
    {
      "cell_type": "markdown",
      "source": [
        "#**Accessing Elements of Sets**\n",
        "    For Without Range"
      ],
      "metadata": {
        "id": "8tHhRqZ8g_Xo"
      }
    },
    {
      "cell_type": "code",
      "source": [
        "x = {10,20,30,34.56,True}\n",
        "'''\n",
        "print(x)\n",
        "'''\n",
        "'''\n",
        "for i in x:\n",
        "  print(i)\n",
        "'''\n",
        "'''\n",
        "for i in x:\n",
        "  print(i,end= \" \")\n",
        "'''\n",
        "'''\n",
        "for i in x:\n",
        "  print(i,end=\",\")\n",
        "'''\n",
        "'''\n",
        "print(*x,sep=\", \")\n",
        "'''"
      ],
      "metadata": {
        "id": "PnfzQ2jlhDU5",
        "colab": {
          "base_uri": "https://localhost:8080/"
        },
        "outputId": "49c653b1-5c3f-4ea6-ec95-776040bbd7e9"
      },
      "execution_count": 19,
      "outputs": [
        {
          "output_type": "stream",
          "name": "stdout",
          "text": [
            "True, 34.56, 20, 10, 30\n"
          ]
        }
      ]
    },
    {
      "cell_type": "markdown",
      "source": [
        "#**Accessing Elements of Dictionary**\n",
        "    For Without Range"
      ],
      "metadata": {
        "id": "ylXz_7Z9hDxp"
      }
    },
    {
      "cell_type": "code",
      "source": [
        "d = {1:10,2:20,3:30,4:40,5:50}\n",
        "'''\n",
        "print(d)\n",
        "'''\n",
        "'''\n",
        "for i in d:\n",
        "  print(i)\n",
        "'''\n",
        "'''\n",
        "for i in d:\n",
        "  print(d[i])\n",
        "'''\n",
        "'''\n",
        "for i in d:\n",
        "  print(i,d[i])\n",
        "'''\n",
        "'''\n",
        "for i in d.items():\n",
        "  print(i)\n",
        "'''"
      ],
      "metadata": {
        "id": "C7DFoCf6hHaq",
        "colab": {
          "base_uri": "https://localhost:8080/"
        },
        "outputId": "62afe17d-f4c6-4e0a-a455-636ee96363e4"
      },
      "execution_count": 24,
      "outputs": [
        {
          "output_type": "stream",
          "name": "stdout",
          "text": [
            "(1, 10)\n",
            "(2, 20)\n",
            "(3, 30)\n",
            "(4, 40)\n",
            "(5, 50)\n"
          ]
        }
      ]
    }
  ]
}