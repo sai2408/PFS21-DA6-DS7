{
  "nbformat": 4,
  "nbformat_minor": 0,
  "metadata": {
    "colab": {
      "provenance": []
    },
    "kernelspec": {
      "name": "python3",
      "display_name": "Python 3"
    },
    "language_info": {
      "name": "python"
    }
  },
  "cells": [
    {
      "cell_type": "markdown",
      "source": [
        "#Data Types\n",
        "    1. Numeric Types:\n",
        "        int\n",
        "        flaot\n",
        "        complex\n",
        "    2. Sequence Types:\n",
        "        list\n",
        "        tuple\n",
        "    3. Mapping Types:\n",
        "        dict\n",
        "    4. Set types\n",
        "        sets\n",
        "        frozensets\n",
        "    5. Boolean Types\n",
        "        bool [ True / False ]\n",
        "    6. Text Type:\n",
        "        Strings"
      ],
      "metadata": {
        "id": "Q-M84qHsmuG2"
      }
    },
    {
      "cell_type": "markdown",
      "source": [
        "#Numeric\n",
        "    1. Int\n",
        "    2. Float\n",
        "    3. Complex"
      ],
      "metadata": {
        "id": "abBBFRFFm76m"
      }
    },
    {
      "cell_type": "code",
      "execution_count": 8,
      "metadata": {
        "id": "rArahkFEmsPR",
        "colab": {
          "base_uri": "https://localhost:8080/"
        },
        "outputId": "1357ae19-1df7-499a-afeb-1ec5b996dbae"
      },
      "outputs": [
        {
          "output_type": "stream",
          "name": "stdout",
          "text": [
            "10\n",
            "<class 'int'>\n",
            "1000000000000000000000000000\n",
            "<class 'int'>\n",
            "10.4567\n",
            "<class 'float'>\n",
            "(10+4j)\n",
            "<class 'complex'>\n",
            "(4+5j)\n",
            "<class 'complex'>\n"
          ]
        }
      ],
      "source": [
        "a = 10\n",
        "print(a)\n",
        "print(type(a))\n",
        "\n",
        "a = 1000000000000000000000000000\n",
        "print(a)\n",
        "print(type(a))\n",
        "\n",
        "a = 10.4567\n",
        "print(a)\n",
        "print(type(a))\n",
        "\n",
        "a = 10+4j\n",
        "print(a)\n",
        "print(type(a))\n",
        "b = complex(4,5)\n",
        "print(b)\n",
        "print(type(b))"
      ]
    },
    {
      "cell_type": "markdown",
      "source": [
        "#**Boolean**\n",
        "    True\n",
        "    False"
      ],
      "metadata": {
        "id": "t0r-H06UAK3a"
      }
    },
    {
      "cell_type": "code",
      "source": [
        "a = True\n",
        "print(a)\n",
        "print(type(a))\n",
        "\n",
        "a = False\n",
        "print(a)\n",
        "print(type(a))\n",
        "'''\n",
        "Note: type() function helps to define the type if the data\n",
        "ex: -\n",
        "    a = =10\n",
        "    type(a)\n",
        "'''"
      ],
      "metadata": {
        "colab": {
          "base_uri": "https://localhost:8080/"
        },
        "id": "uFOvZ2iSAOI8",
        "outputId": "ca1a64b6-2b8c-4b49-ef88-e23f47827c3b"
      },
      "execution_count": 10,
      "outputs": [
        {
          "output_type": "stream",
          "name": "stdout",
          "text": [
            "True\n",
            "<class 'bool'>\n",
            "False\n",
            "<class 'bool'>\n"
          ]
        }
      ]
    }
  ]
}