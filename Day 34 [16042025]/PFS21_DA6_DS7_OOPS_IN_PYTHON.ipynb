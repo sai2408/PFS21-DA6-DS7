{
  "nbformat": 4,
  "nbformat_minor": 0,
  "metadata": {
    "colab": {
      "provenance": []
    },
    "kernelspec": {
      "name": "python3",
      "display_name": "Python 3"
    },
    "language_info": {
      "name": "python"
    }
  },
  "cells": [
    {
      "cell_type": "markdown",
      "source": [
        "#OOPS IN PYTHON\n",
        "    1. Class\n",
        "    2. Object\n",
        "    3. Attributes\n",
        "    4. Methods\n",
        "    5. Constructors"
      ],
      "metadata": {
        "id": "ogHMnCf9J05C"
      }
    },
    {
      "cell_type": "code",
      "source": [
        "class hello:\n",
        "  a = 10\n",
        "  b = 20\n",
        "  #wopor\n",
        "  def hello1(self):\n",
        "    print(\"I am from hello class (1)\")\n",
        "  def hello2(self,a,b):\n",
        "    print(a+b)\n",
        "  def hello3(self):\n",
        "    return \"I am from hello class (2)\"\n",
        "  def hello4(self,a,b):\n",
        "    return a+b\n",
        "ob1 = hello()\n",
        "print(ob1.a)\n",
        "print(ob1.b)\n",
        "ob1.hello1()\n",
        "ob1.hello2(10,20)\n",
        "res1 = ob1.hello3()\n",
        "print(res1)\n",
        "res2 = ob1.hello4(50,60)\n",
        "print(res2)\n"
      ],
      "metadata": {
        "colab": {
          "base_uri": "https://localhost:8080/"
        },
        "id": "s0fGq3DPKv9F",
        "outputId": "3f543eac-3c86-4512-a446-92cb095bf21c"
      },
      "execution_count": null,
      "outputs": [
        {
          "output_type": "stream",
          "name": "stdout",
          "text": [
            "10\n",
            "20\n",
            "I am from hello class (1)\n",
            "30\n",
            "I am from hello class (2)\n",
            "110\n"
          ]
        }
      ]
    },
    {
      "cell_type": "code",
      "source": [
        "class codegnan:\n",
        "  def pfs21(self):\n",
        "    print(\"I am from PFS21\")\n",
        "  def da6(self):\n",
        "    return \"I am from DA6\"\n",
        "x = codegnan()\n",
        "x.pfs21()\n",
        "print(x.da6())"
      ],
      "metadata": {
        "colab": {
          "base_uri": "https://localhost:8080/"
        },
        "id": "C8GX1Pm4Mc-G",
        "outputId": "96b33df9-80e3-480d-ea90-37da4cfa529c"
      },
      "execution_count": null,
      "outputs": [
        {
          "output_type": "stream",
          "name": "stdout",
          "text": [
            "I am from PFS21\n",
            "I am from DA6\n"
          ]
        }
      ]
    },
    {
      "cell_type": "code",
      "source": [
        "class movie:\n",
        "  movie_name = \"Pushpa 2\"\n",
        "  def director(self):\n",
        "    print(self.movie_name)\n",
        "    print(\"Sukumar\")\n",
        "  def padindrome_song(self):\n",
        "    song_name = input(\"Enter song name: \")\n",
        "    if song_name == song_name[::-1]:\n",
        "      print(\"It is palindrome Song\")\n",
        "    else:\n",
        "      print(\"It is not Palindrome song\")\n",
        "mv = movie()\n",
        "mv.director()\n",
        "mv.padindrome_song()"
      ],
      "metadata": {
        "colab": {
          "base_uri": "https://localhost:8080/"
        },
        "id": "r1e55cGXOQh8",
        "outputId": "49834e16-e392-403f-9df7-e71bc4e4a388"
      },
      "execution_count": null,
      "outputs": [
        {
          "output_type": "stream",
          "name": "stdout",
          "text": [
            "Pushpa 2\n",
            "Sukumar\n",
            "Enter song name: kisik\n",
            "It is palindrome Song\n"
          ]
        }
      ]
    },
    {
      "cell_type": "code",
      "source": [
        "class node:\n",
        "  data = None\n",
        "  address = None\n",
        "\n",
        "n1 = node()\n",
        "n1.data = 10\n",
        "print(n1)\n",
        "\n",
        "n2 = node()\n",
        "n2.data = 20\n",
        "print(n2)\n",
        "n1.address = n2\n",
        "\n",
        "n3 = node()\n",
        "n3.data = 30\n",
        "n2.address = n3\n",
        "\n",
        "\n",
        "print(n1.data)\n",
        "print(n1.address)\n",
        "print(n2.data)\n",
        "print(n2.address)\n",
        "\n",
        "print(\"Accessing of data\")\n",
        "print(n1.data)\n",
        "print(n1.address.data)\n",
        "print(n1.address.address.data)"
      ],
      "metadata": {
        "colab": {
          "base_uri": "https://localhost:8080/"
        },
        "id": "_LfYcEs9Rx2e",
        "outputId": "23741b43-8172-4655-8f16-82016a903310"
      },
      "execution_count": null,
      "outputs": [
        {
          "output_type": "stream",
          "name": "stdout",
          "text": [
            "<__main__.node object at 0x7e33e3299750>\n",
            "<__main__.node object at 0x7e33e3299890>\n",
            "10\n",
            "<__main__.node object at 0x7e33e3299890>\n",
            "20\n",
            "<__main__.node object at 0x7e33e3272890>\n",
            "Accessing of data\n",
            "10\n",
            "20\n",
            "30\n"
          ]
        }
      ]
    },
    {
      "cell_type": "code",
      "source": [
        "#Parameterized\n",
        "'''\n",
        "class hello:\n",
        "  def __init__(self,a,b):\n",
        "    print(\"Hello\",a+b)\n",
        "  def display(self,x,y):\n",
        "    print(\"Hello Codegnan\",x+y)\n",
        "obj = hello(100,200)\n",
        "obj.display(10,20)\n",
        "'''\n",
        "#Non Parameterized\n",
        "'''\n",
        "class hello:\n",
        "  def __init__(self):\n",
        "    print(\"I am a Consustuctor of Hello class\")\n",
        "  def display(self):\n",
        "    print(\"HEllo World\")\n",
        "obj1 = hello()\n",
        "obj1.display()\n",
        "'''\n",
        "#Problem\n",
        "class Rectangle:\n",
        "  def __init__(self,a,b):\n",
        "    self.a = a\n",
        "    self.b = b\n",
        "  def area(self):\n",
        "    print(\"The area is \", self.a * self.b)\n",
        "  def perimeter(self):\n",
        "    print(\"The Perimeter is \",2*(self.a+self.b))\n",
        "r1 = Rectangle(2,4)\n",
        "r1.area()\n",
        "r1.perimeter()\n",
        "\n",
        "r2 = Rectangle(5,4)\n",
        "r2.perimeter()\n",
        "r2.area()"
      ],
      "metadata": {
        "colab": {
          "base_uri": "https://localhost:8080/"
        },
        "id": "n42v70N5PoXg",
        "outputId": "77a6d3ce-e097-40cf-d75e-de399bb96e4d"
      },
      "execution_count": null,
      "outputs": [
        {
          "output_type": "stream",
          "name": "stdout",
          "text": [
            "The area is  8\n",
            "The Perimeter is  12\n",
            "The Perimeter is  18\n",
            "The area is  20\n"
          ]
        }
      ]
    },
    {
      "cell_type": "markdown",
      "source": [
        "#Access Specifiers\n",
        "    1. Public\n",
        "    2. Private"
      ],
      "metadata": {
        "id": "OsTk6AipKL8_"
      }
    },
    {
      "cell_type": "code",
      "source": [
        "#private\n",
        "'''\n",
        "class hello:\n",
        "  def __init__(self,a):\n",
        "    self.__a = a\n",
        "  def update(self):\n",
        "    self.__a = 100\n",
        "  def display(self):\n",
        "    print(self.__a)\n",
        "ob = hello(10)\n",
        "ob.display()\n",
        "ob.update()\n",
        "ob.display()\n",
        "ob.__a = 1000\n",
        "ob.display()\n",
        "'''\n",
        "#Public\n",
        "'''\n",
        "class hello1:\n",
        "  def __init__(self,a):\n",
        "    self.a = a\n",
        "  def update(self):\n",
        "    self.a = 100\n",
        "  def display(self):\n",
        "    print(self.a)\n",
        "ob = hello1(10)\n",
        "ob.display()\n",
        "ob.update()\n",
        "ob.display()\n",
        "ob.a = 1000\n",
        "ob.display()\n",
        "'''\n"
      ],
      "metadata": {
        "colab": {
          "base_uri": "https://localhost:8080/",
          "height": 105
        },
        "id": "S2BI0elPWCgZ",
        "outputId": "b5bd444b-f3ce-43c0-e93d-77978460889e"
      },
      "execution_count": null,
      "outputs": [
        {
          "output_type": "stream",
          "name": "stdout",
          "text": [
            "10\n",
            "100\n",
            "100\n"
          ]
        },
        {
          "output_type": "execute_result",
          "data": {
            "text/plain": [
              "'\\nclass hello1:\\n  def __init__(self,a):\\n    self.a = a\\n  def update(self):\\n    self.a = 100\\nob = hello1(10)\\nprint(ob.a)\\nob.update()\\nprint(ob.a)\\nob.a = 1000\\nprint(ob.a)\\n'"
            ],
            "application/vnd.google.colaboratory.intrinsic+json": {
              "type": "string"
            }
          },
          "metadata": {},
          "execution_count": 39
        }
      ]
    },
    {
      "cell_type": "code",
      "source": [
        "class dog:\n",
        "  #class Variable\n",
        "  breed = \"French Barbet\"\n",
        "  def __init__(self,name):\n",
        "    #Instance Variable\n",
        "    self.name = name\n",
        "  def display(self):\n",
        "    print(\"Name: \",self.name)\n",
        "    print(\"Breed: \",self.breed)\n",
        "d1 = dog(\"Rhyme\")\n",
        "d1.display()\n",
        "\n",
        "d2 = dog(\"Puppy\")\n",
        "d2.display()\n"
      ],
      "metadata": {
        "colab": {
          "base_uri": "https://localhost:8080/"
        },
        "id": "U-iPYh0Kal17",
        "outputId": "48862021-dfbf-421e-e188-b2f68cfc6764"
      },
      "execution_count": null,
      "outputs": [
        {
          "output_type": "stream",
          "name": "stdout",
          "text": [
            "Name:  Rhyme\n",
            "Breed:  French Barbet\n",
            "Name:  Puppy\n",
            "Breed:  French Barbet\n"
          ]
        }
      ]
    },
    {
      "cell_type": "markdown",
      "source": [
        "#4 PILLERS OF OOPS\n",
        "    1. Encapsulation\n",
        "    2. Inheritance\n",
        "    3. Polymorphism\n",
        "    3. Abstraction"
      ],
      "metadata": {
        "id": "Ia_IMFSxKCnw"
      }
    },
    {
      "cell_type": "markdown",
      "source": [
        "#1. Encapsulation\n",
        "    Encapsulation is one of the core concepts of Object-Oriented Programming (OOP).\n",
        "    It is the mechanism of restricting direct access to some components of an object while still allowing controlled interaction.\n",
        "    In Python, encapsulation helps in data hiding and ensures that the internal state of an object is not directly modified from outside the class."
      ],
      "metadata": {
        "id": "TQxczYS9LbSr"
      }
    },
    {
      "cell_type": "markdown",
      "source": [
        "#2. Inheritance\n",
        "    Inheritance is a fundamental concept of Object-Oriented Programming (OOP) that allows a child class (or subclass) to inherit properties\n",
        "    and behaviors (methods) from a parent class (or superclass). This promotes code reusability and\n",
        "    establishes a hierarchical relationship between classes.\n",
        "\n",
        "    1. Single Inheritance\n",
        "        One child class inherits from one parent class.\n",
        "    2. Multiple Inheritance\n",
        "        A child class inherits from more than one parent class.\n",
        "    3. Multi Level Inheritance\n",
        "        A child class inherits from a parent class, and another class inherits from that child class.\n",
        "    4. Hierarchical Inheritance\n",
        "        Multiple child classes inherit from a single parent class.\n",
        "    5. Hybrid Inheritance\n",
        "        Combination of two or more types of inheritance."
      ],
      "metadata": {
        "id": "KEhv_M50Kyqv"
      }
    },
    {
      "cell_type": "code",
      "source": [
        "class hello:\n",
        "  def fun1(self):\n",
        "    print(\"I am fun1 from hello\")\n",
        "  def fun2(self):\n",
        "    print(\"I am fun2 from hello\")\n",
        "class bye(hello):\n",
        "  def fun1(self):\n",
        "    print(\"I am fun1 from bye\")\n",
        "  def fun3(self):\n",
        "    print(\"I am fun3 from bye\")\n",
        "'''\n",
        "ob1 = hello()\n",
        "ob1.fun1()\n",
        "ob1.fun2()\n",
        "ob2 = bye()\n",
        "ob2.fun1()\n",
        "ob2.fun3()\n",
        "'''\n",
        "ob = bye()\n",
        "ob.fun1()\n",
        "ob.fun2()\n",
        "ob.fun3()"
      ],
      "metadata": {
        "colab": {
          "base_uri": "https://localhost:8080/"
        },
        "id": "Gu2RcF3XbsKH",
        "outputId": "9a6c257b-d00a-4024-aa93-2cb4c757955d"
      },
      "execution_count": null,
      "outputs": [
        {
          "output_type": "stream",
          "name": "stdout",
          "text": [
            "I am fun1 from bye\n",
            "I am fun2 from hello\n",
            "I am fun3 from bye\n"
          ]
        }
      ]
    },
    {
      "cell_type": "code",
      "source": [
        "class hello1:\n",
        "  def fun1(self):\n",
        "    print(\"fun1 - hello1\")\n",
        "  def fun2(self):\n",
        "    print(\"fun2 - hello1\")\n",
        "class hello2:\n",
        "  def fun1(self):\n",
        "    print(\"fun1 - hello2\")\n",
        "class hello3:\n",
        "  def fun1(self):\n",
        "    print(\"fun1 - hello3\")\n",
        "class child(hello2,hello1,hello3):\n",
        "  def fun3(self):\n",
        "    print(\"fun1 - child\")\n",
        "c1 = child()\n",
        "c1.fun1()\n",
        "c1.fun2()"
      ],
      "metadata": {
        "colab": {
          "base_uri": "https://localhost:8080/"
        },
        "id": "-XlxbC00ekBf",
        "outputId": "70871ad4-c189-459a-d2dc-7ac981422141"
      },
      "execution_count": null,
      "outputs": [
        {
          "output_type": "stream",
          "name": "stdout",
          "text": [
            "fun1 - hello2\n",
            "fun2 - hello1\n"
          ]
        }
      ]
    },
    {
      "cell_type": "markdown",
      "source": [
        "#Super Method\n",
        "    The super() function in Python is used to give access to methods and properties of a parent (or superclass) from a child (or subclass).\n",
        "    It is commonly used in inheritance to call methods from the parent class without directly referring to the parent class name."
      ],
      "metadata": {
        "id": "xtWsj_MqLJWt"
      }
    },
    {
      "cell_type": "code",
      "source": [
        "class hello:\n",
        "  def fun1(self):\n",
        "    print(\"Hello 1\")\n",
        "  def fun2(self):\n",
        "    print(\"fun2 - hello\")\n",
        "class bye(hello):\n",
        "  def fun1(self):\n",
        "    super().fun1()\n",
        "    print(\"hello 2\")\n",
        "ob = bye()\n",
        "ob.fun1()"
      ],
      "metadata": {
        "colab": {
          "base_uri": "https://localhost:8080/"
        },
        "id": "HuJzMg1VhiF7",
        "outputId": "6263bcb4-c13f-4b8c-c4a7-4fbed64eabc9"
      },
      "execution_count": null,
      "outputs": [
        {
          "output_type": "stream",
          "name": "stdout",
          "text": [
            "Hello 1\n",
            "fun2 - hello\n",
            "hello 2\n"
          ]
        }
      ]
    },
    {
      "cell_type": "code",
      "source": [
        "class hello:\n",
        "  def __init__(self):\n",
        "    print(\"Hello 1\")\n",
        "class bye(hello):\n",
        "  def __init__(self):\n",
        "    print(\"Bye 1\")\n",
        "    super().__init__()\n",
        "ob1 = bye()\n"
      ],
      "metadata": {
        "colab": {
          "base_uri": "https://localhost:8080/"
        },
        "id": "b0asH5SxlKI7",
        "outputId": "b9ac7953-5733-437e-fb2f-7de48e6643c0"
      },
      "execution_count": null,
      "outputs": [
        {
          "output_type": "stream",
          "name": "stdout",
          "text": [
            "Bye 1\n",
            "Hello 1\n"
          ]
        }
      ]
    },
    {
      "cell_type": "code",
      "source": [
        "class person:\n",
        "  def __init__(self,roll,name):\n",
        "    self.roll = roll\n",
        "    self.name = name\n",
        "class student(person):\n",
        "  def __init__(self,roll,name,branch):\n",
        "    super().__init__(roll,name)\n",
        "    self.branch = branch\n",
        "  def display1(self):\n",
        "    print(\"Name: \",self.name)\n",
        "    print(\"Roll no: \",self.roll)\n",
        "    print(\"Branch :\",self.branch)\n",
        "class teacher(person):\n",
        "  def __init__(self,roll,name,subject):\n",
        "    super().__init__(roll,name)\n",
        "    self.subject = subject\n",
        "  def display2(self):\n",
        "    print(\"Name: \",self.name)\n",
        "    print(\"Roll no: \",self.roll)\n",
        "    print(\"Branch :\",self.subject)\n",
        "s1 = student(101,\"sai\",\"pfs21\")\n",
        "s2 = student(102,\"vardhan\",\"da6\")\n",
        "s3 = student(103,\"venkat\",\"ds7\")\n",
        "s1.display1()\n",
        "print()\n",
        "s2.display1()\n",
        "\n",
        "\n",
        "print()\n",
        "\n",
        "\n",
        "t1 = teacher(201,\"sai vardhan\",\"python\")\n",
        "t2 = teacher(202,\"sharif\",\"front end\")\n",
        "t1.display2()\n",
        "print()\n",
        "t2.display2()"
      ],
      "metadata": {
        "colab": {
          "base_uri": "https://localhost:8080/"
        },
        "id": "qX8AIEDMjKG9",
        "outputId": "3744000e-b026-42d2-c00c-6dca859fb87f"
      },
      "execution_count": null,
      "outputs": [
        {
          "output_type": "stream",
          "name": "stdout",
          "text": [
            "Name:  sai\n",
            "Roll no:  101\n",
            "Branch : pfs21\n",
            "\n",
            "Name:  vardhan\n",
            "Roll no:  102\n",
            "Branch : da6\n",
            "\n",
            "Name:  sai vardhan\n",
            "Roll no:  201\n",
            "Branch : python\n",
            "\n",
            "Name:  sharif\n",
            "Roll no:  202\n",
            "Branch : front end\n"
          ]
        }
      ]
    },
    {
      "cell_type": "markdown",
      "source": [
        "Problem Statement:\n",
        "You are designing a role-based system for a family where each person has specific skills.\n",
        "\n",
        "The Father class has a method skills() that prints: \"Father: Gardening, Cooking\".\n",
        "The Mother class has a method skills() that prints: \"Mother: Painting, Dancing\".\n",
        "Create a Child class that inherits from both Father and Mother and has a method show_skills() which displays the child's inherited skills.\n",
        "\n",
        "Demonstrate which skills() method is called by default when using multiple inheritance in Python.\n",
        "Write a Python program to implement this scenario and explain the output."
      ],
      "metadata": {
        "id": "v3oRbEZdmpJs"
      }
    },
    {
      "cell_type": "code",
      "source": [
        "class father:\n",
        "  def skills(self):\n",
        "    print(\"Father: Gardening and Cooking\")\n",
        "class mother:\n",
        "  def skills(self):\n",
        "    print(\"Mother: Painting and Dancing\")\n",
        "\n",
        "class child(father,mother):\n",
        "  def show_skills(self):\n",
        "    print(\"Child Skills\")\n",
        "    self.skills()\n",
        "    super().skills()\n",
        "\n",
        "c1 = child()\n",
        "c1.show_skills()"
      ],
      "metadata": {
        "colab": {
          "base_uri": "https://localhost:8080/"
        },
        "id": "3yFvRdmDnB2I",
        "outputId": "b50861b9-bdba-4b4f-dfde-beb536c4bfa5"
      },
      "execution_count": null,
      "outputs": [
        {
          "output_type": "stream",
          "name": "stdout",
          "text": [
            "Child Skills\n",
            "Father: Gardening and Cooking\n"
          ]
        }
      ]
    },
    {
      "cell_type": "code",
      "source": [
        "class hello1:\n",
        "  def hello1(self):\n",
        "    print(\"I am hello 1\")\n",
        "class hello2(hello1):\n",
        "  def hello2(self):\n",
        "    print(\"I am hello 2\")\n",
        "class hello3(hello2):\n",
        "  def hello3(self):\n",
        "    print(\"I am hello 3\")\n",
        "ob1 = hello3()\n",
        "ob1.hello3()\n",
        "ob1.hello2()\n",
        "ob1.hello1()\n",
        "\n",
        "print()\n",
        "\n",
        "ob2 = hello2()\n",
        "ob2.hello2()\n",
        "ob2.hello1()\n",
        "\n",
        "print()\n",
        "\n",
        "ob3 = hello1()\n",
        "ob3.hello1()\n"
      ],
      "metadata": {
        "colab": {
          "base_uri": "https://localhost:8080/"
        },
        "id": "ZPKB6G95iful",
        "outputId": "7ebf47e2-b836-40ba-97a5-94c7ab491dbf"
      },
      "execution_count": null,
      "outputs": [
        {
          "output_type": "stream",
          "name": "stdout",
          "text": [
            "I am hello 3\n",
            "I am hello 2\n",
            "I am hello 1\n",
            "\n",
            "I am hello 2\n",
            "I am hello 1\n",
            "\n",
            "I am hello 1\n"
          ]
        }
      ]
    },
    {
      "cell_type": "code",
      "source": [
        "class hello:\n",
        "  def display1(self):\n",
        "    print(\"I am a parent method\")\n",
        "class hello1(hello):\n",
        "  def display2(self):\n",
        "    print(\"I am from child 1\")\n",
        "class hello3(hello):\n",
        "  def display3(self):\n",
        "    print(\"I am from child 2\")\n",
        "ob1 = hello3()\n",
        "ob1.display3()\n",
        "ob1.display1()\n",
        "#ob1.display2()\n",
        "\n",
        "ob2 = hello1()\n",
        "ob2.display2()\n",
        "ob2.display1()\n",
        "#ob2.display3()\n",
        "\n",
        "ob3 = hello()\n",
        "ob3.display1()\n",
        "#ob3.display2()\n",
        "#ob3.display3()"
      ],
      "metadata": {
        "colab": {
          "base_uri": "https://localhost:8080/",
          "height": 263
        },
        "id": "b2sTPix1ktJh",
        "outputId": "33a853e7-f495-4413-e3c0-b0994ca5b527"
      },
      "execution_count": null,
      "outputs": [
        {
          "output_type": "stream",
          "name": "stdout",
          "text": [
            "I am from child 2\n",
            "I am a parent method\n",
            "I am from child 1\n",
            "I am a parent method\n",
            "I am a parent method\n"
          ]
        },
        {
          "output_type": "error",
          "ename": "AttributeError",
          "evalue": "'hello' object has no attribute 'display3'",
          "traceback": [
            "\u001b[0;31m---------------------------------------------------------------------------\u001b[0m",
            "\u001b[0;31mAttributeError\u001b[0m                            Traceback (most recent call last)",
            "\u001b[0;32m<ipython-input-18-91e4c466c8ce>\u001b[0m in \u001b[0;36m<cell line: 0>\u001b[0;34m()\u001b[0m\n\u001b[1;32m     21\u001b[0m \u001b[0mob3\u001b[0m\u001b[0;34m.\u001b[0m\u001b[0mdisplay1\u001b[0m\u001b[0;34m(\u001b[0m\u001b[0;34m)\u001b[0m\u001b[0;34m\u001b[0m\u001b[0;34m\u001b[0m\u001b[0m\n\u001b[1;32m     22\u001b[0m \u001b[0;31m#ob3.display2()\u001b[0m\u001b[0;34m\u001b[0m\u001b[0;34m\u001b[0m\u001b[0m\n\u001b[0;32m---> 23\u001b[0;31m \u001b[0mob3\u001b[0m\u001b[0;34m.\u001b[0m\u001b[0mdisplay3\u001b[0m\u001b[0;34m(\u001b[0m\u001b[0;34m)\u001b[0m\u001b[0;34m\u001b[0m\u001b[0;34m\u001b[0m\u001b[0m\n\u001b[0m",
            "\u001b[0;31mAttributeError\u001b[0m: 'hello' object has no attribute 'display3'"
          ]
        }
      ]
    },
    {
      "cell_type": "markdown",
      "source": [
        "Write a Python program to demonstrate hybrid inheritance.\n",
        "Your program should include:\n",
        "\n",
        "A base class Person with attributes like name and age.\n",
        "A class Employee that inherits from Person and adds an employee_id.\n",
        "A class Student that also inherits from Person and adds a student_id.\n",
        "A class Intern that inherits from both Employee and Student and includes a method to display all details.\n",
        "\n",
        "Expected Output:\n",
        "The output should clearly show the working of hybrid inheritance by calling the display() method from the Intern class."
      ],
      "metadata": {
        "id": "MprpxmRWn-Mb"
      }
    },
    {
      "cell_type": "code",
      "source": [
        "class person:\n",
        "  def __init__(self,name,age):\n",
        "    self.name = name\n",
        "    self.age=  age\n",
        "class student(person):\n",
        "  def __init__(self,name,age,student_id):\n",
        "    person.__init__(self,name,age)\n",
        "    self.student_id = student_id\n",
        "class employee(person):\n",
        "  def __init__(self,name,age,employee_id):\n",
        "    person.__init__(self,name,age)\n",
        "    self.employee_id = employee_id\n",
        "class intern(student,employee):\n",
        "  def __init__(self,name,age,student_id,employee_id,intern_duration):\n",
        "    student.__init__(self,name,age,student_id)\n",
        "    employee.__init__(self,name,age,employee_id)\n",
        "    self.intern_duration = intern_duration\n",
        "  def display(self):\n",
        "    print(\"Name: \",self.name)\n",
        "    print(\"Age: \",self.age)\n",
        "    print(\"Student id: \",self.student_id)\n",
        "    print(\"Employee id: \",self.employee_id)\n",
        "    print(\"Inter Duration: \",self.intern_duration)\n",
        "intern1 = intern(\"sai\",30,101,201,\"3 months\")\n",
        "intern1.display()"
      ],
      "metadata": {
        "colab": {
          "base_uri": "https://localhost:8080/"
        },
        "id": "zm0eOMQ2n9mW",
        "outputId": "1989518f-3bef-4ecb-eceb-79c9709af746"
      },
      "execution_count": null,
      "outputs": [
        {
          "output_type": "stream",
          "name": "stdout",
          "text": [
            "Name:  sai\n",
            "Age:  30\n",
            "Student id:  101\n",
            "Employee id:  201\n",
            "Inter Duration:  3 months\n"
          ]
        }
      ]
    },
    {
      "cell_type": "markdown",
      "source": [
        "#3. Polymorphism\n",
        "    Polymorphism is a core concept of Object-Oriented Programming (OOP) that allows objects of different classes to be treated\n",
        "    as objects of a common super class.\n",
        "    It enables a single function, method, or operator to behave differently based on the object it is acting upon.\n",
        "\n",
        "    The word polymorphism comes from the Greek words \"poly\" (many) and \"morph\" (forms), meaning \"many forms\".\n",
        "\n",
        "    Types of Polymorphism\n",
        "    1. Duck Typing (Dynamic Polymorphism)\n",
        "        In Python, if an object behaves like a particular type, it is that type — \"If it walks like a duck and quacks like a duck, it's a duck.\"\n",
        "\n",
        "    2. Method Overriding\n",
        "        In inheritance, a child class can provide a specific implementation of a method already defined in its parent class.\n",
        "\n",
        "    3. Method Overloading\n",
        "        Python doesn't support traditional method overloading. However, it can be achieved using default arguments or *args and **args.\n",
        "\n",
        "    4. Operator Overloading\n",
        "        Python allows operators to have different meanings based on the context, by using magic methods (dunder methods).\n"
      ],
      "metadata": {
        "id": "uX0rzRvALLj2"
      }
    },
    {
      "cell_type": "code",
      "source": [
        "'''\n",
        "class hello:\n",
        "  def abc(self,a,b):\n",
        "    print(a+b)\n",
        "  def abc(self,a,b,c):\n",
        "    print(a+b+c)\n",
        "ob = hello()\n",
        "#ob.abc(10,20)\n",
        "ob.abc(10,20,30)\n",
        "'''\n",
        "class hello:\n",
        "  def abc(self,a=0,b=0,c=0):\n",
        "    print(a+b+c)\n",
        "ob = hello()\n",
        "ob.abc(10,20,30)\n",
        "ob.abc(10,20)"
      ],
      "metadata": {
        "colab": {
          "base_uri": "https://localhost:8080/"
        },
        "id": "95owdRDN3Jfo",
        "outputId": "ba5b5fb1-899a-4f19-a51e-e34796d55f50"
      },
      "execution_count": null,
      "outputs": [
        {
          "output_type": "stream",
          "name": "stdout",
          "text": [
            "60\n",
            "30\n"
          ]
        }
      ]
    },
    {
      "cell_type": "code",
      "source": [
        "class hello1:\n",
        "  def abc(self,a,b):\n",
        "    print(a+b)\n",
        "class hello2(hello1):\n",
        "  def abc(self,a,b):\n",
        "    super().abc(a,b)\n",
        "    #print(a*b)\n",
        "ob = hello2()\n",
        "ob.abc(2,3)"
      ],
      "metadata": {
        "colab": {
          "base_uri": "https://localhost:8080/"
        },
        "id": "PmFQ9yX049tG",
        "outputId": "415e9ce7-35bb-4a2d-e1ff-bef35fdda537"
      },
      "execution_count": null,
      "outputs": [
        {
          "output_type": "stream",
          "name": "stdout",
          "text": [
            "5\n"
          ]
        }
      ]
    },
    {
      "cell_type": "code",
      "source": [
        "class hello:\n",
        "  def abc(self,a,b):\n",
        "    print(a+b)\n",
        "  def xyz(self,a,b):\n",
        "    print(a*b)\n",
        "ob = hello()\n",
        "ob.abc(10,20)\n",
        "ob.abc(\"10\",\"20\")\n",
        "\n",
        "ob.xyz(3,2)\n",
        "ob.xyz(\"3\",2)\n"
      ],
      "metadata": {
        "colab": {
          "base_uri": "https://localhost:8080/"
        },
        "id": "XrdpgcaQ6xuI",
        "outputId": "b892fca1-54a0-4c7a-81c4-44b0aec0d805"
      },
      "execution_count": null,
      "outputs": [
        {
          "output_type": "stream",
          "name": "stdout",
          "text": [
            "30\n",
            "1020\n",
            "6\n",
            "33\n"
          ]
        }
      ]
    },
    {
      "cell_type": "markdown",
      "source": [
        "#4. Abstraction"
      ],
      "metadata": {
        "id": "NsQun5QcN83t"
      }
    },
    {
      "cell_type": "code",
      "source": [
        "from abc import ABC,abstractmethod\n",
        "class person(ABC):\n",
        "  @abstractmethod\n",
        "  def name(self):\n",
        "    pass\n",
        "  def display(self):\n",
        "    print(\"I am from person class\")\n",
        "  def display1(self):\n",
        "    print(\"I am display1 from person class\")\n",
        "class student(person):\n",
        "  def name(self):\n",
        "    print(\"Student: Sai\")\n",
        "  def display(self):\n",
        "    print(\"I am from student class\")\n",
        "class teacher(person):\n",
        "  def name(self):\n",
        "    print(\"Teacher: Vardhan\")\n",
        "  def display(self):\n",
        "    print(\"I am from teacher class\")\n",
        "ob1 = student()\n",
        "ob1.display()\n",
        "ob1.name()\n",
        "\n",
        "ob2 = teacher()\n",
        "ob2.display()\n",
        "ob2.name()\n",
        "\n",
        "ob1.display1()\n",
        "ob2.display1()\n"
      ],
      "metadata": {
        "id": "eiB1k9DZODB5",
        "colab": {
          "base_uri": "https://localhost:8080/"
        },
        "outputId": "d72572fe-c93d-45f3-f5eb-7e0b6672bc42"
      },
      "execution_count": null,
      "outputs": [
        {
          "output_type": "stream",
          "name": "stdout",
          "text": [
            "I am from student class\n",
            "Student: Sai\n",
            "I am from teacher class\n",
            "Teacher: Vardhan\n",
            "I am display1 from person class\n",
            "I am display1 from person class\n"
          ]
        }
      ]
    },
    {
      "cell_type": "code",
      "source": [
        "from abc import ABC,abstractmethod\n",
        "class shape(ABC):\n",
        "  @abstractmethod\n",
        "  def area(self):\n",
        "    pass\n",
        "  def display(self):\n",
        "    print(\"Shape\")\n",
        "class rectangle(shape):\n",
        "  def area(self,a,b):\n",
        "    print(a*b)\n",
        "class square(shape):\n",
        "  def area(self,a):\n",
        "    print(a**2)\n",
        "\n",
        "r1 = rectangle()\n",
        "r1.area(2,5)\n",
        "\n",
        "s1 = square()\n",
        "s1.area(3)\n",
        "\n",
        "r1.display()\n",
        "s1.display()"
      ],
      "metadata": {
        "colab": {
          "base_uri": "https://localhost:8080/"
        },
        "id": "lvX6k5hyCA_i",
        "outputId": "b51102d6-e60b-4b95-b4b8-09111980cbe2"
      },
      "execution_count": null,
      "outputs": [
        {
          "output_type": "stream",
          "name": "stdout",
          "text": [
            "10\n",
            "9\n",
            "Shape\n",
            "Shape\n"
          ]
        }
      ]
    },
    {
      "cell_type": "markdown",
      "source": [
        "#Exception Handling\n",
        "    Exception Handling in Python is a mechanism to gracefully handle runtime errors, ensuring that the program doesn't crash unexpectedly.\n",
        "    It allows you to detect errors, handle them properly, and continue program execution.\n",
        "\n",
        "    An exception is an event that occurs during the execution of a program that disrupts its normal flow. Common examples include\n",
        "    ZeroDivisionError, FileNotFoundError, and ValueError.\n",
        "\n",
        "    Key Points:\n",
        "        1. Try [ Code that might raise an exception. ]\n",
        "        2. Except [ Handles the exception ]\n",
        "        3. Else [ Executes if no exceptions occur ]\n",
        "        4. Finally [ Executes code regardless of an exception ]"
      ],
      "metadata": {
        "id": "V5DQWXKU0-Vy"
      }
    },
    {
      "cell_type": "code",
      "source": [
        "try:\n",
        "  pass\n",
        "except:\n",
        "  pass\n",
        "else:\n",
        "  pass\n",
        "finally:\n",
        "  pass"
      ],
      "metadata": {
        "id": "PtIImlX0Phd4"
      },
      "execution_count": 1,
      "outputs": []
    },
    {
      "cell_type": "code",
      "source": [
        "try:\n",
        "  pass\n",
        "except:\n",
        "  pass\n",
        "else:\n",
        "  pass"
      ],
      "metadata": {
        "id": "UIA_gWrEJr6J"
      },
      "execution_count": 2,
      "outputs": []
    },
    {
      "cell_type": "code",
      "source": [
        "try:\n",
        "  pass\n",
        "except:\n",
        "  pass\n",
        "else:\n",
        "  pass"
      ],
      "metadata": {
        "id": "Jpmvbq5uJwP0"
      },
      "execution_count": 5,
      "outputs": []
    },
    {
      "cell_type": "code",
      "source": [
        "#Case - 1\n",
        "try:\n",
        "  a = int(input())\n",
        "  b = int(input())\n",
        "  c = a/b\n",
        "except:\n",
        "  print(\"Error Ocuured, Try again\")\n",
        "else:\n",
        "  print(\"The Result is:\",c)\n",
        "finally:\n",
        "  print(\"Thank You Visit  again\")\n"
      ],
      "metadata": {
        "colab": {
          "base_uri": "https://localhost:8080/"
        },
        "id": "WspS5DXpJ57J",
        "outputId": "3456c053-ee4a-43af-f4d5-874ac964c4a9"
      },
      "execution_count": 11,
      "outputs": [
        {
          "output_type": "stream",
          "name": "stdout",
          "text": [
            "20\n",
            "0\n",
            "Error Ocuured, Try again\n",
            "Thank You Visit  again\n"
          ]
        }
      ]
    },
    {
      "cell_type": "code",
      "source": [
        "a = int(input())\n",
        "b = int(input())\n",
        "c = a/b\n",
        "print(c)"
      ],
      "metadata": {
        "colab": {
          "base_uri": "https://localhost:8080/",
          "height": 211
        },
        "id": "5BxJSUYeKN86",
        "outputId": "b1d372e8-aca8-49ea-e39a-22020c72ed1e"
      },
      "execution_count": 12,
      "outputs": [
        {
          "name": "stdout",
          "output_type": "stream",
          "text": [
            "sai\n"
          ]
        },
        {
          "output_type": "error",
          "ename": "ValueError",
          "evalue": "invalid literal for int() with base 10: 'sai'",
          "traceback": [
            "\u001b[0;31m---------------------------------------------------------------------------\u001b[0m",
            "\u001b[0;31mValueError\u001b[0m                                Traceback (most recent call last)",
            "\u001b[0;32m<ipython-input-12-ec5c0709a301>\u001b[0m in \u001b[0;36m<cell line: 0>\u001b[0;34m()\u001b[0m\n\u001b[0;32m----> 1\u001b[0;31m \u001b[0ma\u001b[0m \u001b[0;34m=\u001b[0m \u001b[0mint\u001b[0m\u001b[0;34m(\u001b[0m\u001b[0minput\u001b[0m\u001b[0;34m(\u001b[0m\u001b[0;34m)\u001b[0m\u001b[0;34m)\u001b[0m\u001b[0;34m\u001b[0m\u001b[0;34m\u001b[0m\u001b[0m\n\u001b[0m\u001b[1;32m      2\u001b[0m \u001b[0mb\u001b[0m \u001b[0;34m=\u001b[0m \u001b[0mint\u001b[0m\u001b[0;34m(\u001b[0m\u001b[0minput\u001b[0m\u001b[0;34m(\u001b[0m\u001b[0;34m)\u001b[0m\u001b[0;34m)\u001b[0m\u001b[0;34m\u001b[0m\u001b[0;34m\u001b[0m\u001b[0m\n\u001b[1;32m      3\u001b[0m \u001b[0mc\u001b[0m \u001b[0;34m=\u001b[0m \u001b[0ma\u001b[0m\u001b[0;34m/\u001b[0m\u001b[0mb\u001b[0m\u001b[0;34m\u001b[0m\u001b[0;34m\u001b[0m\u001b[0m\n\u001b[1;32m      4\u001b[0m \u001b[0mprint\u001b[0m\u001b[0;34m(\u001b[0m\u001b[0mc\u001b[0m\u001b[0;34m)\u001b[0m\u001b[0;34m\u001b[0m\u001b[0;34m\u001b[0m\u001b[0m\n",
            "\u001b[0;31mValueError\u001b[0m: invalid literal for int() with base 10: 'sai'"
          ]
        }
      ]
    },
    {
      "cell_type": "code",
      "source": [
        "#Case - 2\n",
        "try:\n",
        "  a = int(input())\n",
        "  b = int(input())\n",
        "  c = a/b\n",
        "except ValueError:\n",
        "  print(\"Value Error Occured, Please look into it\")\n",
        "except ZeroDivisionError:\n",
        "  print(\"Zero Division Error Occured\")\n",
        "else:\n",
        "  print(\"The Result is:\",c)\n",
        "finally:\n",
        "  print(\"Thank You Visit  again\")\n"
      ],
      "metadata": {
        "colab": {
          "base_uri": "https://localhost:8080/"
        },
        "id": "20F22CjDL4Z4",
        "outputId": "238fe205-a53f-4715-cefc-4d3c22513f3c"
      },
      "execution_count": 20,
      "outputs": [
        {
          "output_type": "stream",
          "name": "stdout",
          "text": [
            "10\n",
            "0\n",
            "Zero Division Error Occured\n",
            "Thank You Visit  again\n"
          ]
        }
      ]
    },
    {
      "cell_type": "code",
      "source": [
        "#Case - 3\n",
        "try:\n",
        "  a = int(input())\n",
        "  b = int(input())\n",
        "  c = a/b\n",
        "except Exception as e:\n",
        "  print(\"Error Occured:\",e)\n",
        "else:\n",
        "  print(c)\n"
      ],
      "metadata": {
        "colab": {
          "base_uri": "https://localhost:8080/"
        },
        "id": "2o7rM-HJMnd0",
        "outputId": "5b6370c9-fabd-4e00-9b98-70b9dfc5ed40"
      },
      "execution_count": 23,
      "outputs": [
        {
          "output_type": "stream",
          "name": "stdout",
          "text": [
            "sai\n",
            "Error Occured: invalid literal for int() with base 10: 'sai'\n"
          ]
        }
      ]
    },
    {
      "cell_type": "code",
      "source": [
        "#Type error\n",
        "'''\n",
        "x = \"hello\" + 5\n",
        "print(x)\n",
        "'''\n",
        "try:\n",
        "  a = int(input())\n",
        "  x = \"hello\" + a\n",
        "  print(x)\n",
        "except TypeError:\n",
        "  print(\"Type error occured, Try again\")"
      ],
      "metadata": {
        "colab": {
          "base_uri": "https://localhost:8080/"
        },
        "id": "4-DqIyL2TVZg",
        "outputId": "6dce79b4-70fe-464c-a4c0-85932c2fa974"
      },
      "execution_count": 26,
      "outputs": [
        {
          "output_type": "stream",
          "name": "stdout",
          "text": [
            "10\n",
            "Type error occured, Try again\n"
          ]
        }
      ]
    },
    {
      "cell_type": "code",
      "source": [
        "#Name Error\n",
        "'''\n",
        "x = hello\n",
        "print(x)\n",
        "'''\n",
        "try:\n",
        "  x = sai\n",
        "  print(x)\n",
        "except NameError:\n",
        "  print(\"Error Occured\")\n"
      ],
      "metadata": {
        "colab": {
          "base_uri": "https://localhost:8080/"
        },
        "id": "Npj1K5juTt1Q",
        "outputId": "5d0ba58a-5a86-4b06-f418-5f259dd1bc7d"
      },
      "execution_count": 28,
      "outputs": [
        {
          "output_type": "stream",
          "name": "stdout",
          "text": [
            "Error Occured\n"
          ]
        }
      ]
    },
    {
      "cell_type": "code",
      "source": [
        "#Index Error\n",
        "'''\n",
        "x = [10,20,30,40,5]\n",
        "print(x[2])\n",
        "print(x[20])\n",
        "'''\n",
        "try:\n",
        "  x = [10,20,30,40]\n",
        "  ind = int(input(\"Enter Index: \"))\n",
        "  res = x[ind]\n",
        "except IndexError:\n",
        "  print(\"Index Error Occured\")\n",
        "else:\n",
        "  print(res)"
      ],
      "metadata": {
        "colab": {
          "base_uri": "https://localhost:8080/"
        },
        "id": "PkuNcbnbT5it",
        "outputId": "dc7e81b4-fa84-47c0-fc79-5c3556c82d5b"
      },
      "execution_count": 32,
      "outputs": [
        {
          "output_type": "stream",
          "name": "stdout",
          "text": [
            "Enter Index: 20\n",
            "Index Error Occured\n"
          ]
        }
      ]
    },
    {
      "cell_type": "code",
      "source": [
        "#KeyError\n",
        "'''\n",
        "d = {1:100,2:200,3:300,4:400}\n",
        "print(d[1])\n",
        "print(d[3])\n",
        "print(d[300])\n",
        "'''\n",
        "try:\n",
        "  d = {1:100,2:200,3:300,4:400}\n",
        "  print(d[20])\n",
        "except KeyError:\n",
        "  print(\"Key Error Occured\")"
      ],
      "metadata": {
        "colab": {
          "base_uri": "https://localhost:8080/"
        },
        "id": "5xpXEsgRUUZE",
        "outputId": "cf60cdd6-f5dd-4c21-887e-1b806666408a"
      },
      "execution_count": 38,
      "outputs": [
        {
          "output_type": "stream",
          "name": "stdout",
          "text": [
            "Key Error Occured\n"
          ]
        }
      ]
    }
  ]
}