{
  "nbformat": 4,
  "nbformat_minor": 0,
  "metadata": {
    "colab": {
      "provenance": []
    },
    "kernelspec": {
      "name": "python3",
      "display_name": "Python 3"
    },
    "language_info": {
      "name": "python"
    }
  },
  "cells": [
    {
      "cell_type": "markdown",
      "source": [
        "#**Functions**\n",
        "    A function in Python is a block of reusable code that performs a specific task.\n",
        "    Functions help improve code reusability.\n",
        "\n",
        "#**Types of Functions**\n",
        "    1. Builtin Functions\n",
        "    2. User Defined Functions\n",
        "    3. Lambda Functions"
      ],
      "metadata": {
        "id": "xb7zWUjI0B1b"
      }
    },
    {
      "cell_type": "markdown",
      "source": [
        "#**Builtin functions**\n",
        "    1. abs()\n",
        "    2. chr()\n",
        "    3. ord()\n",
        "    4. eval()\n",
        "    5. bin()\n",
        "    6. hex()\n",
        "    7. oct()\n"
      ],
      "metadata": {
        "id": "DzExNQrM0kWg"
      }
    },
    {
      "cell_type": "code",
      "execution_count": null,
      "metadata": {
        "id": "MDwq0OFcz8lo",
        "colab": {
          "base_uri": "https://localhost:8080/"
        },
        "outputId": "4c48cfcb-8f6e-4e61-bf78-7f95d4ca8a09"
      },
      "outputs": [
        {
          "output_type": "stream",
          "name": "stdout",
          "text": [
            "10\n",
            "10\n",
            "97\n",
            "90\n",
            "49\n",
            "A\n",
            "W\n",
            "5\n",
            "20\n",
            "16\n",
            "0b1000\n",
            "0o10\n",
            "0x8\n"
          ]
        }
      ],
      "source": [
        "print(abs(10))\n",
        "print(abs(-10))\n",
        "\n",
        "print(ord(\"a\"))\n",
        "print(ord(\"Z\"))\n",
        "print(ord(\"1\"))\n",
        "\n",
        "print(chr(65))\n",
        "print(chr(87))\n",
        "print(chr(53))\n",
        "\n",
        "x = \"10+20-10\"\n",
        "print(eval(x))\n",
        "x2 = \"10+(20//3)\"\n",
        "print(eval(x2))\n",
        "\n",
        "x = 8\n",
        "print(bin(x))\n",
        "print(oct(x))\n",
        "print(hex(x))"
      ]
    },
    {
      "cell_type": "markdown",
      "source": [
        "#**User Defined Functions**\n",
        "    1. With Parameters With Return Types\n",
        "    2. With Parameters Without Return Types\n",
        "    3. Without Parameters With Return Types\n",
        "    4. Without Parameters Without Return Types\n",
        "    5. Recursive Functions"
      ],
      "metadata": {
        "id": "mEPlnVC01qeH"
      }
    },
    {
      "cell_type": "code",
      "source": [
        "#WPWR\n",
        "'''\n",
        "def anything(a):\n",
        "  if a%2==0:\n",
        "    return \"Even\"\n",
        "  else:\n",
        "    return \"Odd\"\n",
        "n = int(input())\n",
        "print(anything(n))\n",
        "'''\n",
        "#WPWOR\n",
        "'''\n",
        "def anything(a):\n",
        "  if a%2==0:\n",
        "    print(\"Even\")\n",
        "  else:\n",
        "    print(\"Odd\")\n",
        "n = int(input())\n",
        "anything(n)\n",
        "'''\n",
        "#WOPWR\n",
        "'''\n",
        "def data():\n",
        "  a = int(input())\n",
        "  if a%2==0:\n",
        "    return \"Even\"\n",
        "  else:\n",
        "    return \"Odd\"\n",
        "print(data())\n",
        "'''\n",
        "#WOPWOR\n",
        "'''\n",
        "def data():\n",
        "  a = int(input())\n",
        "  if a%2==0:\n",
        "    print(\"Even\")\n",
        "  else:\n",
        "    print(\"Odd\")\n",
        "data()\n",
        "'''\n",
        "#Problem - 1\n",
        "a = 1000\n",
        "b = 200\n",
        "c = 30\n",
        "if a>b and a>c:\n",
        "  a = 0\n",
        "elif b>a and b>c:\n",
        "  b = 0\n",
        "else:\n",
        "  c = 0\n",
        "if a>b and a>c:\n",
        "  print(a)\n",
        "elif b>a and b>c:\n",
        "  print(b)\n",
        "else:\n",
        "  print(c)"
      ],
      "metadata": {
        "colab": {
          "base_uri": "https://localhost:8080/"
        },
        "id": "tyZNNDCt7V_3",
        "outputId": "1d92c20d-2bdd-4162-f132-184c52439301"
      },
      "execution_count": null,
      "outputs": [
        {
          "output_type": "stream",
          "name": "stdout",
          "text": [
            "200\n"
          ]
        }
      ]
    },
    {
      "cell_type": "code",
      "source": [
        "#Problem - 1\n",
        "'''\n",
        "def hello(x):\n",
        "  if x >= 1:\n",
        "    print(x)\n",
        "    hello(x-1)\n",
        "hello(10)\n",
        "'''\n",
        "#Problem - 2\n",
        "'''\n",
        "def hello(x):\n",
        "  if x <= 10:\n",
        "    print(x)\n",
        "    hello(x+1)\n",
        "hello(1)\n",
        "'''\n",
        "#Problem - 3\n",
        "'''\n",
        "n = int(input())\n",
        "def hello(x):\n",
        "  if x<=n:\n",
        "    print(x)\n",
        "    hello(x+1)\n",
        "hello(1)\n",
        "'''\n",
        "#Problem - 3\n",
        "'''\n",
        "def fact(n):\n",
        "  if n == 1:\n",
        "    return 1\n",
        "  else:\n",
        "    return n * fact(n-1)\n",
        "print(fact(5))\n",
        "'''\n",
        "#Problem - 4\n",
        "'''\n",
        "def hello(x):\n",
        "  if x > 0:\n",
        "    return x + hello(x-1)\n",
        "  else:\n",
        "    return 0\n",
        "x = hello(3)\n",
        "print(x)\n",
        "'''\n",
        "#Problem - 5\n",
        "'''\n",
        "def hello(x):\n",
        "  if x == 0:\n",
        "    return  0\n",
        "  else:\n",
        "    return x%10 + hello(x//10)\n",
        "res = hello(143)\n",
        "print(res)\n",
        "'''\n",
        "#Problem - 6\n",
        "'''\n",
        "def hello(a,b):\n",
        "  if b == 0:\n",
        "    return 0\n",
        "  else:\n",
        "    return a + hello(a,b-1)\n",
        "x = hello(5,4)\n",
        "print(x)\n",
        "'''\n",
        ""
      ],
      "metadata": {
        "colab": {
          "base_uri": "https://localhost:8080/",
          "height": 0
        },
        "id": "jfAg2tImAVyF",
        "outputId": "bb41ec75-b57a-4dc4-dc32-6126aca96b38"
      },
      "execution_count": 11,
      "outputs": [
        {
          "output_type": "stream",
          "name": "stdout",
          "text": [
            "20\n"
          ]
        }
      ]
    },
    {
      "cell_type": "markdown",
      "source": [
        "#**Pass By Reference**\n",
        "    All parameters (arguments) in python language are passed by reference\n",
        "    It means when we change a parameter within a function the change will reflects in main object\n"
      ],
      "metadata": {
        "id": "a2Hog2Dc193M"
      }
    },
    {
      "cell_type": "code",
      "source": [],
      "metadata": {
        "id": "jGSJYROl2hqf"
      },
      "execution_count": null,
      "outputs": []
    },
    {
      "cell_type": "markdown",
      "source": [
        "#**Function Arguments**\n",
        "    1. Default Arguments\n",
        "    2. Required Arguments\n",
        "    3. Keyword Arguments\n",
        "    4. Variable number of arguments"
      ],
      "metadata": {
        "id": "cOlc7zJ_2mOw"
      }
    },
    {
      "cell_type": "code",
      "source": [],
      "metadata": {
        "id": "5Vqeuvfz25bB"
      },
      "execution_count": null,
      "outputs": []
    },
    {
      "cell_type": "markdown",
      "source": [
        "#**Scope of the variables**\n",
        "    1. Local Variable\n",
        "    2. Global Variable"
      ],
      "metadata": {
        "id": "DndZUGab25xy"
      }
    },
    {
      "cell_type": "code",
      "source": [],
      "metadata": {
        "id": "rj6JOEen3Bje"
      },
      "execution_count": null,
      "outputs": []
    },
    {
      "cell_type": "markdown",
      "source": [
        "#**Lambda Functions (Anonymous Functions)**\n",
        "    syntax :\n",
        "        fun_name = lambda parameters : operations"
      ],
      "metadata": {
        "id": "gA1GqLWS3ECL"
      }
    },
    {
      "cell_type": "code",
      "source": [],
      "metadata": {
        "id": "ajwF4mCE3Qo9"
      },
      "execution_count": null,
      "outputs": []
    },
    {
      "cell_type": "markdown",
      "source": [
        "#**Lambda With Filter**\n",
        "    1. Filters an iterable based on a function\n",
        "    2. Allows us to create a easy way of filtering elements\n",
        "    Syntax:\n",
        "        fun_name = filter(lambda parameters : operations, iterable)\n",
        "  "
      ],
      "metadata": {
        "id": "c-f3D-Gg3wxc"
      }
    },
    {
      "cell_type": "code",
      "source": [],
      "metadata": {
        "id": "23yiXBoR4LPc"
      },
      "execution_count": null,
      "outputs": []
    },
    {
      "cell_type": "markdown",
      "source": [
        "#**Lambda with Map**\n",
        "    1. Applies a function to each item in am iterable and returing a new iterable with the results.\n",
        "    2. Allows us to create an easy way of transformation of elements\n",
        "    Syntax:\n",
        "        fun_name = map(lambda parameters : operations,iterable)\n",
        "        "
      ],
      "metadata": {
        "id": "sqm2SKBO4Lr6"
      }
    },
    {
      "cell_type": "code",
      "source": [],
      "metadata": {
        "id": "ZWMhiiBp4uih"
      },
      "execution_count": null,
      "outputs": []
    }
  ]
}