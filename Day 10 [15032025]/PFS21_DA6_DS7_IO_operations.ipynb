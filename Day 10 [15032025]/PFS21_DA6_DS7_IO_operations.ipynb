{
  "nbformat": 4,
  "nbformat_minor": 0,
  "metadata": {
    "colab": {
      "provenance": []
    },
    "kernelspec": {
      "name": "python3",
      "display_name": "Python 3"
    },
    "language_info": {
      "name": "python"
    }
  },
  "cells": [
    {
      "cell_type": "markdown",
      "source": [
        "#INPUT OPERATIONS\n",
        "    input() [ Value will be considered as String ]"
      ],
      "metadata": {
        "id": "PLcuwK7rhMbU"
      }
    },
    {
      "cell_type": "code",
      "execution_count": 5,
      "metadata": {
        "id": "5j_B-8kfhJlb",
        "colab": {
          "base_uri": "https://localhost:8080/"
        },
        "outputId": "24b1f6f2-9279-4b90-f8e4-078e65b3eb51"
      },
      "outputs": [
        {
          "output_type": "stream",
          "name": "stdout",
          "text": [
            "[10,20,30]\n",
            "[10,20,30]\n",
            "<class 'str'>\n"
          ]
        }
      ],
      "source": [
        "x = input()\n",
        "print(x)\n",
        "print(type(x))"
      ]
    },
    {
      "cell_type": "markdown",
      "source": [
        "#Taking Inputs of integer"
      ],
      "metadata": {
        "id": "gwSekB-YhbV4"
      }
    },
    {
      "cell_type": "code",
      "source": [
        "'''\n",
        "a = input(\"Enter Username: \")\n",
        "b = input(\"Enter Password: \")\n",
        "c = int(input(\"Enter Age: \"))\n",
        "print(a)\n",
        "print(type(a))\n",
        "print(b)\n",
        "print(type(b))\n",
        "print(c)\n",
        "print(type(c))\n",
        "'''\n",
        "'''\n",
        "c = int(input(\"enter a number: \"))\n",
        "print(c)\n",
        "print(type(c))\n",
        "'''\n",
        "'''\n",
        "a1,a2 = map(int,input().split())\n",
        "print(a1+a2)\n",
        "'''\n",
        "'''\n",
        "a1,a2,a3 = map(int,input().split(\"$\"))\n",
        "print(a1+a2+a3)\n",
        "'''"
      ],
      "metadata": {
        "id": "RyuzIFRphhc8",
        "colab": {
          "base_uri": "https://localhost:8080/"
        },
        "outputId": "c0588f11-6e27-493a-e9d4-df22eb639449"
      },
      "execution_count": 28,
      "outputs": [
        {
          "output_type": "stream",
          "name": "stdout",
          "text": [
            "10$20$30\n",
            "60\n"
          ]
        }
      ]
    },
    {
      "cell_type": "markdown",
      "source": [
        "#Taking inputs if float"
      ],
      "metadata": {
        "id": "OIFAd0Cohhtv"
      }
    },
    {
      "cell_type": "code",
      "source": [
        "'''\n",
        "a = input()\n",
        "a = float(a)\n",
        "print(a)\n",
        "print(type(a))\n",
        "'''\n",
        "'''\n",
        "a1 = float(input())\n",
        "print(a1)\n",
        "print(type(a1))\n",
        "'''\n",
        "'''\n",
        "a1,a2 = map(float,input().split())\n",
        "print(a1)\n",
        "print(a2)\n",
        "print(a1+a2)\n",
        "'''"
      ],
      "metadata": {
        "id": "3QyFocULhlbi",
        "colab": {
          "base_uri": "https://localhost:8080/"
        },
        "outputId": "5baba669-c498-4777-f955-1e72e26de754"
      },
      "execution_count": 37,
      "outputs": [
        {
          "output_type": "stream",
          "name": "stdout",
          "text": [
            "10 45.67\n",
            "10.0\n",
            "45.67\n",
            "55.67\n"
          ]
        }
      ]
    },
    {
      "cell_type": "markdown",
      "source": [
        "#Taking inputs of list"
      ],
      "metadata": {
        "id": "lovmA31zhkys"
      }
    },
    {
      "cell_type": "code",
      "source": [
        "'''\n",
        "a = list(map(int,input().split()))\n",
        "print(a)\n",
        "print(type(a))\n",
        "'''\n",
        "'''\n",
        "a1 = list(map(float,input().split()))\n",
        "print(a1)\n",
        "print(type(a1))\n",
        "'''\n",
        "'''\n",
        "a2 = input().split()\n",
        "print(a2)\n",
        "print(type(a2))\n",
        "'''"
      ],
      "metadata": {
        "id": "brovwn3Mhqr9",
        "colab": {
          "base_uri": "https://localhost:8080/"
        },
        "outputId": "87f7401a-8500-4cf6-fe95-7390fe727447"
      },
      "execution_count": 41,
      "outputs": [
        {
          "output_type": "stream",
          "name": "stdout",
          "text": [
            "hello world\n",
            "['hello', 'world']\n",
            "<class 'list'>\n"
          ]
        }
      ]
    },
    {
      "cell_type": "markdown",
      "source": [
        "#Taking inputs of Tuple"
      ],
      "metadata": {
        "id": "8EoWtXdehrD3"
      }
    },
    {
      "cell_type": "code",
      "source": [
        "'''\n",
        "a1 = tuple(map(int,input().split()))\n",
        "print(a1)\n",
        "print(type(a1))\n",
        "'''\n",
        "'''\n",
        "a2 = tuple(map(float,input().split()))\n",
        "print(a2)\n",
        "print(type(a2))\n",
        "'''\n",
        "'''\n",
        "a3 = tuple(input().split())\n",
        "print(a3)\n",
        "print(type(a3))\n",
        "'''"
      ],
      "metadata": {
        "id": "IufSSOkshuvv",
        "colab": {
          "base_uri": "https://localhost:8080/"
        },
        "outputId": "cf35c0e2-f7ab-4c0e-a4bf-02dc735bf3dc"
      },
      "execution_count": 45,
      "outputs": [
        {
          "output_type": "stream",
          "name": "stdout",
          "text": [
            "hello world 10 n45 56\n",
            "('hello', 'world', '10', 'n45', '56')\n",
            "<class 'tuple'>\n"
          ]
        }
      ]
    },
    {
      "cell_type": "markdown",
      "source": [
        "#Taking inputs of sets"
      ],
      "metadata": {
        "id": "F3IKRMgqhvIL"
      }
    },
    {
      "cell_type": "code",
      "source": [
        "'''\n",
        "s1 = set(map(int,input().split()))\n",
        "print(s1)\n",
        "print(type(s1))\n",
        "'''\n",
        "'''\n",
        "s2 = set(map(float,input().split()))\n",
        "print(s2)\n",
        "print(type(s2))\n",
        "'''\n",
        "'''\n",
        "s3 = set(input().split())\n",
        "print(s3)\n",
        "print(type(s3))\n",
        "'''"
      ],
      "metadata": {
        "id": "kiMbTOCkhySv",
        "colab": {
          "base_uri": "https://localhost:8080/"
        },
        "outputId": "79209aa3-4dff-4769-e836-deffe41a5371"
      },
      "execution_count": 50,
      "outputs": [
        {
          "output_type": "stream",
          "name": "stdout",
          "text": [
            "hello world True 45.67 78 45\n",
            "{'hello', 'world', '45', '78', 'True', '45.67'}\n",
            "<class 'set'>\n"
          ]
        }
      ]
    },
    {
      "cell_type": "markdown",
      "source": [
        "#Taking inputs if dictionaries"
      ],
      "metadata": {
        "id": "MIDe26XehyoJ"
      }
    },
    {
      "cell_type": "code",
      "source": [
        "'''\n",
        "d = {}\n",
        "a,b = map(int,input().split())\n",
        "d[a] = b\n",
        "a,b = map(int,input().split())\n",
        "d[a] = b\n",
        "a,b = map(int,input().split())\n",
        "d[a] = b\n",
        "a,b = map(int,input().split())\n",
        "d[a] = b\n",
        "print(d)\n",
        "print(type(d))\n",
        "'''\n",
        "'''\n",
        "keys = list(map(int,input().split()))\n",
        "values = list(map(int,input().split()))\n",
        "dict1 = zip(keys,values)\n",
        "d1 = dict(dict1)\n",
        "print(d1)\n",
        "print(keys)\n",
        "print(values)\n",
        "'''\n",
        "#Problem - 1\n",
        "'''\n",
        "n = int(input())\n",
        "k = int(input())\n",
        "print(k%n)\n",
        "'''\n",
        "#Problem - 2\n",
        "'''\n",
        "n = int(input())\n",
        "k = int(input())\n",
        "print(k//n)\n",
        "'''\n",
        "#Problem - 3\n",
        "'''\n",
        "n = int(input())\n",
        "if n%2==0 and n>2:\n",
        "  print(\"Yes\")\n",
        "else:\n",
        "  print(\"No\")\n",
        "'''"
      ],
      "metadata": {
        "id": "d75LoNzXh2a-",
        "colab": {
          "base_uri": "https://localhost:8080/"
        },
        "outputId": "eed67545-4ac4-4ff9-b96d-236bb0bdde9f"
      },
      "execution_count": 67,
      "outputs": [
        {
          "output_type": "stream",
          "name": "stdout",
          "text": [
            "2\n",
            "No\n"
          ]
        }
      ]
    },
    {
      "cell_type": "markdown",
      "source": [
        "#OUTPUT OPERATIONS\n",
        "    print() [ Prints values given as a parameters ]\n",
        "#Types of Output Operations\n",
        "    1. Using Normal Method\n",
        "    2. Using Modulo Operator\n",
        "    3. Using F - Format\n",
        "    4. Using Dot Format"
      ],
      "metadata": {
        "id": "zE54bfXyh42e"
      }
    },
    {
      "cell_type": "code",
      "source": [],
      "metadata": {
        "id": "pMtqBQNYiLU6"
      },
      "execution_count": null,
      "outputs": []
    },
    {
      "cell_type": "markdown",
      "source": [
        "#USING NORMAL METHOD"
      ],
      "metadata": {
        "id": "r-Jd-HoQiLpZ"
      }
    },
    {
      "cell_type": "code",
      "source": [],
      "metadata": {
        "id": "nlnCVa30im78"
      },
      "execution_count": null,
      "outputs": []
    },
    {
      "cell_type": "markdown",
      "source": [
        "#USING MODULO OPERATOR\n",
        "    %d - For Integers\n",
        "    %f - For Floats\n",
        "    %s - For Strings"
      ],
      "metadata": {
        "id": "1O_RqI6AinO9"
      }
    },
    {
      "cell_type": "code",
      "source": [],
      "metadata": {
        "id": "HLVfqpEqiyxp"
      },
      "execution_count": null,
      "outputs": []
    },
    {
      "cell_type": "markdown",
      "source": [
        "#USING F - FORMAT"
      ],
      "metadata": {
        "id": "eH5WQtduizLT"
      }
    },
    {
      "cell_type": "code",
      "source": [],
      "metadata": {
        "id": "ZOJUkxwHi1GG"
      },
      "execution_count": null,
      "outputs": []
    },
    {
      "cell_type": "markdown",
      "source": [
        "#USING DOT FORMAT"
      ],
      "metadata": {
        "id": "rVUi9xgmi1i7"
      }
    },
    {
      "cell_type": "code",
      "source": [],
      "metadata": {
        "id": "cmaMDZFji4uc"
      },
      "execution_count": null,
      "outputs": []
    }
  ]
}