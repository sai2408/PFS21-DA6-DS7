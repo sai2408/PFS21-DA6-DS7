{
  "nbformat": 4,
  "nbformat_minor": 0,
  "metadata": {
    "colab": {
      "provenance": []
    },
    "kernelspec": {
      "name": "python3",
      "display_name": "Python 3"
    },
    "language_info": {
      "name": "python"
    }
  },
  "cells": [
    {
      "cell_type": "markdown",
      "source": [
        "#**Functions**\n",
        "    A function in Python is a block of reusable code that performs a specific task.\n",
        "    Functions help improve code reusability.\n",
        "\n",
        "#**Types of Functions**\n",
        "    1. Builtin Functions\n",
        "    2. User Defined Functions\n",
        "    3. Lambda Functions"
      ],
      "metadata": {
        "id": "xb7zWUjI0B1b"
      }
    },
    {
      "cell_type": "markdown",
      "source": [
        "#**Builtin functions**\n",
        "    1. abs()\n",
        "    2. chr()\n",
        "    3. ord()\n",
        "    4. eval()\n",
        "    5. bin()\n",
        "    6. hex()\n",
        "    7. oct()\n"
      ],
      "metadata": {
        "id": "DzExNQrM0kWg"
      }
    },
    {
      "cell_type": "code",
      "execution_count": null,
      "metadata": {
        "id": "MDwq0OFcz8lo",
        "colab": {
          "base_uri": "https://localhost:8080/"
        },
        "outputId": "4c48cfcb-8f6e-4e61-bf78-7f95d4ca8a09"
      },
      "outputs": [
        {
          "output_type": "stream",
          "name": "stdout",
          "text": [
            "10\n",
            "10\n",
            "97\n",
            "90\n",
            "49\n",
            "A\n",
            "W\n",
            "5\n",
            "20\n",
            "16\n",
            "0b1000\n",
            "0o10\n",
            "0x8\n"
          ]
        }
      ],
      "source": [
        "print(abs(10))\n",
        "print(abs(-10))\n",
        "\n",
        "print(ord(\"a\"))\n",
        "print(ord(\"Z\"))\n",
        "print(ord(\"1\"))\n",
        "\n",
        "print(chr(65))\n",
        "print(chr(87))\n",
        "print(chr(53))\n",
        "\n",
        "x = \"10+20-10\"\n",
        "print(eval(x))\n",
        "x2 = \"10+(20//3)\"\n",
        "print(eval(x2))\n",
        "\n",
        "x = 8\n",
        "print(bin(x))\n",
        "print(oct(x))\n",
        "print(hex(x))"
      ]
    },
    {
      "cell_type": "markdown",
      "source": [
        "#**User Defined Functions**\n",
        "    1. With Parameters With Return Types\n",
        "    2. With Parameters Without Return Types\n",
        "    3. Without Parameters With Return Types\n",
        "    4. Without Parameters Without Return Types\n",
        "    5. Recursive Functions"
      ],
      "metadata": {
        "id": "mEPlnVC01qeH"
      }
    },
    {
      "cell_type": "code",
      "source": [
        "#WPWR\n",
        "'''\n",
        "def anything(a):\n",
        "  if a%2==0:\n",
        "    return \"Even\"\n",
        "  else:\n",
        "    return \"Odd\"\n",
        "n = int(input())\n",
        "print(anything(n))\n",
        "'''\n",
        "#WPWOR\n",
        "'''\n",
        "def anything(a):\n",
        "  if a%2==0:\n",
        "    print(\"Even\")\n",
        "  else:\n",
        "    print(\"Odd\")\n",
        "n = int(input())\n",
        "anything(n)\n",
        "'''\n",
        "#WOPWR\n",
        "'''\n",
        "def data():\n",
        "  a = int(input())\n",
        "  if a%2==0:\n",
        "    return \"Even\"\n",
        "  else:\n",
        "    return \"Odd\"\n",
        "print(data())\n",
        "'''\n",
        "#WOPWOR\n",
        "'''\n",
        "def data():\n",
        "  a = int(input())\n",
        "  if a%2==0:\n",
        "    print(\"Even\")\n",
        "  else:\n",
        "    print(\"Odd\")\n",
        "data()\n",
        "'''\n",
        "#Problem - 1\n",
        "a = 1000\n",
        "b = 200\n",
        "c = 30\n",
        "if a>b and a>c:\n",
        "  a = 0\n",
        "elif b>a and b>c:\n",
        "  b = 0\n",
        "else:\n",
        "  c = 0\n",
        "if a>b and a>c:\n",
        "  print(a)\n",
        "elif b>a and b>c:\n",
        "  print(b)\n",
        "else:\n",
        "  print(c)"
      ],
      "metadata": {
        "colab": {
          "base_uri": "https://localhost:8080/"
        },
        "id": "tyZNNDCt7V_3",
        "outputId": "1d92c20d-2bdd-4162-f132-184c52439301"
      },
      "execution_count": null,
      "outputs": [
        {
          "output_type": "stream",
          "name": "stdout",
          "text": [
            "200\n"
          ]
        }
      ]
    },
    {
      "cell_type": "code",
      "source": [
        "#Problem - 1\n",
        "'''\n",
        "def hello(x):\n",
        "  if x >= 1:\n",
        "    print(x)\n",
        "    hello(x-1)\n",
        "hello(10)\n",
        "'''\n",
        "#Problem - 2\n",
        "'''\n",
        "def hello(x):\n",
        "  if x <= 10:\n",
        "    print(x)\n",
        "    hello(x+1)\n",
        "hello(1)\n",
        "'''\n",
        "#Problem - 3\n",
        "'''\n",
        "n = int(input())\n",
        "def hello(x):\n",
        "  if x<=n:\n",
        "    print(x)\n",
        "    hello(x+1)\n",
        "hello(1)\n",
        "'''\n",
        "#Problem - 3\n",
        "'''\n",
        "def fact(n):\n",
        "  if n == 1:\n",
        "    return 1\n",
        "  else:\n",
        "    return n * fact(n-1)\n",
        "print(fact(5))\n",
        "'''\n",
        "#Problem - 4\n",
        "'''\n",
        "def hello(x):\n",
        "  if x > 0:\n",
        "    return x + hello(x-1)\n",
        "  else:\n",
        "    return 0\n",
        "x = hello(3)\n",
        "print(x)\n",
        "'''\n",
        "#Problem - 5\n",
        "'''\n",
        "def hello(x):\n",
        "  if x == 0:\n",
        "    return  0\n",
        "  else:\n",
        "    return x%10 + hello(x//10)\n",
        "res = hello(143)\n",
        "print(res)\n",
        "'''\n",
        "#Problem - 6\n",
        "'''\n",
        "def hello(a,b):\n",
        "  if b == 0:\n",
        "    return 0\n",
        "  else:\n",
        "    return a + hello(a,b-1)\n",
        "x = hello(5,4)\n",
        "print(x)\n",
        "'''\n"
      ],
      "metadata": {
        "colab": {
          "base_uri": "https://localhost:8080/"
        },
        "id": "jfAg2tImAVyF",
        "outputId": "bb41ec75-b57a-4dc4-dc32-6126aca96b38"
      },
      "execution_count": null,
      "outputs": [
        {
          "output_type": "stream",
          "name": "stdout",
          "text": [
            "20\n"
          ]
        }
      ]
    },
    {
      "cell_type": "markdown",
      "source": [
        "#**Pass By Reference**\n",
        "    All parameters (arguments) in python language are passed by reference\n",
        "    It means when we change a parameter within a function the change will reflects in main object\n"
      ],
      "metadata": {
        "id": "a2Hog2Dc193M"
      }
    },
    {
      "cell_type": "code",
      "source": [],
      "metadata": {
        "id": "jGSJYROl2hqf"
      },
      "execution_count": null,
      "outputs": []
    },
    {
      "cell_type": "markdown",
      "source": [
        "#**Function Arguments**\n",
        "    1. Default Arguments\n",
        "    2. Required Arguments\n",
        "    3. Keyword Arguments\n",
        "    4. Variable number of arguments"
      ],
      "metadata": {
        "id": "cOlc7zJ_2mOw"
      }
    },
    {
      "cell_type": "code",
      "source": [
        "#Required Arguments\n",
        "'''\n",
        "def hello(a,b,c):\n",
        "  print(a+b+c)\n",
        "hello(10,20,30)\n",
        "hello(10,20,40,60)\n",
        "'''\n",
        "'''\n",
        "#Default Arguments\n",
        "def hello(a=0,b=0,c=0):\n",
        "  print(a+b+c)\n",
        "hello(10,20,30)\n",
        "hello(20,30)\n",
        "hello(10)\n",
        "hello()\n",
        "'''\n",
        "#Keyword\n",
        "'''\n",
        "def fun(a,b):\n",
        "  print(\"Age = \",a)\n",
        "  print(\"Height = \",b)\n",
        "fun(60,6.5)\n",
        "fun(6.5,60)\n",
        "fun(a=60,b=6.5)\n",
        "fun(b=6.5,a=60)\n",
        "'''\n",
        "#Variable number of arguments\n",
        "'''\n",
        "def hello(*a):\n",
        "  print(a)\n",
        "  res = 0\n",
        "  for i in a:\n",
        "    res = res + i\n",
        "  print(res)\n",
        "hello(10)\n",
        "hello(10,20)\n",
        "hello(10,20,30)\n",
        "hello(10,20,30,40)\n",
        "'''\n",
        "#Problem - 1\n",
        "'''\n",
        "def hello(n,a=1):\n",
        "  if a <= n:\n",
        "    print(a)\n",
        "    hello(n,a+1)\n",
        "hello(5)\n",
        "'''\n",
        "#Problem - 2\n",
        "#WPWOR\n",
        "'''\n",
        "def hello(n):\n",
        "  n = abs(n)\n",
        "  n = str(n)\n",
        "  print(n[0])\n",
        "  print(n[1])\n",
        "  print(n[2])\n",
        "n = int(input())\n",
        "hello(n)\n",
        "'''\n",
        "#WPWR\n",
        "'''\n",
        "def hello(n):\n",
        "  n = abs(n)\n",
        "  n = str(n)\n",
        "  return n[0],n[1],n[2]\n",
        "n = int(input())\n",
        "a,b,c = hello(n)\n",
        "print(a)\n",
        "print(b)\n",
        "print(c)\n",
        "'''"
      ],
      "metadata": {
        "id": "5Vqeuvfz25bB",
        "colab": {
          "base_uri": "https://localhost:8080/"
        },
        "outputId": "b4d096d5-8091-42cb-e630-8502fad551d6"
      },
      "execution_count": null,
      "outputs": [
        {
          "output_type": "stream",
          "name": "stdout",
          "text": [
            "197\n",
            "1\n",
            "9\n",
            "7\n"
          ]
        }
      ]
    },
    {
      "cell_type": "markdown",
      "source": [
        "##**Scope of the variables**\n",
        "    1. Local Variable\n",
        "    2. Global Variable"
      ],
      "metadata": {
        "id": "DndZUGab25xy"
      }
    },
    {
      "cell_type": "code",
      "source": [
        "#Example - 1\n",
        "'''\n",
        "x1 = 100\n",
        "def hello():\n",
        "  x1 = 200\n",
        "  print(x1)\n",
        "print(x1)\n",
        "hello()\n",
        "'''\n",
        "#Example - 2\n",
        "'''\n",
        "x1 = 100\n",
        "def hello():\n",
        "  print(x1)\n",
        "print(x1)\n",
        "hello()\n",
        "'''\n",
        "#Example - 3\n",
        "'''\n",
        "def hello():\n",
        "  global x11\n",
        "  x11 = 100\n",
        "  print(x11)\n",
        "hello()\n",
        "print(x11)\n",
        "'''\n"
      ],
      "metadata": {
        "id": "rj6JOEen3Bje",
        "colab": {
          "base_uri": "https://localhost:8080/"
        },
        "outputId": "ee7f8d66-56b8-4cd5-c546-f7f854841fc4"
      },
      "execution_count": 6,
      "outputs": [
        {
          "output_type": "stream",
          "name": "stdout",
          "text": [
            "100\n",
            "100\n"
          ]
        }
      ]
    },
    {
      "cell_type": "markdown",
      "source": [
        "#**Lambda Functions (Anonymous Functions)**\n",
        "    syntax :\n",
        "        fun_name = lambda parameters : operations"
      ],
      "metadata": {
        "id": "gA1GqLWS3ECL"
      }
    },
    {
      "cell_type": "code",
      "source": [
        "'''\n",
        "def hello(a,b):\n",
        "  return a+b\n",
        "'''\n",
        "hello = lambda a,b : a+b\n",
        "x = hello(10,20)\n",
        "print(x)"
      ],
      "metadata": {
        "id": "ajwF4mCE3Qo9",
        "colab": {
          "base_uri": "https://localhost:8080/"
        },
        "outputId": "fcb49eaa-7c9e-426c-b9f6-c007c19afc98"
      },
      "execution_count": 8,
      "outputs": [
        {
          "output_type": "stream",
          "name": "stdout",
          "text": [
            "30\n"
          ]
        }
      ]
    },
    {
      "cell_type": "markdown",
      "source": [
        "#**Lambda With Filter**\n",
        "    1. Filters an iterable based on a function\n",
        "    2. Allows us to create a easy way of filtering elements\n",
        "    Syntax:\n",
        "        fun_name = filter(lambda parameters : operations, iterable)\n",
        "  "
      ],
      "metadata": {
        "id": "c-f3D-Gg3wxc"
      }
    },
    {
      "cell_type": "code",
      "source": [
        "'''\n",
        "x = [11,12,13,14,15]\n",
        "res = []\n",
        "for i in x:\n",
        "  if i%2==0:\n",
        "    res.append(i)\n",
        "print(res)\n",
        "'''\n",
        "'''\n",
        "def hello(x):\n",
        "  res = []\n",
        "  for i in x:\n",
        "    if i%2==0:\n",
        "      res.append(i)\n",
        "  return res\n",
        "x = [11,12,13,14,15]\n",
        "v1 = hello(x)\n",
        "print(v1)\n",
        "'''\n",
        "'''\n",
        "x1= [11,12,13,14,15]\n",
        "hello = list(filter(lambda x : x%2==0,x1))\n",
        "print(hello)\n",
        "'''\n",
        "'''\n",
        "x = [1,-1,10,-10,34]\n",
        "abc = list(filter(lambda i : i>0,x))\n",
        "print(abc)\n",
        "'''"
      ],
      "metadata": {
        "id": "23yiXBoR4LPc",
        "colab": {
          "base_uri": "https://localhost:8080/"
        },
        "outputId": "c7d46440-70a4-4a70-84e9-63be18a8ff23"
      },
      "execution_count": 21,
      "outputs": [
        {
          "output_type": "stream",
          "name": "stdout",
          "text": [
            "[1, 10, 34]\n"
          ]
        }
      ]
    },
    {
      "cell_type": "markdown",
      "source": [
        "#**Lambda with Map**\n",
        "    1. Applies a function to each item in am iterable and returing a new iterable with the results.\n",
        "    2. Allows us to create an easy way of transformation of elements\n",
        "    Syntax:\n",
        "        fun_name = map(lambda parameters : operations,iterable)\n",
        "        "
      ],
      "metadata": {
        "id": "sqm2SKBO4Lr6"
      }
    },
    {
      "cell_type": "code",
      "source": [
        "'''\n",
        "x = [1,2,3,4,5]\n",
        "res = list(map(lambda i : i*2,x))\n",
        "print(res)\n",
        "'''"
      ],
      "metadata": {
        "id": "ZWMhiiBp4uih",
        "colab": {
          "base_uri": "https://localhost:8080/"
        },
        "outputId": "88cb9b9d-1246-4f62-b709-903ea80b139b"
      },
      "execution_count": 22,
      "outputs": [
        {
          "output_type": "stream",
          "name": "stdout",
          "text": [
            "[2, 4, 6, 8, 10]\n"
          ]
        }
      ]
    },
    {
      "cell_type": "code",
      "source": [
        "#Problem - 1\n",
        "'''\n",
        "names = [\"Sai vardhan Naidu\",\"vardhan reddy\",\"vivek reddy\",\"koushik chowdary\"]\n",
        "result = list(filter(lambda x : x.endswith(\"reddy\"),names))\n",
        "print(result)\n",
        "'''\n",
        "#Problem - 2\n",
        "'''\n",
        "data = [\"helllo\",\"\",\"world\",\"python\",\"class\",\"\",\"codegnan\"]\n",
        "result = list(filter(lambda i : i!=\"\",data))\n",
        "print(result)\n",
        "'''\n",
        "#Problem - 3\n",
        "'''\n",
        "values = [\"hello\",\"vivek\",\"Hari\",\"Manohar\"]\n",
        "result = list(map(lambda i : i.upper(),values))\n",
        "print(result)\n",
        "'''\n",
        "#Problem - 4\n",
        "'''\n",
        "numbers = [1,2,3,4,5,6]\n",
        "res1 = list(filter(lambda i : i%2==0,numbers))\n",
        "res2 = list(map(lambda i : i**2,res1))\n",
        "print(res2)\n",
        "'''\n",
        "#Problem - 5\n",
        "'''\n",
        "numbers = [1,-3,4,-2,2,-100,3]\n",
        "res1 = list(filter(lambda i : i>0,numbers))\n",
        "res2 = list(map(lambda i : i**2,res1))\n",
        "print(res2)\n",
        "'''\n",
        "#Problem - 6'\n",
        "'''\n",
        "words = [\"apple\",\"banana\",\"cherry\",\"kiwi\"]\n",
        "res1 = list(filter(lambda i : \"a\" in i,words))\n",
        "res2 = list(map(lambda i : len(i),res1))\n",
        "print(res2)\n",
        "'''\n",
        "#Problem - 7\n",
        "'''\n",
        "marks = [(\"alice\",50),(\"vivek\",70),(\"suresh\",80)]\n",
        "result = list(filter(lambda i : i[1]>75,marks))\n",
        "print(result)\n",
        "'''\n",
        "#Problem - 8\n",
        "'''\n",
        "mails = [\"aa@gmail.com\",\"vv@codegnan.com\",\"hello@gmail.com\",\"sam@gmil.com\"]\n",
        "result = list(filter(lambda i : i.endswith(\"@gmail.com\"),mails))\n",
        "print(result)\n",
        "'''"
      ],
      "metadata": {
        "colab": {
          "base_uri": "https://localhost:8080/"
        },
        "id": "P8gLf3S0jZd1",
        "outputId": "aaf83890-c231-436c-a890-77c6d756493a"
      },
      "execution_count": 34,
      "outputs": [
        {
          "output_type": "stream",
          "name": "stdout",
          "text": [
            "['aa@gmail.com', 'hello@gmail.com']\n"
          ]
        }
      ]
    }
  ]
}