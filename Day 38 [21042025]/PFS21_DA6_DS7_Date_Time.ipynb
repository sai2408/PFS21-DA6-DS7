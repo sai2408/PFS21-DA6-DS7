{
  "nbformat": 4,
  "nbformat_minor": 0,
  "metadata": {
    "colab": {
      "provenance": []
    },
    "kernelspec": {
      "name": "python3",
      "display_name": "Python 3"
    },
    "language_info": {
      "name": "python"
    }
  },
  "cells": [
    {
      "cell_type": "markdown",
      "source": [
        "#DATE & TIME\n",
        "    1. date\n",
        "    2. time\n",
        "    3. datetime\n",
        "    4. timedelta"
      ],
      "metadata": {
        "id": "G3rzKDyYQ7Vj"
      }
    },
    {
      "cell_type": "markdown",
      "source": [
        "#date\n",
        "    1. today()\n",
        "        1.1. today().year\n",
        "        1.2. today().month\n",
        "        1.3. today().day\n",
        "    2. date(yyyy,mm,dd)\n",
        "\n"
      ],
      "metadata": {
        "id": "dCRayrouTq8V"
      }
    },
    {
      "cell_type": "code",
      "source": [
        "from datetime import date\n",
        "\n",
        "temp_date = date(2023,8,24)\n",
        "print(temp_date)\n",
        "print(temp_date.year)\n",
        "print(temp_date.month)\n",
        "print(temp_date.day)\n",
        "\n",
        "temp1 = date(2023,8,31)\n",
        "print(temp1)\n",
        "temp2 = date(2023,9,30)\n",
        "print(temp2)\n",
        "temp3 = date(2023,12,30)\n",
        "print(temp3)"
      ],
      "metadata": {
        "id": "K_sCghrKTvdY",
        "colab": {
          "base_uri": "https://localhost:8080/"
        },
        "outputId": "c5dac345-e85d-453d-b7b1-68ec38c1dc26"
      },
      "execution_count": 14,
      "outputs": [
        {
          "output_type": "stream",
          "name": "stdout",
          "text": [
            "2023-08-24\n",
            "2023-08-31\n",
            "2023-09-30\n",
            "2023-12-30\n",
            "2023\n",
            "8\n",
            "24\n"
          ]
        }
      ]
    },
    {
      "cell_type": "code",
      "source": [
        "from datetime import date\n",
        "\n",
        "cur_date = date.today()\n",
        "print(cur_date)\n",
        "\n",
        "print(cur_date.year)\n",
        "print(cur_date.month)\n",
        "print(cur_date.day)"
      ],
      "metadata": {
        "colab": {
          "base_uri": "https://localhost:8080/"
        },
        "id": "80YrNj6R6uJw",
        "outputId": "5e1e4f39-27e0-41e5-e1c0-2b17fd7c7479"
      },
      "execution_count": 16,
      "outputs": [
        {
          "output_type": "stream",
          "name": "stdout",
          "text": [
            "2025-04-21\n",
            "2025\n",
            "4\n",
            "21\n"
          ]
        }
      ]
    },
    {
      "cell_type": "markdown",
      "source": [
        "#time\n",
        "    1. time(hh,mm,ss)\n",
        "        1.1. time(hh,mm,ss).hour\n",
        "        1.2. time(hh,mm,ss).minute\n",
        "        1.3. time(hh,mm,ss).second\n",
        "    "
      ],
      "metadata": {
        "id": "ZiHiJYnZTstO"
      }
    },
    {
      "cell_type": "code",
      "source": [
        "from datetime import time\n",
        "\n",
        "temp_time = time(12,10,11)\n",
        "print(temp_time)\n",
        "print(temp_time.hour)\n",
        "print(temp_time.minute)\n",
        "print(temp_time.second)\n",
        "\n",
        "focus = time(23,59,59)\n",
        "print(focus)\n",
        "\n"
      ],
      "metadata": {
        "id": "Hv5G135kT_l_",
        "colab": {
          "base_uri": "https://localhost:8080/"
        },
        "outputId": "64ef2d18-026e-4040-deff-c3d26f3c5fde"
      },
      "execution_count": 30,
      "outputs": [
        {
          "output_type": "stream",
          "name": "stdout",
          "text": [
            "12:10:11\n",
            "12\n",
            "10\n",
            "11\n",
            "23:59:59\n"
          ]
        }
      ]
    },
    {
      "cell_type": "markdown",
      "source": [
        "#datetime\n",
        "    1. datetime.now()\n",
        "    2. datetime.today()"
      ],
      "metadata": {
        "id": "X-VobpGdTtk1"
      }
    },
    {
      "cell_type": "code",
      "source": [
        "from datetime import datetime\n",
        "\n",
        "temp = datetime.today()\n",
        "print(temp)\n",
        "\n",
        "print(temp.year)\n",
        "print(temp.month)\n",
        "print(temp.day)\n",
        "print(temp.hour)\n",
        "print(temp.minute)\n",
        "print(temp.second)"
      ],
      "metadata": {
        "id": "aBeSzQRhT3hd",
        "colab": {
          "base_uri": "https://localhost:8080/"
        },
        "outputId": "ab469032-2708-4566-9500-cddf8ac972ed"
      },
      "execution_count": 38,
      "outputs": [
        {
          "output_type": "stream",
          "name": "stdout",
          "text": [
            "2025-04-21 06:09:04.941987\n",
            "2025\n",
            "4\n",
            "21\n",
            "6\n",
            "9\n",
            "4\n"
          ]
        }
      ]
    },
    {
      "cell_type": "code",
      "source": [
        "from datetime import datetime\n",
        "\n",
        "temp = datetime.now()\n",
        "print(temp)\n",
        "\n",
        "print(temp.year)\n",
        "print(temp.month)\n",
        "print(temp.day)\n",
        "print(temp.hour)\n",
        "print(temp.minute)\n",
        "print(temp.second)"
      ],
      "metadata": {
        "colab": {
          "base_uri": "https://localhost:8080/"
        },
        "id": "OptWdBgZ-gei",
        "outputId": "24724b8b-fb89-4d16-a066-f1973f47bc68"
      },
      "execution_count": 42,
      "outputs": [
        {
          "output_type": "stream",
          "name": "stdout",
          "text": [
            "2025-04-21 06:13:55.312691\n",
            "2025\n",
            "4\n",
            "21\n",
            "6\n",
            "13\n",
            "55\n"
          ]
        }
      ]
    },
    {
      "cell_type": "markdown",
      "source": [
        "#Formatting Date and Time\n",
        "    1. now.strftime(<format>)\n",
        "        %Y - Year\n",
        "        %m - Month\n",
        "        %d - day\n",
        "        %H - Hour\n",
        "        %M - Minute\n",
        "        %S - Second\n",
        "    2. datetime.strptime(<date string>,<format>)"
      ],
      "metadata": {
        "id": "Iy5kGuB2UF1a"
      }
    },
    {
      "cell_type": "code",
      "source": [
        "from datetime import datetime\n",
        "temp = datetime.now()\n",
        "print(temp)\n",
        "\n",
        "temp1 = datetime.now()\n",
        "temp2 = temp1.strftime(\"%Y / %m / %d - %H : %M : %S\")\n",
        "print(temp1)\n",
        "print(temp2)\n",
        "temp3 = temp1.strftime(\"%d/%m/%Y\")\n",
        "print(temp3)\n",
        "temp4 = temp1.strftime(\"%H:%M:%S\")\n",
        "print(temp4)\n",
        "print(temp1.strftime(\"%Y\"))\n",
        "print(temp1.strftime(\"%m\"))\n",
        "print(temp1.strftime(\"%M\"))"
      ],
      "metadata": {
        "id": "oKUqSD5kUIC6",
        "colab": {
          "base_uri": "https://localhost:8080/"
        },
        "outputId": "39751876-9c02-47d9-e0d9-0cf4b1506a01"
      },
      "execution_count": 54,
      "outputs": [
        {
          "output_type": "stream",
          "name": "stdout",
          "text": [
            "2025-04-21 06:26:07.008670\n",
            "2025-04-21 06:26:07.010023\n",
            "2025 / 04 / 21 - 06 : 26 : 07\n",
            "21/04/2025\n",
            "06:26:07\n",
            "<class 'str'>\n",
            "2025\n",
            "04\n",
            "26\n"
          ]
        }
      ]
    },
    {
      "cell_type": "code",
      "source": [
        "from datetime import datetime\n",
        "temp = \"2023/8/24 12:12:12\"\n",
        "temp1 = datetime.strptime(temp,\"%Y/%m/%d %H:%M:%S\")\n",
        "print(temp1)\n",
        "print(temp1.year)\n",
        "\n",
        "temp2 = \"2023-13-13:13/4/24\"\n",
        "temp3 = datetime.strptime(temp2,\"%Y-%H-%M:%S/%m/%d\")\n",
        "print(temp3)\n",
        "print(temp3.minute)"
      ],
      "metadata": {
        "colab": {
          "base_uri": "https://localhost:8080/"
        },
        "id": "xd8CX-igCROW",
        "outputId": "41ffad88-c5c0-424f-92d4-be869f747357"
      },
      "execution_count": 60,
      "outputs": [
        {
          "output_type": "stream",
          "name": "stdout",
          "text": [
            "2023-08-24 12:12:12\n",
            "2023\n",
            "2023-04-24 13:13:13\n",
            "13\n"
          ]
        }
      ]
    },
    {
      "cell_type": "markdown",
      "source": [
        "#Performing Date Arithmetic\n"
      ],
      "metadata": {
        "id": "SpU717BGUMN8"
      }
    },
    {
      "cell_type": "code",
      "source": [
        "from datetime import timedelta\n",
        "temp1 = datetime.now()\n",
        "print(temp1)\n",
        "temp2 = datetime.now() + timedelta(days = 10)\n",
        "print(temp2)\n",
        "temp3 = datetime.now() - timedelta(days = 22)\n",
        "print(temp3)\n",
        "temp4 = temp2 - temp1\n",
        "print(temp4)\n",
        "temp5 = temp1 - temp2\n",
        "print(temp5)"
      ],
      "metadata": {
        "id": "wD91EtczUNr8",
        "colab": {
          "base_uri": "https://localhost:8080/"
        },
        "outputId": "e1bc3e6e-168c-4518-aca8-e38bbeb4025f"
      },
      "execution_count": 73,
      "outputs": [
        {
          "output_type": "stream",
          "name": "stdout",
          "text": [
            "2025-04-21 06:47:07.946543\n",
            "2025-05-01 06:47:07.946699\n",
            "2025-03-30 06:47:07.946784\n",
            "10 days, 0:00:00.000156\n",
            "-11 days, 23:59:59.999844\n"
          ]
        }
      ]
    },
    {
      "cell_type": "markdown",
      "source": [
        "#Time Module\n",
        "    1. time.time()\n",
        "    2. time.sleep(<value>)"
      ],
      "metadata": {
        "id": "beRhyrohUX2q"
      }
    },
    {
      "cell_type": "code",
      "source": [],
      "metadata": {
        "id": "-a_seNmQUXVh"
      },
      "execution_count": null,
      "outputs": []
    }
  ]
}