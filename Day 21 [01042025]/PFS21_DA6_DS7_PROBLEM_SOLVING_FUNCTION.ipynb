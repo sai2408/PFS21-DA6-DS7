{
  "nbformat": 4,
  "nbformat_minor": 0,
  "metadata": {
    "colab": {
      "provenance": []
    },
    "kernelspec": {
      "name": "python3",
      "display_name": "Python 3"
    },
    "language_info": {
      "name": "python"
    }
  },
  "cells": [
    {
      "cell_type": "markdown",
      "source": [
        "RANGE SUM PROBLEM"
      ],
      "metadata": {
        "id": "LX-3kHxU75hr"
      }
    },
    {
      "cell_type": "code",
      "execution_count": null,
      "metadata": {
        "id": "qIz4bY-bzc38",
        "colab": {
          "base_uri": "https://localhost:8080/"
        },
        "outputId": "374d0fd4-a330-40c3-ac45-b987e0ada14e"
      },
      "outputs": [
        {
          "output_type": "stream",
          "name": "stdout",
          "text": [
            "4 1\n",
            "1 2 3 4 \n",
            "1 3\n",
            "6\n"
          ]
        }
      ],
      "source": [
        "def findout(arr,l,r):\n",
        "    res = arr[l-1:r]\n",
        "    return sum(res)\n",
        "\n",
        "n,q = map(int,input().split())\n",
        "arr = list(map(int,input().split()))\n",
        "for i in range(q):\n",
        "    a,b = map(int,input().split())\n",
        "    print(findout(arr,a,b))"
      ]
    },
    {
      "cell_type": "markdown",
      "source": [
        "PANGRAM"
      ],
      "metadata": {
        "id": "QOBbpPuZAlWo"
      }
    },
    {
      "cell_type": "code",
      "source": [
        "#Approach - 1\n",
        "'''\n",
        "n = int(input())\n",
        "s = input()\n",
        "s = s.lower()\n",
        "values = \"qwertyuiopasdfghjklzxcvbnm\"\n",
        "temp = True\n",
        "for i in values:\n",
        "  if i not in s:\n",
        "    temp = False\n",
        "    break\n",
        "if temp == True:\n",
        "  print(\"YES\")\n",
        "else:\n",
        "  print(\"NO\")\n",
        "'''\n",
        "#Approach - 2\n",
        "'''\n",
        "n = int(input())\n",
        "s = input()\n",
        "s = s.lower()\n",
        "r1 = []\n",
        "for i in s:\n",
        "  if i.isalpha():\n",
        "    r1.append(i)\n",
        "print(r1)\n",
        "s1 = set(r1)\n",
        "print(s1)\n",
        "if len(s1) == 26:\n",
        "  print(\"YES\")\n",
        "else:\n",
        "  print(\"NO\")\n",
        "'''"
      ],
      "metadata": {
        "id": "ESug7BjKAmOn",
        "colab": {
          "base_uri": "https://localhost:8080/",
          "height": 53
        },
        "outputId": "c9a74f85-2896-486a-ba10-22317f6ac59e"
      },
      "execution_count": 9,
      "outputs": [
        {
          "output_type": "execute_result",
          "data": {
            "text/plain": [
              "'\\nn = int(input())\\ns = input()\\ns = s.lower()\\nr1 = []\\nfor i in s:\\n  if i.isalpha():\\n    r1.append(i)\\nprint(r1)\\ns1 = set(r1)\\nprint(s1)\\nif len(s1) == 26:\\n  print(\"YES\")\\nelse:\\n  print(\"NO\")\\n'"
            ],
            "application/vnd.google.colaboratory.intrinsic+json": {
              "type": "string"
            }
          },
          "metadata": {},
          "execution_count": 9
        }
      ]
    }
  ]
}